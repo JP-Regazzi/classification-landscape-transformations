{
 "cells": [
  {
   "cell_type": "code",
   "execution_count": 1,
   "metadata": {},
   "outputs": [],
   "source": [
    "import geopandas as gpd\n",
    "import pandas as pd\n",
    "import numpy as np\n",
    "import seaborn as sbr\n",
    "from datetime import datetime\n",
    "import matplotlib.pyplot as plt\n",
    "import random\n",
    "import plotly.express as px\n",
    "\n",
    "from sklearn.preprocessing import LabelEncoder\n",
    "from sklearn.neighbors import KNeighborsClassifier\n",
    "from sklearn.metrics import accuracy_score\n",
    "from sklearn.linear_model import LinearRegression\n",
    "from sklearn.impute import KNNImputer\n",
    "from sklearn.cluster import KMeans\n",
    "from sklearn import metrics\n",
    "from scipy.spatial.distance import cdist\n",
    "from sklearn.neural_network import MLPClassifier\n",
    "from treatment_train import clean_data as clean_train\n",
    "from treatment_test import clean_data as clean_test"
   ]
  },
  {
   "cell_type": "code",
   "execution_count": 2,
   "metadata": {},
   "outputs": [],
   "source": [
    "train_df = gpd.read_file('train.geojson')\n",
    "test_df = gpd.read_file('test.geojson')"
   ]
  },
  {
   "cell_type": "code",
   "execution_count": 11,
   "metadata": {},
   "outputs": [
    {
     "data": {
      "text/plain": [
       "Residential      148435\n",
       "Commercial       100422\n",
       "Demolition        31509\n",
       "Road              14305\n",
       "Industrial         1324\n",
       "Mega Projects       151\n",
       "Name: change_type, dtype: int64"
      ]
     },
     "execution_count": 11,
     "metadata": {},
     "output_type": "execute_result"
    }
   ],
   "source": [
    "train_df['change_type'].value_counts()"
   ]
  },
  {
   "cell_type": "code",
   "execution_count": 3,
   "metadata": {},
   "outputs": [
    {
     "name": "stderr",
     "output_type": "stream",
     "text": [
      "c:\\Users\\nicol\\OneDrive\\Documents\\DD\\SG6\\Machine Learning\\Kaggle\\treatment_train.py:112: UserWarning: Geometry is in a geographic CRS. Results from 'area' are likely incorrect. Use 'GeoSeries.to_crs()' to re-project geometries to a projected CRS before this operation.\n",
      "\n",
      "  train_area = np.asarray(df[['geometry']].area).reshape(-1, 1)\n",
      "c:\\Users\\nicol\\OneDrive\\Documents\\DD\\SG6\\Machine Learning\\Kaggle\\treatment_train.py:113: UserWarning: Geometry is in a geographic CRS. Results from 'length' are likely incorrect. Use 'GeoSeries.to_crs()' to re-project geometries to a projected CRS before this operation.\n",
      "\n",
      "  train_per = np.asarray(df[['geometry']].length).reshape(-1, 1)\n",
      "c:\\Users\\nicol\\OneDrive\\Documents\\DD\\SG6\\Machine Learning\\Kaggle\\treatment_test.py:86: UserWarning: Geometry is in a geographic CRS. Results from 'area' are likely incorrect. Use 'GeoSeries.to_crs()' to re-project geometries to a projected CRS before this operation.\n",
      "\n",
      "  test_area = np.asarray(df[['geometry']].area).reshape(-1, 1)\n",
      "c:\\Users\\nicol\\OneDrive\\Documents\\DD\\SG6\\Machine Learning\\Kaggle\\treatment_test.py:87: UserWarning: Geometry is in a geographic CRS. Results from 'length' are likely incorrect. Use 'GeoSeries.to_crs()' to re-project geometries to a projected CRS before this operation.\n",
      "\n",
      "  test_per = np.asarray(df[['geometry']].length).reshape(-1, 1)\n",
      "c:\\Users\\nicol\\OneDrive\\Documents\\DD\\SG6\\Machine Learning\\Kaggle\\treatment_test.py:117: SettingWithCopyWarning: \n",
      "A value is trying to be set on a copy of a slice from a DataFrame.\n",
      "Try using .loc[row_indexer,col_indexer] = value instead\n",
      "\n",
      "See the caveats in the documentation: https://pandas.pydata.org/pandas-docs/stable/user_guide/indexing.html#returning-a-view-versus-a-copy\n",
      "  df[df['geography_None_geo']==1]['geography_None_geo'] = np.nan\n",
      "c:\\Users\\nicol\\OneDrive\\Documents\\DD\\SG6\\Machine Learning\\Kaggle\\treatment_test.py:136: SettingWithCopyWarning: \n",
      "A value is trying to be set on a copy of a slice from a DataFrame\n",
      "\n",
      "See the caveats in the documentation: https://pandas.pydata.org/pandas-docs/stable/user_guide/indexing.html#returning-a-view-versus-a-copy\n",
      "  df.drop(columns=['geography_type','urban_type'], inplace=True)\n",
      "c:\\Users\\nicol\\OneDrive\\Documents\\DD\\SG6\\Machine Learning\\Kaggle\\treatment_test.py:139: SettingWithCopyWarning: \n",
      "A value is trying to be set on a copy of a slice from a DataFrame.\n",
      "Try using .loc[row_indexer,col_indexer] = value instead\n",
      "\n",
      "See the caveats in the documentation: https://pandas.pydata.org/pandas-docs/stable/user_guide/indexing.html#returning-a-view-versus-a-copy\n",
      "  df['change_status_date'+str(date)] = df['change_status_date'+str(date)].apply(lambda x: change_status_map[x] if (x is not None) else np.nan)\n",
      "c:\\Users\\nicol\\OneDrive\\Documents\\DD\\SG6\\Machine Learning\\Kaggle\\treatment_test.py:140: SettingWithCopyWarning: \n",
      "A value is trying to be set on a copy of a slice from a DataFrame.\n",
      "Try using .loc[row_indexer,col_indexer] = value instead\n",
      "\n",
      "See the caveats in the documentation: https://pandas.pydata.org/pandas-docs/stable/user_guide/indexing.html#returning-a-view-versus-a-copy\n",
      "  df['date'+str(date)] = df['date'+str(date)].apply(lambda x: datetime.strptime(x, '%d-%m-%Y').toordinal() if (x is not None) else np.nan)\n"
     ]
    }
   ],
   "source": [
    "train_df_clean, cluster_groups = clean_train(train_df)\n",
    "test_df_clean, test_df_nan = clean_test(test_df, cluster_groups)"
   ]
  },
  {
   "cell_type": "code",
   "execution_count": null,
   "metadata": {},
   "outputs": [],
   "source": [
    "from scipy.stats import loguniform as sp_loguniform\n",
    "from sklearn.model_selection import RandomizedSearchCV\n",
    "\n",
    "# Instancia nosso classificador\n",
    "mlp = MLPClassifier(random_state=42, early_stopping=True)\n",
    "\n",
    "# Hiperparâmetros a serem otimizados\n",
    "hyperparams = {'hidden_layer_sizes': [(2 ** i, 2 ** j) for j in np.arange(5, 8) for i in np.arange(4, 7)],\n",
    "               'alpha': sp_loguniform(1e-7, 1e-1),\n",
    "               'learning_rate': ['constant','adaptive']}\n",
    "\n",
    "# Busca de Hiperparâmetros\n",
    "mlp_search_cv = RandomizedSearchCV(mlp, hyperparams, scoring='accuracy', n_iter=15, cv=5, n_jobs=-1, random_state=42)\n",
    "%timeit -n 1 -r 1 mlp_search_cv.fit(X_train, Y_train)\n",
    "\n",
    "print('Melhores hiperparâmetros: {}'.format(mlp_search_cv.best_params_))\n",
    "print('Desempenho do melhor modelo: {}'.format(round(mlp_search_cv.best_score_,5)))"
   ]
  }
 ],
 "metadata": {
  "kernelspec": {
   "display_name": "base",
   "language": "python",
   "name": "python3"
  },
  "language_info": {
   "codemirror_mode": {
    "name": "ipython",
    "version": 3
   },
   "file_extension": ".py",
   "mimetype": "text/x-python",
   "name": "python",
   "nbconvert_exporter": "python",
   "pygments_lexer": "ipython3",
   "version": "3.9.12"
  },
  "orig_nbformat": 4,
  "vscode": {
   "interpreter": {
    "hash": "07878c45a9b18549480ac2f9ecb8f16bb7162456cf654f6757bcff1d6396abe7"
   }
  }
 },
 "nbformat": 4,
 "nbformat_minor": 2
}
