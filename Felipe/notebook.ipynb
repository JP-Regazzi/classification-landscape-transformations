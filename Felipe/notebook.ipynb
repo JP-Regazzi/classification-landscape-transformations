{
 "cells": [
  {
   "attachments": {},
   "cell_type": "markdown",
   "metadata": {},
   "source": [
    "# Machine Learning Project"
   ]
  },
  {
   "attachments": {},
   "cell_type": "markdown",
   "metadata": {},
   "source": [
    "## Setting up data"
   ]
  },
  {
   "attachments": {},
   "cell_type": "markdown",
   "metadata": {},
   "source": [
    "### Libraries used"
   ]
  },
  {
   "cell_type": "code",
   "execution_count": 56,
   "metadata": {},
   "outputs": [],
   "source": [
    "import geopandas as gpd\n",
    "import pandas as pd\n",
    "import numpy as np\n",
    "import seaborn as sbr\n",
    "from datetime import datetime\n",
    "import matplotlib.pyplot as plt\n",
    "import random\n",
    "import plotly.express as px\n",
    "\n",
    "from sklearn.preprocessing import LabelEncoder\n",
    "from sklearn.neighbors import KNeighborsClassifier\n",
    "from sklearn.metrics import accuracy_score\n",
    "from sklearn.linear_model import LinearRegression\n",
    "from sklearn.impute import KNNImputer\n",
    "from sklearn.cluster import KMeans\n",
    "from sklearn import metrics\n",
    "from scipy.spatial.distance import cdist"
   ]
  },
  {
   "attachments": {},
   "cell_type": "markdown",
   "metadata": {},
   "source": [
    "### DataFrame import"
   ]
  },
  {
   "cell_type": "code",
   "execution_count": 2,
   "metadata": {},
   "outputs": [],
   "source": [
    "# Read csvs\n",
    "train_df = gpd.read_file('train.geojson', index_col=0)"
   ]
  },
  {
   "cell_type": "code",
   "execution_count": 6,
   "metadata": {},
   "outputs": [],
   "source": [
    "train_original = train_df"
   ]
  },
  {
   "attachments": {},
   "cell_type": "markdown",
   "metadata": {},
   "source": [
    "## Dealing with given data"
   ]
  },
  {
   "cell_type": "code",
   "execution_count": 7,
   "metadata": {},
   "outputs": [],
   "source": [
    "change_type_map = {'Demolition': 0, 'Road': 1, 'Residential': 2, 'Commercial': 3, 'Industrial': 4,\n",
    "                   'Mega Projects': 5}\n",
    "change_status_map = {'Prior Construction': 3, 'Greenland': 0, 'Land Cleared': 1, 'Excavation': 2, 'Materials Dumped': 4,\n",
    "                     'Materials Introduced': 5, 'Construction Started': 6, 'Construction Midway': 7, 'Construction Done': 8, 'Operational': 9}"
   ]
  },
  {
   "attachments": {},
   "cell_type": "markdown",
   "metadata": {},
   "source": [
    "Here, we explode the data and save it separately to use one-hot encoding. Then, we get rid of duplicates and concatenate with the dataframe."
   ]
  },
  {
   "cell_type": "code",
   "execution_count": 8,
   "metadata": {},
   "outputs": [],
   "source": [
    "train_df.loc[train_df['urban_type'] == 'N,A', 'urban_type'] = 'None_urban'\n",
    "train_df.loc[train_df['geography_type'] == 'N,A', 'geography_type'] = 'None_geo'\n",
    "train_df[['urban_type', 'geography_type']] = train_df[['urban_type', 'geography_type']].apply(lambda x: x.str.split(','))\n",
    "\n",
    "train_df_ex = train_df[['index','urban_type','geography_type']]\n",
    "\n",
    "train_df_ex = train_df_ex.explode('urban_type')\n",
    "train_df_ex = train_df_ex.explode('geography_type')"
   ]
  },
  {
   "cell_type": "code",
   "execution_count": 9,
   "metadata": {},
   "outputs": [],
   "source": [
    "train_df_ex = pd.get_dummies(train_df_ex, columns=['urban_type', 'geography_type'], prefix=['urban', 'geography'])"
   ]
  },
  {
   "cell_type": "code",
   "execution_count": 10,
   "metadata": {},
   "outputs": [],
   "source": [
    "train_df_ex = train_df_ex.groupby(train_df_ex['index']).sum()"
   ]
  },
  {
   "cell_type": "code",
   "execution_count": 11,
   "metadata": {},
   "outputs": [],
   "source": [
    "train_df = pd.concat([train_df, train_df_ex], axis=1)"
   ]
  },
  {
   "attachments": {},
   "cell_type": "markdown",
   "metadata": {},
   "source": [
    "Now we replace None values by the mean value of the one-hot encoded date, rounding up (or down) to the nearest integer."
   ]
  },
  {
   "cell_type": "code",
   "execution_count": 12,
   "metadata": {},
   "outputs": [],
   "source": [
    "for class_name in ['Demolition', 'Road', 'Residential', 'Commercial', 'Industrial', 'Mega Projects']:\n",
    "    for urban in ['Dense Urban','Industrial','Rural','Sparse Urban','Urban Slum']:\n",
    "        mean = train_df[train_df['change_type'] == class_name]['urban_'+urban].mean()\n",
    "        train_df.loc[(train_df['urban_None_urban'] == 1) & (train_df['change_type'] == class_name), 'urban_type'] = np.round(mean)\n",
    "    for geo in ['Barren Land','Coastal','Dense Forest','Desert','Farms','Grass Land','Hills','Lakes','River','Snow','Sparse Forest']:\n",
    "        mean = train_df[train_df['change_type'] == class_name]['geography_'+geo].mean()\n",
    "        train_df.loc[(train_df['geography_None_geo'] == 1) & (train_df['change_type'] == class_name), 'geography_type'] = np.round(mean)\n",
    "\n",
    "train_df.drop(columns=['geography_None_geo','urban_None_urban'], inplace=True)\n",
    "train_df.drop(columns=['geography_type','urban_type'], inplace=True)"
   ]
  },
  {
   "attachments": {},
   "cell_type": "markdown",
   "metadata": {},
   "source": [
    "Here, we substitute the dates and statuses by numbers."
   ]
  },
  {
   "cell_type": "code",
   "execution_count": 13,
   "metadata": {},
   "outputs": [],
   "source": [
    "train_df['change_type'] = train_df['change_type'].apply(lambda x: change_type_map[x])\n",
    "\n",
    "for date in range(5):\n",
    "    train_df['change_status_date'+str(date)] = train_df['change_status_date'+str(date)].apply(lambda x: change_status_map[x] if (x is not None) else np.nan)  \n",
    "    train_df['date'+str(date)] = train_df['date'+str(date)].apply(lambda x: datetime.strptime(x, '%d-%m-%Y').toordinal() if (x is not None) else np.nan)"
   ]
  },
  {
   "attachments": {},
   "cell_type": "markdown",
   "metadata": {},
   "source": [
    "We drop all samples with NaN values in the image related data."
   ]
  },
  {
   "cell_type": "code",
   "execution_count": 14,
   "metadata": {},
   "outputs": [],
   "source": [
    "features_drop = []\n",
    "for date in range(5):\n",
    "    for color in ['red','green','blue']:\n",
    "        for stat in ['std','mean']:\n",
    "            features_drop = np.append(['img_'+color+'_'+stat+'_date'+str(date+1)], features_drop)\n",
    "    features_drop = np.append(['date'+str(date)], features_drop)\n",
    "    features_drop = np.append(['change_status_date'+str(date)], features_drop)\n",
    "\n",
    "train_df.dropna(axis=0, subset=features_drop, inplace=True)"
   ]
  },
  {
   "cell_type": "code",
   "execution_count": 15,
   "metadata": {},
   "outputs": [
    {
     "data": {
      "text/plain": [
       "0"
      ]
     },
     "execution_count": 15,
     "metadata": {},
     "output_type": "execute_result"
    }
   ],
   "source": [
    "train_df.isnull().sum().sum()"
   ]
  },
  {
   "attachments": {},
   "cell_type": "markdown",
   "metadata": {},
   "source": [
    "## New features: area and perimeter of the polygon\n",
    "We calculate the polygon area, perimeter and use the centroid to find the country. This creates three new features - 'area','perimeter' and 'country'"
   ]
  },
  {
   "attachments": {},
   "cell_type": "markdown",
   "metadata": {},
   "source": [
    "### Area and perimeter"
   ]
  },
  {
   "cell_type": "code",
   "execution_count": 17,
   "metadata": {},
   "outputs": [
    {
     "name": "stderr",
     "output_type": "stream",
     "text": [
      "<ipython-input-17-1305a5afd736>:1: UserWarning: Geometry is in a geographic CRS. Results from 'area' are likely incorrect. Use 'GeoSeries.to_crs()' to re-project geometries to a projected CRS before this operation.\n",
      "\n",
      "  train_area = np.asarray(train_df[['geometry']].area).reshape(-1, 1)\n",
      "<ipython-input-17-1305a5afd736>:2: UserWarning: Geometry is in a geographic CRS. Results from 'length' are likely incorrect. Use 'GeoSeries.to_crs()' to re-project geometries to a projected CRS before this operation.\n",
      "\n",
      "  train_per = np.asarray(train_df[['geometry']].length).reshape(-1, 1)\n"
     ]
    }
   ],
   "source": [
    "train_area = np.asarray(train_df[['geometry']].area).reshape(-1, 1)\n",
    "train_per = np.asarray(train_df[['geometry']].length).reshape(-1, 1)\n",
    "\n",
    "train_df[\"area\"] = train_area\n",
    "train_df[\"perimeter\"] = train_per"
   ]
  },
  {
   "attachments": {},
   "cell_type": "markdown",
   "metadata": {},
   "source": [
    "### Extracting the geographical information from the point coordinates\n",
    "We use the k-means method to group data that is geographically close.\n",
    "First, we define a function to extract the latitude and longitude of the polygon centroid."
   ]
  },
  {
   "cell_type": "code",
   "execution_count": 18,
   "metadata": {},
   "outputs": [],
   "source": [
    "def get_centroid_lat(row):\n",
    "    center = row['geometry'].centroid.xy[1][0]\n",
    "    return center\n",
    "\n",
    "def get_centroid_lon(row):\n",
    "    center = row['geometry'].centroid.xy[0][0]\n",
    "    return center"
   ]
  },
  {
   "attachments": {},
   "cell_type": "markdown",
   "metadata": {},
   "source": [
    "Now, we separate the latitude and longitude data into a separate data frame."
   ]
  },
  {
   "cell_type": "code",
   "execution_count": 19,
   "metadata": {},
   "outputs": [],
   "source": [
    "train_df_geo = pd.DataFrame()\n",
    "train_df_geo['Lat'] = train_df.apply(get_centroid_lat, axis=1)\n",
    "train_df_geo['Lon'] = train_df.apply(get_centroid_lon, axis=1)"
   ]
  },
  {
   "attachments": {},
   "cell_type": "markdown",
   "metadata": {},
   "source": [
    "With this, we apply the k-means method to cluster the different data groups. We include here the elbow method to chose the best k value for the method. Then, we add the respective cluster label to the train dataframa."
   ]
  },
  {
   "cell_type": "code",
   "execution_count": 20,
   "metadata": {},
   "outputs": [
    {
     "data": {
      "image/png": "[encoded data removed]",
      "text/plain": [
       "<Figure size 640x480 with 1 Axes>"
      ]
     },
     "metadata": {},
     "output_type": "display_data"
    }
   ],
   "source": [
    "X = train_df_geo\n",
    "\n",
    "distortions = []\n",
    "K = range(1,15)\n",
    "for k in K:\n",
    "    kmeanModel = KMeans(n_clusters=k).fit(X)\n",
    "    kmeanModel.fit(X)\n",
    "    distortions.append(sum(np.min(cdist(X, kmeanModel.cluster_centers_, 'euclidean'), axis=1)) / X.shape[0])\n",
    "\n",
    "plt.plot(K, distortions, 'bx-')\n",
    "plt.xlabel('k')\n",
    "plt.ylabel('Distortion')\n",
    "plt.title('The Elbow Method showing the optimal k')\n",
    "plt.show()"
   ]
  },
  {
   "cell_type": "code",
   "execution_count": 115,
   "metadata": {},
   "outputs": [
    {
     "data": {
      "text/plain": [
       "array(['change_status_date4', 'date4', 'change_status_date3', 'date3',\n",
       "       'change_status_date2', 'date2', 'change_status_date1', 'date1',\n",
       "       'change_status_date0', 'date0', 'img_blue_mean_date5',\n",
       "       'img_blue_std_date5', 'img_red_mean_date5', 'img_red_std_date5',\n",
       "       'img_green_mean_date5', 'img_green_std_date5',\n",
       "       'img_blue_mean_date4', 'img_blue_std_date4', 'img_red_mean_date4',\n",
       "       'img_red_std_date4', 'img_green_mean_date4', 'img_green_std_date4',\n",
       "       'img_blue_mean_date3', 'img_blue_std_date3', 'img_red_mean_date3',\n",
       "       'img_red_std_date3', 'img_green_mean_date3', 'img_green_std_date3',\n",
       "       'img_blue_mean_date2', 'img_blue_std_date2', 'img_red_mean_date2',\n",
       "       'img_red_std_date2', 'img_green_mean_date2', 'img_green_std_date2',\n",
       "       'img_blue_mean_date1', 'img_blue_std_date1', 'img_red_mean_date1',\n",
       "       'img_red_std_date1', 'img_green_mean_date1', 'img_green_std_date1'],\n",
       "      dtype='<U32')"
      ]
     },
     "execution_count": 115,
     "metadata": {},
     "output_type": "execute_result"
    }
   ],
   "source": [
    "features_nan =[]\n",
    "for date in ['1','2','3','4','5']:\n",
    "    for color in ['green','red','blue']:\n",
    "        for value in ['std','mean']:\n",
    "            features_nan = np.append(['img_'+color+'_'+value+'_date'+date], features_nan)\n",
    "for date in ['0','1','2','3','4']:\n",
    "    features_nan = np.append(['date'+date], features_nan)\n",
    "    features_nan = np.append(['change_status_date'+date], features_nan)\n",
    "\n",
    "features_nan"
   ]
  },
  {
   "cell_type": "code",
   "execution_count": 111,
   "metadata": {},
   "outputs": [
    {
     "ename": "ValueError",
     "evalue": "Length of values (292758) does not match length of index (296146)",
     "output_type": "error",
     "traceback": [
      "\u001b[1;31m---------------------------------------------------------------------------\u001b[0m",
      "\u001b[1;31mValueError\u001b[0m                                Traceback (most recent call last)",
      "\u001b[1;32mc:\\Users\\nicol\\OneDrive\\Documents\\DD\\SG6\\Machine Learning\\Kaggle\\notebook.ipynb Cell 31\u001b[0m in \u001b[0;36m<cell line: 4>\u001b[1;34m()\u001b[0m\n\u001b[0;32m      <a href='vscode-notebook-cell:/c%3A/Users/nicol/OneDrive/Documents/DD/SG6/Machine%20Learning/Kaggle/notebook.ipynb#Y113sZmlsZQ%3D%3D?line=1'>2</a>\u001b[0m kmeans\u001b[39m.\u001b[39mfit(train_df_geo)\n\u001b[0;32m      <a href='vscode-notebook-cell:/c%3A/Users/nicol/OneDrive/Documents/DD/SG6/Machine%20Learning/Kaggle/notebook.ipynb#Y113sZmlsZQ%3D%3D?line=2'>3</a>\u001b[0m labels \u001b[39m=\u001b[39m kmeans\u001b[39m.\u001b[39mlabels_\n\u001b[1;32m----> <a href='vscode-notebook-cell:/c%3A/Users/nicol/OneDrive/Documents/DD/SG6/Machine%20Learning/Kaggle/notebook.ipynb#Y113sZmlsZQ%3D%3D?line=3'>4</a>\u001b[0m train_df[\u001b[39m'\u001b[39m\u001b[39mgeo_cluster\u001b[39m\u001b[39m'\u001b[39m] \u001b[39m=\u001b[39m labels\n\u001b[0;32m      <a href='vscode-notebook-cell:/c%3A/Users/nicol/OneDrive/Documents/DD/SG6/Machine%20Learning/Kaggle/notebook.ipynb#Y113sZmlsZQ%3D%3D?line=4'>5</a>\u001b[0m train_df_geo[\u001b[39m'\u001b[39m\u001b[39mgeo_cluster\u001b[39m\u001b[39m'\u001b[39m] \u001b[39m=\u001b[39m labels\n\u001b[0;32m      <a href='vscode-notebook-cell:/c%3A/Users/nicol/OneDrive/Documents/DD/SG6/Machine%20Learning/Kaggle/notebook.ipynb#Y113sZmlsZQ%3D%3D?line=5'>6</a>\u001b[0m cluster_groups \u001b[39m=\u001b[39m train_df_geo\u001b[39m.\u001b[39mgroupby(\u001b[39m'\u001b[39m\u001b[39mgeo_cluster\u001b[39m\u001b[39m'\u001b[39m)\u001b[39m.\u001b[39mmean()\n",
      "File \u001b[1;32mc:\\Users\\nicol\\anaconda3\\lib\\site-packages\\geopandas\\geodataframe.py:1443\u001b[0m, in \u001b[0;36mGeoDataFrame.__setitem__\u001b[1;34m(self, key, value)\u001b[0m\n\u001b[0;32m   1441\u001b[0m     \u001b[39mexcept\u001b[39;00m \u001b[39mTypeError\u001b[39;00m:\n\u001b[0;32m   1442\u001b[0m         warnings\u001b[39m.\u001b[39mwarn(\u001b[39m\"\u001b[39m\u001b[39mGeometry column does not contain geometry.\u001b[39m\u001b[39m\"\u001b[39m)\n\u001b[1;32m-> 1443\u001b[0m \u001b[39msuper\u001b[39;49m()\u001b[39m.\u001b[39;49m\u001b[39m__setitem__\u001b[39;49m(key, value)\n",
      "File \u001b[1;32mc:\\Users\\nicol\\anaconda3\\lib\\site-packages\\pandas\\core\\frame.py:3655\u001b[0m, in \u001b[0;36mDataFrame.__setitem__\u001b[1;34m(self, key, value)\u001b[0m\n\u001b[0;32m   3652\u001b[0m     \u001b[39mself\u001b[39m\u001b[39m.\u001b[39m_setitem_array([key], value)\n\u001b[0;32m   3653\u001b[0m \u001b[39melse\u001b[39;00m:\n\u001b[0;32m   3654\u001b[0m     \u001b[39m# set column\u001b[39;00m\n\u001b[1;32m-> 3655\u001b[0m     \u001b[39mself\u001b[39;49m\u001b[39m.\u001b[39;49m_set_item(key, value)\n",
      "File \u001b[1;32mc:\\Users\\nicol\\anaconda3\\lib\\site-packages\\pandas\\core\\frame.py:3832\u001b[0m, in \u001b[0;36mDataFrame._set_item\u001b[1;34m(self, key, value)\u001b[0m\n\u001b[0;32m   3822\u001b[0m \u001b[39mdef\u001b[39;00m \u001b[39m_set_item\u001b[39m(\u001b[39mself\u001b[39m, key, value) \u001b[39m-\u001b[39m\u001b[39m>\u001b[39m \u001b[39mNone\u001b[39;00m:\n\u001b[0;32m   3823\u001b[0m     \u001b[39m\"\"\"\u001b[39;00m\n\u001b[0;32m   3824\u001b[0m \u001b[39m    Add series to DataFrame in specified column.\u001b[39;00m\n\u001b[0;32m   3825\u001b[0m \n\u001b[1;32m   (...)\u001b[0m\n\u001b[0;32m   3830\u001b[0m \u001b[39m    ensure homogeneity.\u001b[39;00m\n\u001b[0;32m   3831\u001b[0m \u001b[39m    \"\"\"\u001b[39;00m\n\u001b[1;32m-> 3832\u001b[0m     value \u001b[39m=\u001b[39m \u001b[39mself\u001b[39;49m\u001b[39m.\u001b[39;49m_sanitize_column(value)\n\u001b[0;32m   3834\u001b[0m     \u001b[39mif\u001b[39;00m (\n\u001b[0;32m   3835\u001b[0m         key \u001b[39min\u001b[39;00m \u001b[39mself\u001b[39m\u001b[39m.\u001b[39mcolumns\n\u001b[0;32m   3836\u001b[0m         \u001b[39mand\u001b[39;00m value\u001b[39m.\u001b[39mndim \u001b[39m==\u001b[39m \u001b[39m1\u001b[39m\n\u001b[0;32m   3837\u001b[0m         \u001b[39mand\u001b[39;00m \u001b[39mnot\u001b[39;00m is_extension_array_dtype(value)\n\u001b[0;32m   3838\u001b[0m     ):\n\u001b[0;32m   3839\u001b[0m         \u001b[39m# broadcast across multiple columns if necessary\u001b[39;00m\n\u001b[0;32m   3840\u001b[0m         \u001b[39mif\u001b[39;00m \u001b[39mnot\u001b[39;00m \u001b[39mself\u001b[39m\u001b[39m.\u001b[39mcolumns\u001b[39m.\u001b[39mis_unique \u001b[39mor\u001b[39;00m \u001b[39misinstance\u001b[39m(\u001b[39mself\u001b[39m\u001b[39m.\u001b[39mcolumns, MultiIndex):\n",
      "File \u001b[1;32mc:\\Users\\nicol\\anaconda3\\lib\\site-packages\\pandas\\core\\frame.py:4535\u001b[0m, in \u001b[0;36mDataFrame._sanitize_column\u001b[1;34m(self, value)\u001b[0m\n\u001b[0;32m   4532\u001b[0m     \u001b[39mreturn\u001b[39;00m _reindex_for_setitem(value, \u001b[39mself\u001b[39m\u001b[39m.\u001b[39mindex)\n\u001b[0;32m   4534\u001b[0m \u001b[39mif\u001b[39;00m is_list_like(value):\n\u001b[1;32m-> 4535\u001b[0m     com\u001b[39m.\u001b[39;49mrequire_length_match(value, \u001b[39mself\u001b[39;49m\u001b[39m.\u001b[39;49mindex)\n\u001b[0;32m   4536\u001b[0m \u001b[39mreturn\u001b[39;00m sanitize_array(value, \u001b[39mself\u001b[39m\u001b[39m.\u001b[39mindex, copy\u001b[39m=\u001b[39m\u001b[39mTrue\u001b[39;00m, allow_2d\u001b[39m=\u001b[39m\u001b[39mTrue\u001b[39;00m)\n",
      "File \u001b[1;32mc:\\Users\\nicol\\anaconda3\\lib\\site-packages\\pandas\\core\\common.py:557\u001b[0m, in \u001b[0;36mrequire_length_match\u001b[1;34m(data, index)\u001b[0m\n\u001b[0;32m    553\u001b[0m \u001b[39m\"\"\"\u001b[39;00m\n\u001b[0;32m    554\u001b[0m \u001b[39mCheck the length of data matches the length of the index.\u001b[39;00m\n\u001b[0;32m    555\u001b[0m \u001b[39m\"\"\"\u001b[39;00m\n\u001b[0;32m    556\u001b[0m \u001b[39mif\u001b[39;00m \u001b[39mlen\u001b[39m(data) \u001b[39m!=\u001b[39m \u001b[39mlen\u001b[39m(index):\n\u001b[1;32m--> 557\u001b[0m     \u001b[39mraise\u001b[39;00m \u001b[39mValueError\u001b[39;00m(\n\u001b[0;32m    558\u001b[0m         \u001b[39m\"\u001b[39m\u001b[39mLength of values \u001b[39m\u001b[39m\"\u001b[39m\n\u001b[0;32m    559\u001b[0m         \u001b[39mf\u001b[39m\u001b[39m\"\u001b[39m\u001b[39m(\u001b[39m\u001b[39m{\u001b[39;00m\u001b[39mlen\u001b[39m(data)\u001b[39m}\u001b[39;00m\u001b[39m) \u001b[39m\u001b[39m\"\u001b[39m\n\u001b[0;32m    560\u001b[0m         \u001b[39m\"\u001b[39m\u001b[39mdoes not match length of index \u001b[39m\u001b[39m\"\u001b[39m\n\u001b[0;32m    561\u001b[0m         \u001b[39mf\u001b[39m\u001b[39m\"\u001b[39m\u001b[39m(\u001b[39m\u001b[39m{\u001b[39;00m\u001b[39mlen\u001b[39m(index)\u001b[39m}\u001b[39;00m\u001b[39m)\u001b[39m\u001b[39m\"\u001b[39m\n\u001b[0;32m    562\u001b[0m     )\n",
      "\u001b[1;31mValueError\u001b[0m: Length of values (292758) does not match length of index (296146)"
     ]
    }
   ],
   "source": [
    "kmeans = KMeans(n_clusters=4)\n",
    "kmeans.fit(train_df_geo)\n",
    "labels = kmeans.labels_\n",
    "train_df['geo_cluster'] = labels\n",
    "train_df_geo['geo_cluster'] = labels\n",
    "cluster_groups = train_df_geo.groupby('geo_cluster').mean()\n",
    "\n",
    "train_df.drop(columns=['geometry'], inplace=True)\n",
    "cluster_groups"
   ]
  },
  {
   "attachments": {},
   "cell_type": "markdown",
   "metadata": {},
   "source": [
    "To better visualize, we plot a world map with the centroids found."
   ]
  },
  {
   "cell_type": "code",
   "execution_count": 22,
   "metadata": {},
   "outputs": [
    {
     "data": {
      "application/vnd.plotly.v1+json": {
       "config": {
        "plotlyServerURL": "https://plot.ly"
       },
       "data": [
        {
         "geo": "geo",
         "hovertemplate": "Lat=%{lat}<br>Lon=%{lon}<extra></extra>",
         "lat": [
          29.159990847256076,
          27.11276558787341,
          2.6164064904582993,
          26.873321099837085
         ],
         "legendgroup": "",
         "lon": [
          114.88774250517275,
          -100.1302991589841,
          24.85425160711718,
          80.16343579435274
         ],
         "marker": {
          "color": "#636efa",
          "symbol": "circle"
         },
         "mode": "markers",
         "name": "",
         "showlegend": false,
         "type": "scattergeo"
        }
       ],
       "layout": {
        "geo": {
         "center": {},
         "domain": {
          "x": [
           0,
           1
          ],
          "y": [
           0,
           1
          ]
         }
        },
        "legend": {
         "tracegroupgap": 0
        },
        "margin": {
         "t": 60
        },
        "template": {
         "data": {
          "bar": [
           {
            "error_x": {
             "color": "#2a3f5f"
            },
            "error_y": {
             "color": "#2a3f5f"
            },
            "marker": {
             "line": {
              "color": "#E5ECF6",
              "width": 0.5
             },
             "pattern": {
              "fillmode": "overlay",
              "size": 10,
              "solidity": 0.2
             }
            },
            "type": "bar"
           }
          ],
          "barpolar": [
           {
            "marker": {
             "line": {
              "color": "#E5ECF6",
              "width": 0.5
             },
             "pattern": {
              "fillmode": "overlay",
              "size": 10,
              "solidity": 0.2
             }
            },
            "type": "barpolar"
           }
          ],
          "carpet": [
           {
            "aaxis": {
             "endlinecolor": "#2a3f5f",
             "gridcolor": "white",
             "linecolor": "white",
             "minorgridcolor": "white",
             "startlinecolor": "#2a3f5f"
            },
            "baxis": {
             "endlinecolor": "#2a3f5f",
             "gridcolor": "white",
             "linecolor": "white",
             "minorgridcolor": "white",
             "startlinecolor": "#2a3f5f"
            },
            "type": "carpet"
           }
          ],
          "choropleth": [
           {
            "colorbar": {
             "outlinewidth": 0,
             "ticks": ""
            },
            "type": "choropleth"
           }
          ],
          "contour": [
           {
            "colorbar": {
             "outlinewidth": 0,
             "ticks": ""
            },
            "colorscale": [
             [
              0,
              "#0d0887"
             ],
             [
              0.1111111111111111,
              "#46039f"
             ],
             [
              0.2222222222222222,
              "#7201a8"
             ],
             [
              0.3333333333333333,
              "#9c179e"
             ],
             [
              0.4444444444444444,
              "#bd3786"
             ],
             [
              0.5555555555555556,
              "#d8576b"
             ],
             [
              0.6666666666666666,
              "#ed7953"
             ],
             [
              0.7777777777777778,
              "#fb9f3a"
             ],
             [
              0.8888888888888888,
              "#fdca26"
             ],
             [
              1,
              "#f0f921"
             ]
            ],
            "type": "contour"
           }
          ],
          "contourcarpet": [
           {
            "colorbar": {
             "outlinewidth": 0,
             "ticks": ""
            },
            "type": "contourcarpet"
           }
          ],
          "heatmap": [
           {
            "colorbar": {
             "outlinewidth": 0,
             "ticks": ""
            },
            "colorscale": [
             [
              0,
              "#0d0887"
             ],
             [
              0.1111111111111111,
              "#46039f"
             ],
             [
              0.2222222222222222,
              "#7201a8"
             ],
             [
              0.3333333333333333,
              "#9c179e"
             ],
             [
              0.4444444444444444,
              "#bd3786"
             ],
             [
              0.5555555555555556,
              "#d8576b"
             ],
             [
              0.6666666666666666,
              "#ed7953"
             ],
             [
              0.7777777777777778,
              "#fb9f3a"
             ],
             [
              0.8888888888888888,
              "#fdca26"
             ],
             [
              1,
              "#f0f921"
             ]
            ],
            "type": "heatmap"
           }
          ],
          "heatmapgl": [
           {
            "colorbar": {
             "outlinewidth": 0,
             "ticks": ""
            },
            "colorscale": [
             [
              0,
              "#0d0887"
             ],
             [
              0.1111111111111111,
              "#46039f"
             ],
             [
              0.2222222222222222,
              "#7201a8"
             ],
             [
              0.3333333333333333,
              "#9c179e"
             ],
             [
              0.4444444444444444,
              "#bd3786"
             ],
             [
              0.5555555555555556,
              "#d8576b"
             ],
             [
              0.6666666666666666,
              "#ed7953"
             ],
             [
              0.7777777777777778,
              "#fb9f3a"
             ],
             [
              0.8888888888888888,
              "#fdca26"
             ],
             [
              1,
              "#f0f921"
             ]
            ],
            "type": "heatmapgl"
           }
          ],
          "histogram": [
           {
            "marker": {
             "pattern": {
              "fillmode": "overlay",
              "size": 10,
              "solidity": 0.2
             }
            },
            "type": "histogram"
           }
          ],
          "histogram2d": [
           {
            "colorbar": {
             "outlinewidth": 0,
             "ticks": ""
            },
            "colorscale": [
             [
              0,
              "#0d0887"
             ],
             [
              0.1111111111111111,
              "#46039f"
             ],
             [
              0.2222222222222222,
              "#7201a8"
             ],
             [
              0.3333333333333333,
              "#9c179e"
             ],
             [
              0.4444444444444444,
              "#bd3786"
             ],
             [
              0.5555555555555556,
              "#d8576b"
             ],
             [
              0.6666666666666666,
              "#ed7953"
             ],
             [
              0.7777777777777778,
              "#fb9f3a"
             ],
             [
              0.8888888888888888,
              "#fdca26"
             ],
             [
              1,
              "#f0f921"
             ]
            ],
            "type": "histogram2d"
           }
          ],
          "histogram2dcontour": [
           {
            "colorbar": {
             "outlinewidth": 0,
             "ticks": ""
            },
            "colorscale": [
             [
              0,
              "#0d0887"
             ],
             [
              0.1111111111111111,
              "#46039f"
             ],
             [
              0.2222222222222222,
              "#7201a8"
             ],
             [
              0.3333333333333333,
              "#9c179e"
             ],
             [
              0.4444444444444444,
              "#bd3786"
             ],
             [
              0.5555555555555556,
              "#d8576b"
             ],
             [
              0.6666666666666666,
              "#ed7953"
             ],
             [
              0.7777777777777778,
              "#fb9f3a"
             ],
             [
              0.8888888888888888,
              "#fdca26"
             ],
             [
              1,
              "#f0f921"
             ]
            ],
            "type": "histogram2dcontour"
           }
          ],
          "mesh3d": [
           {
            "colorbar": {
             "outlinewidth": 0,
             "ticks": ""
            },
            "type": "mesh3d"
           }
          ],
          "parcoords": [
           {
            "line": {
             "colorbar": {
              "outlinewidth": 0,
              "ticks": ""
             }
            },
            "type": "parcoords"
           }
          ],
          "pie": [
           {
            "automargin": true,
            "type": "pie"
           }
          ],
          "scatter": [
           {
            "marker": {
             "colorbar": {
              "outlinewidth": 0,
              "ticks": ""
             }
            },
            "type": "scatter"
           }
          ],
          "scatter3d": [
           {
            "line": {
             "colorbar": {
              "outlinewidth": 0,
              "ticks": ""
             }
            },
            "marker": {
             "colorbar": {
              "outlinewidth": 0,
              "ticks": ""
             }
            },
            "type": "scatter3d"
           }
          ],
          "scattercarpet": [
           {
            "marker": {
             "colorbar": {
              "outlinewidth": 0,
              "ticks": ""
             }
            },
            "type": "scattercarpet"
           }
          ],
          "scattergeo": [
           {
            "marker": {
             "colorbar": {
              "outlinewidth": 0,
              "ticks": ""
             }
            },
            "type": "scattergeo"
           }
          ],
          "scattergl": [
           {
            "marker": {
             "colorbar": {
              "outlinewidth": 0,
              "ticks": ""
             }
            },
            "type": "scattergl"
           }
          ],
          "scattermapbox": [
           {
            "marker": {
             "colorbar": {
              "outlinewidth": 0,
              "ticks": ""
             }
            },
            "type": "scattermapbox"
           }
          ],
          "scatterpolar": [
           {
            "marker": {
             "colorbar": {
              "outlinewidth": 0,
              "ticks": ""
             }
            },
            "type": "scatterpolar"
           }
          ],
          "scatterpolargl": [
           {
            "marker": {
             "colorbar": {
              "outlinewidth": 0,
              "ticks": ""
             }
            },
            "type": "scatterpolargl"
           }
          ],
          "scatterternary": [
           {
            "marker": {
             "colorbar": {
              "outlinewidth": 0,
              "ticks": ""
             }
            },
            "type": "scatterternary"
           }
          ],
          "surface": [
           {
            "colorbar": {
             "outlinewidth": 0,
             "ticks": ""
            },
            "colorscale": [
             [
              0,
              "#0d0887"
             ],
             [
              0.1111111111111111,
              "#46039f"
             ],
             [
              0.2222222222222222,
              "#7201a8"
             ],
             [
              0.3333333333333333,
              "#9c179e"
             ],
             [
              0.4444444444444444,
              "#bd3786"
             ],
             [
              0.5555555555555556,
              "#d8576b"
             ],
             [
              0.6666666666666666,
              "#ed7953"
             ],
             [
              0.7777777777777778,
              "#fb9f3a"
             ],
             [
              0.8888888888888888,
              "#fdca26"
             ],
             [
              1,
              "#f0f921"
             ]
            ],
            "type": "surface"
           }
          ],
          "table": [
           {
            "cells": {
             "fill": {
              "color": "#EBF0F8"
             },
             "line": {
              "color": "white"
             }
            },
            "header": {
             "fill": {
              "color": "#C8D4E3"
             },
             "line": {
              "color": "white"
             }
            },
            "type": "table"
           }
          ]
         },
         "layout": {
          "annotationdefaults": {
           "arrowcolor": "#2a3f5f",
           "arrowhead": 0,
           "arrowwidth": 1
          },
          "autotypenumbers": "strict",
          "coloraxis": {
           "colorbar": {
            "outlinewidth": 0,
            "ticks": ""
           }
          },
          "colorscale": {
           "diverging": [
            [
             0,
             "#8e0152"
            ],
            [
             0.1,
             "#c51b7d"
            ],
            [
             0.2,
             "#de77ae"
            ],
            [
             0.3,
             "#f1b6da"
            ],
            [
             0.4,
             "#fde0ef"
            ],
            [
             0.5,
             "#f7f7f7"
            ],
            [
             0.6,
             "#e6f5d0"
            ],
            [
             0.7,
             "#b8e186"
            ],
            [
             0.8,
             "#7fbc41"
            ],
            [
             0.9,
             "#4d9221"
            ],
            [
             1,
             "#276419"
            ]
           ],
           "sequential": [
            [
             0,
             "#0d0887"
            ],
            [
             0.1111111111111111,
             "#46039f"
            ],
            [
             0.2222222222222222,
             "#7201a8"
            ],
            [
             0.3333333333333333,
             "#9c179e"
            ],
            [
             0.4444444444444444,
             "#bd3786"
            ],
            [
             0.5555555555555556,
             "#d8576b"
            ],
            [
             0.6666666666666666,
             "#ed7953"
            ],
            [
             0.7777777777777778,
             "#fb9f3a"
            ],
            [
             0.8888888888888888,
             "#fdca26"
            ],
            [
             1,
             "#f0f921"
            ]
           ],
           "sequentialminus": [
            [
             0,
             "#0d0887"
            ],
            [
             0.1111111111111111,
             "#46039f"
            ],
            [
             0.2222222222222222,
             "#7201a8"
            ],
            [
             0.3333333333333333,
             "#9c179e"
            ],
            [
             0.4444444444444444,
             "#bd3786"
            ],
            [
             0.5555555555555556,
             "#d8576b"
            ],
            [
             0.6666666666666666,
             "#ed7953"
            ],
            [
             0.7777777777777778,
             "#fb9f3a"
            ],
            [
             0.8888888888888888,
             "#fdca26"
            ],
            [
             1,
             "#f0f921"
            ]
           ]
          },
          "colorway": [
           "#636efa",
           "#EF553B",
           "#00cc96",
           "#ab63fa",
           "#FFA15A",
           "#19d3f3",
           "#FF6692",
           "#B6E880",
           "#FF97FF",
           "#FECB52"
          ],
          "font": {
           "color": "#2a3f5f"
          },
          "geo": {
           "bgcolor": "white",
           "lakecolor": "white",
           "landcolor": "#E5ECF6",
           "showlakes": true,
           "showland": true,
           "subunitcolor": "white"
          },
          "hoverlabel": {
           "align": "left"
          },
          "hovermode": "closest",
          "mapbox": {
           "style": "light"
          },
          "paper_bgcolor": "white",
          "plot_bgcolor": "#E5ECF6",
          "polar": {
           "angularaxis": {
            "gridcolor": "white",
            "linecolor": "white",
            "ticks": ""
           },
           "bgcolor": "#E5ECF6",
           "radialaxis": {
            "gridcolor": "white",
            "linecolor": "white",
            "ticks": ""
           }
          },
          "scene": {
           "xaxis": {
            "backgroundcolor": "#E5ECF6",
            "gridcolor": "white",
            "gridwidth": 2,
            "linecolor": "white",
            "showbackground": true,
            "ticks": "",
            "zerolinecolor": "white"
           },
           "yaxis": {
            "backgroundcolor": "#E5ECF6",
            "gridcolor": "white",
            "gridwidth": 2,
            "linecolor": "white",
            "showbackground": true,
            "ticks": "",
            "zerolinecolor": "white"
           },
           "zaxis": {
            "backgroundcolor": "#E5ECF6",
            "gridcolor": "white",
            "gridwidth": 2,
            "linecolor": "white",
            "showbackground": true,
            "ticks": "",
            "zerolinecolor": "white"
           }
          },
          "shapedefaults": {
           "line": {
            "color": "#2a3f5f"
           }
          },
          "ternary": {
           "aaxis": {
            "gridcolor": "white",
            "linecolor": "white",
            "ticks": ""
           },
           "baxis": {
            "gridcolor": "white",
            "linecolor": "white",
            "ticks": ""
           },
           "bgcolor": "#E5ECF6",
           "caxis": {
            "gridcolor": "white",
            "linecolor": "white",
            "ticks": ""
           }
          },
          "title": {
           "x": 0.05
          },
          "xaxis": {
           "automargin": true,
           "gridcolor": "white",
           "linecolor": "white",
           "ticks": "",
           "title": {
            "standoff": 15
           },
           "zerolinecolor": "white",
           "zerolinewidth": 2
          },
          "yaxis": {
           "automargin": true,
           "gridcolor": "white",
           "linecolor": "white",
           "ticks": "",
           "title": {
            "standoff": 15
           },
           "zerolinecolor": "white",
           "zerolinewidth": 2
          }
         }
        }
       }
      }
     },
     "metadata": {},
     "output_type": "display_data"
    }
   ],
   "source": [
    "fig = px.scatter_geo(cluster_groups, lat='Lat', lon='Lon')\n",
    "fig.show()"
   ]
  },
  {
   "attachments": {},
   "cell_type": "markdown",
   "metadata": {},
   "source": [
    "## Time series data"
   ]
  },
  {
   "attachments": {},
   "cell_type": "markdown",
   "metadata": {},
   "source": [
    "### Sorting function\n",
    "This function will sort every row to put the dates in ascending order, changing every other time-dependent feature aswell."
   ]
  },
  {
   "cell_type": "code",
   "execution_count": null,
   "metadata": {},
   "outputs": [],
   "source": [
    "def sort_feature(row):\n",
    "    total_list = []\n",
    "\n",
    "    for color in ['green','red','blue']:\n",
    "        for feature in ['mean', 'std']:\n",
    "            y = [row['img_'+color+'_'+feature+'_date1'],row['img_'+color+'_'+feature+'_date2'],\n",
    "                row['img_'+color+'_'+feature+'_date3'],row['img_'+color+'_'+feature+'_date4'],row['img_'+color+'_'+feature+'_date5']]\n",
    "            total_list.append(y)\n",
    "\n",
    "    total_list.append([row['change_status_date0'],row['change_status_date1'],row['change_status_date2'],row['change_status_date3'],row['change_status_date4']])\n",
    "\n",
    "    x = [row['date0'],row['date1'],row['date2'],row['date3'],row['date4']]\n",
    "    total_list.append(x)\n",
    "    zipped = [list(row) for row in zip(*total_list)]\n",
    "\n",
    "    sorted_zipped = sorted(zipped, key=lambda x: x[-1])\n",
    "    return list(zip(*sorted_zipped))"
   ]
  },
  {
   "cell_type": "code",
   "execution_count": 54,
   "metadata": {},
   "outputs": [
    {
     "data": {
      "text/plain": [
       "333"
      ]
     },
     "execution_count": 54,
     "metadata": {},
     "output_type": "execute_result"
    }
   ],
   "source": [
    "all_lists = [[]]\n",
    "i = 0\n",
    "for date in range(5):\n",
    "    all_lists[i] = list(train_df[train_df['date0'] == train_df['date0'].unique()[0]]['date'+str(date)])\n",
    "    i = i + 1\n",
    "    all_lists[i] = list(train_df[train_df['date0'] == train_df['date0'].unique()[0]]['change_status_date'+str(date)])\n",
    "    i = i + 1\n",
    "    for color in ['green','red','blue']:\n",
    "        for feature in ['mean', 'std']:\n",
    "            all_lists[i] = list(train_df[train_df['date0'] == train_df['date0'].unique()[0]]['img_'+color+'_'+feature+'_date'+str(date+1)])\n",
    "            i = i + 1\n",
    "            all_lists[i] = list(train_df[train_df['date0'] == train_df['date0'].unique()[0]]['img_'+color+'_'+feature+'_date'+str(date+1)])\n",
    "            i = i + 1\n",
    "\n",
    "zipped = [row for row in zip(*all_lists)]\n",
    "sorted_zipped = sorted(zipped, key=lambda x: x[0])"
   ]
  },
  {
   "attachments": {},
   "cell_type": "markdown",
   "metadata": {},
   "source": [
    "### Get slope function\n",
    "This function will get the slope of a given feature base on the feature's progression overtime. It is used only after the data is already sorted."
   ]
  },
  {
   "cell_type": "code",
   "execution_count": null,
   "metadata": {},
   "outputs": [],
   "source": [
    "def get_slope(row, feature='status'):\n",
    "    index ={'green_mean':0,'green_std':1,'red_mean':2,'red_std':3,'blue_mean':4,'blue_std':5,'status':6}\n",
    "    x = np.array(sort_feature(row)[-1]).reshape(-1,1)\n",
    "    y = sort_feature(row)[index[feature]]\n",
    "    model = LinearRegression().fit(x,y)\n",
    "    slope = model.coef_[0]\n",
    "    return slope"
   ]
  },
  {
   "attachments": {},
   "cell_type": "markdown",
   "metadata": {},
   "source": [
    "### Time dependent features translated into linear slopes\n",
    "Every time dependent feature is trainslated into a slope and then dropped."
   ]
  },
  {
   "cell_type": "code",
   "execution_count": null,
   "metadata": {},
   "outputs": [],
   "source": [
    "index =['green_mean','green_std','red_mean','red_std','blue_mean','blue_std','status']\n",
    "for i in range(7):\n",
    "    feature = index[i]\n",
    "    train_df[feature] = train_df.apply(lambda row: get_slope(row, feature=feature),axis=1)\n",
    "\n",
    "for date in ['1','2','3','4','5']:\n",
    "    for color in ['green','red','blue']:\n",
    "        for value in ['std','mean']:\n",
    "            train_df.drop(columns=['img_'+color+'_'+value+'_date'+date], inplace=True)\n",
    "for date in ['0','1','2','3','4']:\n",
    "    train_df.drop(columns=['date'+date], inplace=True)\n",
    "    train_df.drop(columns=['change_status_date'+date], inplace=True)"
   ]
  },
  {
   "attachments": {},
   "cell_type": "markdown",
   "metadata": {},
   "source": [
    "## Feature selection"
   ]
  },
  {
   "cell_type": "code",
   "execution_count": null,
   "metadata": {},
   "outputs": [],
   "source": [
    "from sklearn.feature_selection import SelectKBest\n",
    "from sklearn.feature_selection import f_regression\n",
    "from sklearn.feature_selection import SelectPercentile\n",
    "from sklearn.feature_selection import f_classif\n",
    "\n",
    "X = train_df.drop('change_type', axis=1)\n",
    "y = train_df['change_type']\n",
    "\n",
    "# Apply SelectKBest with the f_regression scoring function\n",
    "selector = SelectKBest(score_func=f_regression, k=10)\n",
    "X_new = selector.fit_transform(X, y)\n",
    "\n",
    "# Get the 10 best features and their scores\n",
    "scores = selector.scores_\n",
    "best_features = X.columns[selector.get_support()]\n",
    "\n",
    "print(\"Best features:\", best_features)\n",
    "print(\"Scores:\", scores[selector.get_support()])"
   ]
  },
  {
   "cell_type": "code",
   "execution_count": null,
   "metadata": {},
   "outputs": [],
   "source": [
    "X = train_df.drop('change_type', axis=1)\n",
    "y = train_df['change_type']\n",
    "\n",
    "# using f-classif\n",
    "selector = SelectPercentile(f_classif, percentile=40)\n",
    "selector.fit(X, y)\n",
    "X_new = selector.transform(X)\n",
    "\n",
    "# Get the 10 best features and their scores\n",
    "scores = selector.scores_\n",
    "best_features = X.columns[selector.get_support()]\n",
    "\n",
    "print(\"Best features:\", best_features)\n",
    "print(\"Scores:\", scores[selector.get_support()])"
   ]
  },
  {
   "attachments": {},
   "cell_type": "markdown",
   "metadata": {},
   "source": [
    "## Exporting the final treated data"
   ]
  },
  {
   "cell_type": "code",
   "execution_count": 110,
   "metadata": {},
   "outputs": [],
   "source": [
    "train_df = gpd.read_file('train.geojson', index_col=0)"
   ]
  },
  {
   "cell_type": "code",
   "execution_count": 78,
   "metadata": {},
   "outputs": [],
   "source": [
    "train_df_s = train_df.iloc[random.sample(range(0, train_df.shape[0]), 1000),:]"
   ]
  },
  {
   "cell_type": "code",
   "execution_count": 109,
   "metadata": {},
   "outputs": [
    {
     "data": {
      "text/html": [
       "<div>\n",
       "<style scoped>\n",
       "    .dataframe tbody tr th:only-of-type {\n",
       "        vertical-align: middle;\n",
       "    }\n",
       "\n",
       "    .dataframe tbody tr th {\n",
       "        vertical-align: top;\n",
       "    }\n",
       "\n",
       "    .dataframe thead th {\n",
       "        text-align: right;\n",
       "    }\n",
       "</style>\n",
       "<table border=\"1\" class=\"dataframe\">\n",
       "  <thead>\n",
       "    <tr style=\"text-align: right;\">\n",
       "      <th></th>\n",
       "      <th>urban_type</th>\n",
       "      <th>geography_type</th>\n",
       "      <th>change_type</th>\n",
       "      <th>img_red_mean_date1</th>\n",
       "      <th>img_green_mean_date1</th>\n",
       "      <th>img_blue_mean_date1</th>\n",
       "      <th>img_red_std_date1</th>\n",
       "      <th>img_green_std_date1</th>\n",
       "      <th>img_blue_std_date1</th>\n",
       "      <th>img_red_mean_date2</th>\n",
       "      <th>...</th>\n",
       "      <th>date1</th>\n",
       "      <th>change_status_date1</th>\n",
       "      <th>date2</th>\n",
       "      <th>change_status_date2</th>\n",
       "      <th>date3</th>\n",
       "      <th>change_status_date3</th>\n",
       "      <th>date4</th>\n",
       "      <th>change_status_date4</th>\n",
       "      <th>index</th>\n",
       "      <th>geometry</th>\n",
       "    </tr>\n",
       "  </thead>\n",
       "  <tbody>\n",
       "    <tr>\n",
       "      <th>135678</th>\n",
       "      <td>NaN</td>\n",
       "      <td>NaN</td>\n",
       "      <td>Residential</td>\n",
       "      <td>102.505263</td>\n",
       "      <td>92.879211</td>\n",
       "      <td>86.805526</td>\n",
       "      <td>31.522164</td>\n",
       "      <td>29.289492</td>\n",
       "      <td>29.709441</td>\n",
       "      <td>118.385000</td>\n",
       "      <td>...</td>\n",
       "      <td>18-02-2017</td>\n",
       "      <td>Land Cleared</td>\n",
       "      <td>20-05-2016</td>\n",
       "      <td>Greenland</td>\n",
       "      <td>24-03-2018</td>\n",
       "      <td>Construction Done</td>\n",
       "      <td>24-03-2019</td>\n",
       "      <td>Construction Done</td>\n",
       "      <td>135678</td>\n",
       "      <td>POLYGON ((100.31535 20.57315, 100.31519 20.573...</td>\n",
       "    </tr>\n",
       "    <tr>\n",
       "      <th>265313</th>\n",
       "      <td>NaN</td>\n",
       "      <td>NaN</td>\n",
       "      <td>Demolition</td>\n",
       "      <td>65.418279</td>\n",
       "      <td>62.094618</td>\n",
       "      <td>76.919147</td>\n",
       "      <td>27.774697</td>\n",
       "      <td>23.759519</td>\n",
       "      <td>22.736928</td>\n",
       "      <td>90.412326</td>\n",
       "      <td>...</td>\n",
       "      <td>10-03-2018</td>\n",
       "      <td>Prior Construction</td>\n",
       "      <td>15-04-2014</td>\n",
       "      <td>Prior Construction</td>\n",
       "      <td>17-06-2017</td>\n",
       "      <td>Prior Construction</td>\n",
       "      <td>17-12-2015</td>\n",
       "      <td>Prior Construction</td>\n",
       "      <td>265313</td>\n",
       "      <td>POLYGON ((121.03432 32.08196, 121.03444 32.081...</td>\n",
       "    </tr>\n",
       "    <tr>\n",
       "      <th>27778</th>\n",
       "      <td>NaN</td>\n",
       "      <td>NaN</td>\n",
       "      <td>Commercial</td>\n",
       "      <td>207.192829</td>\n",
       "      <td>199.084650</td>\n",
       "      <td>188.192439</td>\n",
       "      <td>2.327114</td>\n",
       "      <td>2.324917</td>\n",
       "      <td>2.377395</td>\n",
       "      <td>210.567720</td>\n",
       "      <td>...</td>\n",
       "      <td>17-12-2016</td>\n",
       "      <td>Construction Started</td>\n",
       "      <td>21-04-2019</td>\n",
       "      <td>Construction Done</td>\n",
       "      <td>24-05-2020</td>\n",
       "      <td>Construction Done</td>\n",
       "      <td>30-03-2018</td>\n",
       "      <td>Construction Midway</td>\n",
       "      <td>27778</td>\n",
       "      <td>POLYGON ((51.59885 25.21476, 51.59884 25.21331...</td>\n",
       "    </tr>\n",
       "    <tr>\n",
       "      <th>34885</th>\n",
       "      <td>NaN</td>\n",
       "      <td>NaN</td>\n",
       "      <td>Residential</td>\n",
       "      <td>85.307630</td>\n",
       "      <td>84.643411</td>\n",
       "      <td>65.667891</td>\n",
       "      <td>44.078090</td>\n",
       "      <td>38.564735</td>\n",
       "      <td>32.909651</td>\n",
       "      <td>88.825785</td>\n",
       "      <td>...</td>\n",
       "      <td>07-05-2017</td>\n",
       "      <td>Prior Construction</td>\n",
       "      <td>18-12-2018</td>\n",
       "      <td>Prior Construction</td>\n",
       "      <td>19-02-2015</td>\n",
       "      <td>Prior Construction</td>\n",
       "      <td>29-03-2020</td>\n",
       "      <td>Prior Construction</td>\n",
       "      <td>34885</td>\n",
       "      <td>POLYGON ((-81.54189 28.40137, -81.54190 28.401...</td>\n",
       "    </tr>\n",
       "    <tr>\n",
       "      <th>95396</th>\n",
       "      <td>NaN</td>\n",
       "      <td>NaN</td>\n",
       "      <td>Demolition</td>\n",
       "      <td>102.846481</td>\n",
       "      <td>95.136282</td>\n",
       "      <td>90.805685</td>\n",
       "      <td>59.621691</td>\n",
       "      <td>53.711453</td>\n",
       "      <td>46.425661</td>\n",
       "      <td>158.079830</td>\n",
       "      <td>...</td>\n",
       "      <td>05-12-2019</td>\n",
       "      <td>Greenland</td>\n",
       "      <td>12-03-2019</td>\n",
       "      <td>Greenland</td>\n",
       "      <td>24-02-2016</td>\n",
       "      <td>Land Cleared</td>\n",
       "      <td>31-03-2013</td>\n",
       "      <td>Prior Construction</td>\n",
       "      <td>95396</td>\n",
       "      <td>POLYGON ((119.68176 31.72808, 119.68180 31.727...</td>\n",
       "    </tr>\n",
       "    <tr>\n",
       "      <th>...</th>\n",
       "      <td>...</td>\n",
       "      <td>...</td>\n",
       "      <td>...</td>\n",
       "      <td>...</td>\n",
       "      <td>...</td>\n",
       "      <td>...</td>\n",
       "      <td>...</td>\n",
       "      <td>...</td>\n",
       "      <td>...</td>\n",
       "      <td>...</td>\n",
       "      <td>...</td>\n",
       "      <td>...</td>\n",
       "      <td>...</td>\n",
       "      <td>...</td>\n",
       "      <td>...</td>\n",
       "      <td>...</td>\n",
       "      <td>...</td>\n",
       "      <td>...</td>\n",
       "      <td>...</td>\n",
       "      <td>...</td>\n",
       "      <td>...</td>\n",
       "    </tr>\n",
       "    <tr>\n",
       "      <th>190945</th>\n",
       "      <td>NaN</td>\n",
       "      <td>NaN</td>\n",
       "      <td>Residential</td>\n",
       "      <td>110.104072</td>\n",
       "      <td>110.488688</td>\n",
       "      <td>114.316742</td>\n",
       "      <td>12.910869</td>\n",
       "      <td>13.094371</td>\n",
       "      <td>12.272514</td>\n",
       "      <td>66.248869</td>\n",
       "      <td>...</td>\n",
       "      <td>12-01-2015</td>\n",
       "      <td>Greenland</td>\n",
       "      <td>13-12-2015</td>\n",
       "      <td>Greenland</td>\n",
       "      <td>18-02-2020</td>\n",
       "      <td>Construction Done</td>\n",
       "      <td>25-01-2018</td>\n",
       "      <td>Construction Done</td>\n",
       "      <td>190945</td>\n",
       "      <td>POLYGON ((73.00910 19.13037, 73.00911 19.13033...</td>\n",
       "    </tr>\n",
       "    <tr>\n",
       "      <th>48715</th>\n",
       "      <td>NaN</td>\n",
       "      <td>NaN</td>\n",
       "      <td>Commercial</td>\n",
       "      <td>62.457419</td>\n",
       "      <td>57.112243</td>\n",
       "      <td>68.870777</td>\n",
       "      <td>34.170547</td>\n",
       "      <td>35.974165</td>\n",
       "      <td>33.615861</td>\n",
       "      <td>79.283786</td>\n",
       "      <td>...</td>\n",
       "      <td>08-02-2015</td>\n",
       "      <td>Construction Done</td>\n",
       "      <td>11-06-2016</td>\n",
       "      <td>Construction Done</td>\n",
       "      <td>24-03-2019</td>\n",
       "      <td>Construction Done</td>\n",
       "      <td>24-08-2017</td>\n",
       "      <td>Construction Done</td>\n",
       "      <td>48715</td>\n",
       "      <td>POLYGON ((117.24496 39.20999, 117.24515 39.209...</td>\n",
       "    </tr>\n",
       "    <tr>\n",
       "      <th>214046</th>\n",
       "      <td>NaN</td>\n",
       "      <td>NaN</td>\n",
       "      <td>Residential</td>\n",
       "      <td>132.963599</td>\n",
       "      <td>108.767170</td>\n",
       "      <td>95.419643</td>\n",
       "      <td>19.720246</td>\n",
       "      <td>17.498706</td>\n",
       "      <td>16.077307</td>\n",
       "      <td>108.368132</td>\n",
       "      <td>...</td>\n",
       "      <td>09-12-2016</td>\n",
       "      <td>Greenland</td>\n",
       "      <td>12-03-2020</td>\n",
       "      <td>Construction Done</td>\n",
       "      <td>21-01-2018</td>\n",
       "      <td>Greenland</td>\n",
       "      <td>22-03-2015</td>\n",
       "      <td>Land Cleared</td>\n",
       "      <td>214046</td>\n",
       "      <td>POLYGON ((90.33938 23.75843, 90.33939 23.75829...</td>\n",
       "    </tr>\n",
       "    <tr>\n",
       "      <th>292925</th>\n",
       "      <td>NaN</td>\n",
       "      <td>NaN</td>\n",
       "      <td>Residential</td>\n",
       "      <td>134.896036</td>\n",
       "      <td>124.512243</td>\n",
       "      <td>118.993976</td>\n",
       "      <td>40.294850</td>\n",
       "      <td>39.438129</td>\n",
       "      <td>37.963948</td>\n",
       "      <td>112.366498</td>\n",
       "      <td>...</td>\n",
       "      <td>15-08-2017</td>\n",
       "      <td>Prior Construction</td>\n",
       "      <td>21-05-2020</td>\n",
       "      <td>Prior Construction</td>\n",
       "      <td>25-08-2014</td>\n",
       "      <td>Prior Construction</td>\n",
       "      <td>25-11-2018</td>\n",
       "      <td>Prior Construction</td>\n",
       "      <td>292925</td>\n",
       "      <td>POLYGON ((77.11592 28.51331, 77.11606 28.51330...</td>\n",
       "    </tr>\n",
       "    <tr>\n",
       "      <th>252107</th>\n",
       "      <td>NaN</td>\n",
       "      <td>NaN</td>\n",
       "      <td>Commercial</td>\n",
       "      <td>169.978983</td>\n",
       "      <td>165.004399</td>\n",
       "      <td>155.266129</td>\n",
       "      <td>13.124490</td>\n",
       "      <td>10.819206</td>\n",
       "      <td>10.877677</td>\n",
       "      <td>154.634653</td>\n",
       "      <td>...</td>\n",
       "      <td>17-12-2015</td>\n",
       "      <td>Construction Done</td>\n",
       "      <td>19-12-2014</td>\n",
       "      <td>Land Cleared</td>\n",
       "      <td>20-12-2017</td>\n",
       "      <td>Materials Introduced</td>\n",
       "      <td>22-10-2018</td>\n",
       "      <td>Construction Done</td>\n",
       "      <td>252107</td>\n",
       "      <td>POLYGON ((111.38203 30.63805, 111.38195 30.637...</td>\n",
       "    </tr>\n",
       "  </tbody>\n",
       "</table>\n",
       "<p>1000 rows × 45 columns</p>\n",
       "</div>"
      ],
      "text/plain": [
       "       urban_type geography_type  change_type  img_red_mean_date1  \\\n",
       "135678        NaN            NaN  Residential          102.505263   \n",
       "265313        NaN            NaN   Demolition           65.418279   \n",
       "27778         NaN            NaN   Commercial          207.192829   \n",
       "34885         NaN            NaN  Residential           85.307630   \n",
       "95396         NaN            NaN   Demolition          102.846481   \n",
       "...           ...            ...          ...                 ...   \n",
       "190945        NaN            NaN  Residential          110.104072   \n",
       "48715         NaN            NaN   Commercial           62.457419   \n",
       "214046        NaN            NaN  Residential          132.963599   \n",
       "292925        NaN            NaN  Residential          134.896036   \n",
       "252107        NaN            NaN   Commercial          169.978983   \n",
       "\n",
       "        img_green_mean_date1  img_blue_mean_date1  img_red_std_date1  \\\n",
       "135678             92.879211            86.805526          31.522164   \n",
       "265313             62.094618            76.919147          27.774697   \n",
       "27778             199.084650           188.192439           2.327114   \n",
       "34885              84.643411            65.667891          44.078090   \n",
       "95396              95.136282            90.805685          59.621691   \n",
       "...                      ...                  ...                ...   \n",
       "190945            110.488688           114.316742          12.910869   \n",
       "48715              57.112243            68.870777          34.170547   \n",
       "214046            108.767170            95.419643          19.720246   \n",
       "292925            124.512243           118.993976          40.294850   \n",
       "252107            165.004399           155.266129          13.124490   \n",
       "\n",
       "        img_green_std_date1  img_blue_std_date1  img_red_mean_date2  ...  \\\n",
       "135678            29.289492           29.709441          118.385000  ...   \n",
       "265313            23.759519           22.736928           90.412326  ...   \n",
       "27778              2.324917            2.377395          210.567720  ...   \n",
       "34885             38.564735           32.909651           88.825785  ...   \n",
       "95396             53.711453           46.425661          158.079830  ...   \n",
       "...                     ...                 ...                 ...  ...   \n",
       "190945            13.094371           12.272514           66.248869  ...   \n",
       "48715             35.974165           33.615861           79.283786  ...   \n",
       "214046            17.498706           16.077307          108.368132  ...   \n",
       "292925            39.438129           37.963948          112.366498  ...   \n",
       "252107            10.819206           10.877677          154.634653  ...   \n",
       "\n",
       "             date1   change_status_date1       date2  change_status_date2  \\\n",
       "135678  18-02-2017          Land Cleared  20-05-2016            Greenland   \n",
       "265313  10-03-2018    Prior Construction  15-04-2014   Prior Construction   \n",
       "27778   17-12-2016  Construction Started  21-04-2019    Construction Done   \n",
       "34885   07-05-2017    Prior Construction  18-12-2018   Prior Construction   \n",
       "95396   05-12-2019             Greenland  12-03-2019            Greenland   \n",
       "...            ...                   ...         ...                  ...   \n",
       "190945  12-01-2015             Greenland  13-12-2015            Greenland   \n",
       "48715   08-02-2015     Construction Done  11-06-2016    Construction Done   \n",
       "214046  09-12-2016             Greenland  12-03-2020    Construction Done   \n",
       "292925  15-08-2017    Prior Construction  21-05-2020   Prior Construction   \n",
       "252107  17-12-2015     Construction Done  19-12-2014         Land Cleared   \n",
       "\n",
       "             date3   change_status_date3       date4  change_status_date4  \\\n",
       "135678  24-03-2018     Construction Done  24-03-2019    Construction Done   \n",
       "265313  17-06-2017    Prior Construction  17-12-2015   Prior Construction   \n",
       "27778   24-05-2020     Construction Done  30-03-2018  Construction Midway   \n",
       "34885   19-02-2015    Prior Construction  29-03-2020   Prior Construction   \n",
       "95396   24-02-2016          Land Cleared  31-03-2013   Prior Construction   \n",
       "...            ...                   ...         ...                  ...   \n",
       "190945  18-02-2020     Construction Done  25-01-2018    Construction Done   \n",
       "48715   24-03-2019     Construction Done  24-08-2017    Construction Done   \n",
       "214046  21-01-2018             Greenland  22-03-2015         Land Cleared   \n",
       "292925  25-08-2014    Prior Construction  25-11-2018   Prior Construction   \n",
       "252107  20-12-2017  Materials Introduced  22-10-2018    Construction Done   \n",
       "\n",
       "         index                                           geometry  \n",
       "135678  135678  POLYGON ((100.31535 20.57315, 100.31519 20.573...  \n",
       "265313  265313  POLYGON ((121.03432 32.08196, 121.03444 32.081...  \n",
       "27778    27778  POLYGON ((51.59885 25.21476, 51.59884 25.21331...  \n",
       "34885    34885  POLYGON ((-81.54189 28.40137, -81.54190 28.401...  \n",
       "95396    95396  POLYGON ((119.68176 31.72808, 119.68180 31.727...  \n",
       "...        ...                                                ...  \n",
       "190945  190945  POLYGON ((73.00910 19.13037, 73.00911 19.13033...  \n",
       "48715    48715  POLYGON ((117.24496 39.20999, 117.24515 39.209...  \n",
       "214046  214046  POLYGON ((90.33938 23.75843, 90.33939 23.75829...  \n",
       "292925  292925  POLYGON ((77.11592 28.51331, 77.11606 28.51330...  \n",
       "252107  252107  POLYGON ((111.38203 30.63805, 111.38195 30.637...  \n",
       "\n",
       "[1000 rows x 45 columns]"
      ]
     },
     "execution_count": 109,
     "metadata": {},
     "output_type": "execute_result"
    }
   ],
   "source": [
    "from treat_data import TreatData\n",
    "\n",
    "treat_data = TreatData(train_df, type_data='dataframe')\n",
    "treat_data.df"
   ]
  },
  {
   "cell_type": "code",
   "execution_count": 108,
   "metadata": {},
   "outputs": [
    {
     "ename": "AttributeError",
     "evalue": "'function' object has no attribute 'df'",
     "output_type": "error",
     "traceback": [
      "\u001b[1;31m---------------------------------------------------------------------------\u001b[0m",
      "\u001b[1;31mAttributeError\u001b[0m                            Traceback (most recent call last)",
      "\u001b[1;32mc:\\Users\\nicol\\OneDrive\\Documents\\DD\\SG6\\Machine Learning\\Kaggle\\notebook.ipynb Cell 49\u001b[0m in \u001b[0;36m<cell line: 1>\u001b[1;34m()\u001b[0m\n\u001b[1;32m----> <a href='vscode-notebook-cell:/c%3A/Users/nicol/OneDrive/Documents/DD/SG6/Machine%20Learning/Kaggle/notebook.ipynb#Y336sZmlsZQ%3D%3D?line=0'>1</a>\u001b[0m treat_data\u001b[39m.\u001b[39;49mclean\u001b[39m.\u001b[39;49mdf\n",
      "\u001b[1;31mAttributeError\u001b[0m: 'function' object has no attribute 'df'"
     ]
    }
   ],
   "source": [
    "treat_data.clean()"
   ]
  },
  {
   "cell_type": "code",
   "execution_count": 106,
   "metadata": {},
   "outputs": [
    {
     "data": {
      "text/html": [
       "<div>\n",
       "<style scoped>\n",
       "    .dataframe tbody tr th:only-of-type {\n",
       "        vertical-align: middle;\n",
       "    }\n",
       "\n",
       "    .dataframe tbody tr th {\n",
       "        vertical-align: top;\n",
       "    }\n",
       "\n",
       "    .dataframe thead th {\n",
       "        text-align: right;\n",
       "    }\n",
       "</style>\n",
       "<table border=\"1\" class=\"dataframe\">\n",
       "  <thead>\n",
       "    <tr style=\"text-align: right;\">\n",
       "      <th></th>\n",
       "      <th>urban_type</th>\n",
       "      <th>geography_type</th>\n",
       "      <th>change_type</th>\n",
       "      <th>img_red_mean_date1</th>\n",
       "      <th>img_green_mean_date1</th>\n",
       "      <th>img_blue_mean_date1</th>\n",
       "      <th>img_red_std_date1</th>\n",
       "      <th>img_green_std_date1</th>\n",
       "      <th>img_blue_std_date1</th>\n",
       "      <th>img_red_mean_date2</th>\n",
       "      <th>...</th>\n",
       "      <th>date1</th>\n",
       "      <th>change_status_date1</th>\n",
       "      <th>date2</th>\n",
       "      <th>change_status_date2</th>\n",
       "      <th>date3</th>\n",
       "      <th>change_status_date3</th>\n",
       "      <th>date4</th>\n",
       "      <th>change_status_date4</th>\n",
       "      <th>index</th>\n",
       "      <th>geometry</th>\n",
       "    </tr>\n",
       "  </thead>\n",
       "  <tbody>\n",
       "    <tr>\n",
       "      <th>135678</th>\n",
       "      <td>NaN</td>\n",
       "      <td>NaN</td>\n",
       "      <td>Residential</td>\n",
       "      <td>102.505263</td>\n",
       "      <td>92.879211</td>\n",
       "      <td>86.805526</td>\n",
       "      <td>31.522164</td>\n",
       "      <td>29.289492</td>\n",
       "      <td>29.709441</td>\n",
       "      <td>118.385000</td>\n",
       "      <td>...</td>\n",
       "      <td>18-02-2017</td>\n",
       "      <td>Land Cleared</td>\n",
       "      <td>20-05-2016</td>\n",
       "      <td>Greenland</td>\n",
       "      <td>24-03-2018</td>\n",
       "      <td>Construction Done</td>\n",
       "      <td>24-03-2019</td>\n",
       "      <td>Construction Done</td>\n",
       "      <td>135678</td>\n",
       "      <td>POLYGON ((100.31535 20.57315, 100.31519 20.573...</td>\n",
       "    </tr>\n",
       "    <tr>\n",
       "      <th>265313</th>\n",
       "      <td>NaN</td>\n",
       "      <td>NaN</td>\n",
       "      <td>Demolition</td>\n",
       "      <td>65.418279</td>\n",
       "      <td>62.094618</td>\n",
       "      <td>76.919147</td>\n",
       "      <td>27.774697</td>\n",
       "      <td>23.759519</td>\n",
       "      <td>22.736928</td>\n",
       "      <td>90.412326</td>\n",
       "      <td>...</td>\n",
       "      <td>10-03-2018</td>\n",
       "      <td>Prior Construction</td>\n",
       "      <td>15-04-2014</td>\n",
       "      <td>Prior Construction</td>\n",
       "      <td>17-06-2017</td>\n",
       "      <td>Prior Construction</td>\n",
       "      <td>17-12-2015</td>\n",
       "      <td>Prior Construction</td>\n",
       "      <td>265313</td>\n",
       "      <td>POLYGON ((121.03432 32.08196, 121.03444 32.081...</td>\n",
       "    </tr>\n",
       "    <tr>\n",
       "      <th>27778</th>\n",
       "      <td>NaN</td>\n",
       "      <td>NaN</td>\n",
       "      <td>Commercial</td>\n",
       "      <td>207.192829</td>\n",
       "      <td>199.084650</td>\n",
       "      <td>188.192439</td>\n",
       "      <td>2.327114</td>\n",
       "      <td>2.324917</td>\n",
       "      <td>2.377395</td>\n",
       "      <td>210.567720</td>\n",
       "      <td>...</td>\n",
       "      <td>17-12-2016</td>\n",
       "      <td>Construction Started</td>\n",
       "      <td>21-04-2019</td>\n",
       "      <td>Construction Done</td>\n",
       "      <td>24-05-2020</td>\n",
       "      <td>Construction Done</td>\n",
       "      <td>30-03-2018</td>\n",
       "      <td>Construction Midway</td>\n",
       "      <td>27778</td>\n",
       "      <td>POLYGON ((51.59885 25.21476, 51.59884 25.21331...</td>\n",
       "    </tr>\n",
       "    <tr>\n",
       "      <th>34885</th>\n",
       "      <td>NaN</td>\n",
       "      <td>NaN</td>\n",
       "      <td>Residential</td>\n",
       "      <td>85.307630</td>\n",
       "      <td>84.643411</td>\n",
       "      <td>65.667891</td>\n",
       "      <td>44.078090</td>\n",
       "      <td>38.564735</td>\n",
       "      <td>32.909651</td>\n",
       "      <td>88.825785</td>\n",
       "      <td>...</td>\n",
       "      <td>07-05-2017</td>\n",
       "      <td>Prior Construction</td>\n",
       "      <td>18-12-2018</td>\n",
       "      <td>Prior Construction</td>\n",
       "      <td>19-02-2015</td>\n",
       "      <td>Prior Construction</td>\n",
       "      <td>29-03-2020</td>\n",
       "      <td>Prior Construction</td>\n",
       "      <td>34885</td>\n",
       "      <td>POLYGON ((-81.54189 28.40137, -81.54190 28.401...</td>\n",
       "    </tr>\n",
       "    <tr>\n",
       "      <th>95396</th>\n",
       "      <td>NaN</td>\n",
       "      <td>NaN</td>\n",
       "      <td>Demolition</td>\n",
       "      <td>102.846481</td>\n",
       "      <td>95.136282</td>\n",
       "      <td>90.805685</td>\n",
       "      <td>59.621691</td>\n",
       "      <td>53.711453</td>\n",
       "      <td>46.425661</td>\n",
       "      <td>158.079830</td>\n",
       "      <td>...</td>\n",
       "      <td>05-12-2019</td>\n",
       "      <td>Greenland</td>\n",
       "      <td>12-03-2019</td>\n",
       "      <td>Greenland</td>\n",
       "      <td>24-02-2016</td>\n",
       "      <td>Land Cleared</td>\n",
       "      <td>31-03-2013</td>\n",
       "      <td>Prior Construction</td>\n",
       "      <td>95396</td>\n",
       "      <td>POLYGON ((119.68176 31.72808, 119.68180 31.727...</td>\n",
       "    </tr>\n",
       "    <tr>\n",
       "      <th>...</th>\n",
       "      <td>...</td>\n",
       "      <td>...</td>\n",
       "      <td>...</td>\n",
       "      <td>...</td>\n",
       "      <td>...</td>\n",
       "      <td>...</td>\n",
       "      <td>...</td>\n",
       "      <td>...</td>\n",
       "      <td>...</td>\n",
       "      <td>...</td>\n",
       "      <td>...</td>\n",
       "      <td>...</td>\n",
       "      <td>...</td>\n",
       "      <td>...</td>\n",
       "      <td>...</td>\n",
       "      <td>...</td>\n",
       "      <td>...</td>\n",
       "      <td>...</td>\n",
       "      <td>...</td>\n",
       "      <td>...</td>\n",
       "      <td>...</td>\n",
       "    </tr>\n",
       "    <tr>\n",
       "      <th>190945</th>\n",
       "      <td>NaN</td>\n",
       "      <td>NaN</td>\n",
       "      <td>Residential</td>\n",
       "      <td>110.104072</td>\n",
       "      <td>110.488688</td>\n",
       "      <td>114.316742</td>\n",
       "      <td>12.910869</td>\n",
       "      <td>13.094371</td>\n",
       "      <td>12.272514</td>\n",
       "      <td>66.248869</td>\n",
       "      <td>...</td>\n",
       "      <td>12-01-2015</td>\n",
       "      <td>Greenland</td>\n",
       "      <td>13-12-2015</td>\n",
       "      <td>Greenland</td>\n",
       "      <td>18-02-2020</td>\n",
       "      <td>Construction Done</td>\n",
       "      <td>25-01-2018</td>\n",
       "      <td>Construction Done</td>\n",
       "      <td>190945</td>\n",
       "      <td>POLYGON ((73.00910 19.13037, 73.00911 19.13033...</td>\n",
       "    </tr>\n",
       "    <tr>\n",
       "      <th>48715</th>\n",
       "      <td>NaN</td>\n",
       "      <td>NaN</td>\n",
       "      <td>Commercial</td>\n",
       "      <td>62.457419</td>\n",
       "      <td>57.112243</td>\n",
       "      <td>68.870777</td>\n",
       "      <td>34.170547</td>\n",
       "      <td>35.974165</td>\n",
       "      <td>33.615861</td>\n",
       "      <td>79.283786</td>\n",
       "      <td>...</td>\n",
       "      <td>08-02-2015</td>\n",
       "      <td>Construction Done</td>\n",
       "      <td>11-06-2016</td>\n",
       "      <td>Construction Done</td>\n",
       "      <td>24-03-2019</td>\n",
       "      <td>Construction Done</td>\n",
       "      <td>24-08-2017</td>\n",
       "      <td>Construction Done</td>\n",
       "      <td>48715</td>\n",
       "      <td>POLYGON ((117.24496 39.20999, 117.24515 39.209...</td>\n",
       "    </tr>\n",
       "    <tr>\n",
       "      <th>214046</th>\n",
       "      <td>NaN</td>\n",
       "      <td>NaN</td>\n",
       "      <td>Residential</td>\n",
       "      <td>132.963599</td>\n",
       "      <td>108.767170</td>\n",
       "      <td>95.419643</td>\n",
       "      <td>19.720246</td>\n",
       "      <td>17.498706</td>\n",
       "      <td>16.077307</td>\n",
       "      <td>108.368132</td>\n",
       "      <td>...</td>\n",
       "      <td>09-12-2016</td>\n",
       "      <td>Greenland</td>\n",
       "      <td>12-03-2020</td>\n",
       "      <td>Construction Done</td>\n",
       "      <td>21-01-2018</td>\n",
       "      <td>Greenland</td>\n",
       "      <td>22-03-2015</td>\n",
       "      <td>Land Cleared</td>\n",
       "      <td>214046</td>\n",
       "      <td>POLYGON ((90.33938 23.75843, 90.33939 23.75829...</td>\n",
       "    </tr>\n",
       "    <tr>\n",
       "      <th>292925</th>\n",
       "      <td>NaN</td>\n",
       "      <td>NaN</td>\n",
       "      <td>Residential</td>\n",
       "      <td>134.896036</td>\n",
       "      <td>124.512243</td>\n",
       "      <td>118.993976</td>\n",
       "      <td>40.294850</td>\n",
       "      <td>39.438129</td>\n",
       "      <td>37.963948</td>\n",
       "      <td>112.366498</td>\n",
       "      <td>...</td>\n",
       "      <td>15-08-2017</td>\n",
       "      <td>Prior Construction</td>\n",
       "      <td>21-05-2020</td>\n",
       "      <td>Prior Construction</td>\n",
       "      <td>25-08-2014</td>\n",
       "      <td>Prior Construction</td>\n",
       "      <td>25-11-2018</td>\n",
       "      <td>Prior Construction</td>\n",
       "      <td>292925</td>\n",
       "      <td>POLYGON ((77.11592 28.51331, 77.11606 28.51330...</td>\n",
       "    </tr>\n",
       "    <tr>\n",
       "      <th>252107</th>\n",
       "      <td>NaN</td>\n",
       "      <td>NaN</td>\n",
       "      <td>Commercial</td>\n",
       "      <td>169.978983</td>\n",
       "      <td>165.004399</td>\n",
       "      <td>155.266129</td>\n",
       "      <td>13.124490</td>\n",
       "      <td>10.819206</td>\n",
       "      <td>10.877677</td>\n",
       "      <td>154.634653</td>\n",
       "      <td>...</td>\n",
       "      <td>17-12-2015</td>\n",
       "      <td>Construction Done</td>\n",
       "      <td>19-12-2014</td>\n",
       "      <td>Land Cleared</td>\n",
       "      <td>20-12-2017</td>\n",
       "      <td>Materials Introduced</td>\n",
       "      <td>22-10-2018</td>\n",
       "      <td>Construction Done</td>\n",
       "      <td>252107</td>\n",
       "      <td>POLYGON ((111.38203 30.63805, 111.38195 30.637...</td>\n",
       "    </tr>\n",
       "  </tbody>\n",
       "</table>\n",
       "<p>1000 rows × 45 columns</p>\n",
       "</div>"
      ],
      "text/plain": [
       "       urban_type geography_type  change_type  img_red_mean_date1  \\\n",
       "135678        NaN            NaN  Residential          102.505263   \n",
       "265313        NaN            NaN   Demolition           65.418279   \n",
       "27778         NaN            NaN   Commercial          207.192829   \n",
       "34885         NaN            NaN  Residential           85.307630   \n",
       "95396         NaN            NaN   Demolition          102.846481   \n",
       "...           ...            ...          ...                 ...   \n",
       "190945        NaN            NaN  Residential          110.104072   \n",
       "48715         NaN            NaN   Commercial           62.457419   \n",
       "214046        NaN            NaN  Residential          132.963599   \n",
       "292925        NaN            NaN  Residential          134.896036   \n",
       "252107        NaN            NaN   Commercial          169.978983   \n",
       "\n",
       "        img_green_mean_date1  img_blue_mean_date1  img_red_std_date1  \\\n",
       "135678             92.879211            86.805526          31.522164   \n",
       "265313             62.094618            76.919147          27.774697   \n",
       "27778             199.084650           188.192439           2.327114   \n",
       "34885              84.643411            65.667891          44.078090   \n",
       "95396              95.136282            90.805685          59.621691   \n",
       "...                      ...                  ...                ...   \n",
       "190945            110.488688           114.316742          12.910869   \n",
       "48715              57.112243            68.870777          34.170547   \n",
       "214046            108.767170            95.419643          19.720246   \n",
       "292925            124.512243           118.993976          40.294850   \n",
       "252107            165.004399           155.266129          13.124490   \n",
       "\n",
       "        img_green_std_date1  img_blue_std_date1  img_red_mean_date2  ...  \\\n",
       "135678            29.289492           29.709441          118.385000  ...   \n",
       "265313            23.759519           22.736928           90.412326  ...   \n",
       "27778              2.324917            2.377395          210.567720  ...   \n",
       "34885             38.564735           32.909651           88.825785  ...   \n",
       "95396             53.711453           46.425661          158.079830  ...   \n",
       "...                     ...                 ...                 ...  ...   \n",
       "190945            13.094371           12.272514           66.248869  ...   \n",
       "48715             35.974165           33.615861           79.283786  ...   \n",
       "214046            17.498706           16.077307          108.368132  ...   \n",
       "292925            39.438129           37.963948          112.366498  ...   \n",
       "252107            10.819206           10.877677          154.634653  ...   \n",
       "\n",
       "             date1   change_status_date1       date2  change_status_date2  \\\n",
       "135678  18-02-2017          Land Cleared  20-05-2016            Greenland   \n",
       "265313  10-03-2018    Prior Construction  15-04-2014   Prior Construction   \n",
       "27778   17-12-2016  Construction Started  21-04-2019    Construction Done   \n",
       "34885   07-05-2017    Prior Construction  18-12-2018   Prior Construction   \n",
       "95396   05-12-2019             Greenland  12-03-2019            Greenland   \n",
       "...            ...                   ...         ...                  ...   \n",
       "190945  12-01-2015             Greenland  13-12-2015            Greenland   \n",
       "48715   08-02-2015     Construction Done  11-06-2016    Construction Done   \n",
       "214046  09-12-2016             Greenland  12-03-2020    Construction Done   \n",
       "292925  15-08-2017    Prior Construction  21-05-2020   Prior Construction   \n",
       "252107  17-12-2015     Construction Done  19-12-2014         Land Cleared   \n",
       "\n",
       "             date3   change_status_date3       date4  change_status_date4  \\\n",
       "135678  24-03-2018     Construction Done  24-03-2019    Construction Done   \n",
       "265313  17-06-2017    Prior Construction  17-12-2015   Prior Construction   \n",
       "27778   24-05-2020     Construction Done  30-03-2018  Construction Midway   \n",
       "34885   19-02-2015    Prior Construction  29-03-2020   Prior Construction   \n",
       "95396   24-02-2016          Land Cleared  31-03-2013   Prior Construction   \n",
       "...            ...                   ...         ...                  ...   \n",
       "190945  18-02-2020     Construction Done  25-01-2018    Construction Done   \n",
       "48715   24-03-2019     Construction Done  24-08-2017    Construction Done   \n",
       "214046  21-01-2018             Greenland  22-03-2015         Land Cleared   \n",
       "292925  25-08-2014    Prior Construction  25-11-2018   Prior Construction   \n",
       "252107  20-12-2017  Materials Introduced  22-10-2018    Construction Done   \n",
       "\n",
       "         index                                           geometry  \n",
       "135678  135678  POLYGON ((100.31535 20.57315, 100.31519 20.573...  \n",
       "265313  265313  POLYGON ((121.03432 32.08196, 121.03444 32.081...  \n",
       "27778    27778  POLYGON ((51.59885 25.21476, 51.59884 25.21331...  \n",
       "34885    34885  POLYGON ((-81.54189 28.40137, -81.54190 28.401...  \n",
       "95396    95396  POLYGON ((119.68176 31.72808, 119.68180 31.727...  \n",
       "...        ...                                                ...  \n",
       "190945  190945  POLYGON ((73.00910 19.13037, 73.00911 19.13033...  \n",
       "48715    48715  POLYGON ((117.24496 39.20999, 117.24515 39.209...  \n",
       "214046  214046  POLYGON ((90.33938 23.75843, 90.33939 23.75829...  \n",
       "292925  292925  POLYGON ((77.11592 28.51331, 77.11606 28.51330...  \n",
       "252107  252107  POLYGON ((111.38203 30.63805, 111.38195 30.637...  \n",
       "\n",
       "[1000 rows x 45 columns]"
      ]
     },
     "execution_count": 106,
     "metadata": {},
     "output_type": "execute_result"
    }
   ],
   "source": [
    "treat_data.df"
   ]
  },
  {
   "cell_type": "code",
   "execution_count": null,
   "metadata": {},
   "outputs": [],
   "source": [
    "train_df.to_csv('train_clean_df.csv', index=False)"
   ]
  }
 ],
 "metadata": {
  "kernelspec": {
   "display_name": "base",
   "language": "python",
   "name": "python3"
  },
  "language_info": {
   "codemirror_mode": {
    "name": "ipython",
    "version": 3
   },
   "file_extension": ".py",
   "mimetype": "text/x-python",
   "name": "python",
   "nbconvert_exporter": "python",
   "pygments_lexer": "ipython3",
   "version": "3.9.12"
  },
  "orig_nbformat": 4,
  "vscode": {
   "interpreter": {
    "hash": "07878c45a9b18549480ac2f9ecb8f16bb7162456cf654f6757bcff1d6396abe7"
   }
  }
 },
 "nbformat": 4,
 "nbformat_minor": 2
}
