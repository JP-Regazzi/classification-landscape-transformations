{
 "cells": [
  {
   "cell_type": "code",
   "execution_count": 1,
   "metadata": {},
   "outputs": [],
   "source": [
    "import geopandas as gpd\n",
    "import pandas as pd\n",
    "import numpy as np"
   ]
  },
  {
   "cell_type": "code",
   "execution_count": 2,
   "metadata": {},
   "outputs": [],
   "source": [
    "change_type_map = {'Demolition': 0, 'Road': 1, 'Residential': 2, 'Commercial': 3, 'Industrial': 4,\n",
    "       'Mega Projects': 5}\n",
    "\n",
    "## Read csvs\n",
    "\n",
    "train_df = gpd.read_file('train.geojson', index_col=0)\n",
    "test_df = gpd.read_file('test.geojson', index_col=0)\n"
   ]
  },
  {
   "cell_type": "code",
   "execution_count": 63,
   "metadata": {},
   "outputs": [
    {
     "data": {
      "text/plain": [
       "Residential      148435\n",
       "Commercial       100422\n",
       "Demolition        31509\n",
       "Road              14305\n",
       "Industrial         1324\n",
       "Mega Projects       151\n",
       "Name: change_type, dtype: int64"
      ]
     },
     "execution_count": 63,
     "metadata": {},
     "output_type": "execute_result"
    }
   ],
   "source": [
    "train_df[\"change_type\"].value_counts()"
   ]
  },
  {
   "cell_type": "code",
   "execution_count": 3,
   "metadata": {},
   "outputs": [],
   "source": [
    "COLORS = ['red', 'green', 'blue']\n",
    "METRICS = ['std', 'mean']\n",
    "\n",
    "CHANGE_TYPE_MAP = {'Demolition': 0, 'Road': 1, 'Residential': 2, 'Commercial': 3, 'Industrial': 4,\n",
    "                   'Mega Projects': 5}\n",
    "CHANGE_STATUS_MAP = {'Greenland': 1, 'Land Cleared': 2, 'Materials Introduced': 3,\n",
    "                     'Prior Construction': 4, 'Excavation': 5, 'Construction Started': 6,\n",
    "                     'Construction Midway': 7, 'Materials Dumped': 8, 'Construction Done': 9,\n",
    "                     'Operational': 10}\n",
    "\n",
    "GEOGRAPHY_TYPES = ['Dense Forest', 'Grass Land', 'Sparse Forest', 'Farms', 'River',\n",
    "                   'Coastal', 'Lakes', 'Barren Land', 'Desert', 'Hills', 'Snow', 'N,A']\n",
    "URBAN_TYPES = ['Sparse Urban', 'Rural', 'Dense Urban', 'Urban Slum', 'Industrial', 'N,A']\n",
    "\n",
    "COLUMNS_TO_DROP = ['geography_type', 'urban_type', 'date0', 'date1', 'date2', 'date3', 'date4', 'index']\n",
    "DATE_COLUMNS = ['date0', 'date1', 'date2', 'date3', 'date4']\n",
    "\n",
    "BINARY_FEATURES = ['Dense Forest', 'Grass Land', 'Sparse Forest', 'Farms', 'River',\n",
    "                   'Coastal', 'Lakes', 'Barren Land', 'Desert', 'Hills', 'Snow',\n",
    "                   'Sparse Urban', 'Rural', 'Dense Urban', 'Urban Slum', 'Industrial']\n",
    "CATEGORICAL_FEATURES = ['change_status_date0', 'change_status_date1', 'change_status_date2', 'change_status_date3',\n",
    "                      'change_status_date4']\n",
    "\n",
    "\n",
    "CHANGE_STATUS_VALUE_COLUMNS = ['change_status_value_date0', 'change_status_value_date1', 'change_status_value_date2', 'change_status_value_date3', 'change_status_value_date4']\n",
    "CHANGE_STATUS_COLUMNS = ['change_status_date0', 'change_status_date1', 'change_status_date2', 'change_status_date3', 'change_status_date4']\n"
   ]
  },
  {
   "cell_type": "code",
   "execution_count": 4,
   "metadata": {},
   "outputs": [],
   "source": [
    "copied_train_df = train_df.copy(deep=True)"
   ]
  },
  {
   "cell_type": "code",
   "execution_count": 5,
   "metadata": {},
   "outputs": [],
   "source": [
    "copied_train_df['change_type'] = copied_train_df['change_type'].map(CHANGE_TYPE_MAP)"
   ]
  },
  {
   "cell_type": "code",
   "execution_count": 6,
   "metadata": {},
   "outputs": [],
   "source": [
    "for i in range(5): copied_train_df[f'change_status_date{i}'] = copied_train_df[f'change_status_date{i}'].map(CHANGE_STATUS_MAP)"
   ]
  },
  {
   "cell_type": "code",
   "execution_count": 7,
   "metadata": {},
   "outputs": [],
   "source": [
    "# Decidir se vamos colocar N,A como coluna ou tratar ele como NaN"
   ]
  },
  {
   "cell_type": "code",
   "execution_count": 8,
   "metadata": {},
   "outputs": [],
   "source": [
    "# One-hot encoding\n",
    "for geograph_type in GEOGRAPHY_TYPES:\n",
    "    copied_train_df[\"geography_type\" + geograph_type] = copied_train_df['geography_type'].apply(lambda x: 1 if geograph_type in x else 0)\n",
    "for urban_type in URBAN_TYPES:\n",
    "    copied_train_df[\"urban_type\" + urban_type] = copied_train_df['urban_type'].apply(lambda x: 1 if urban_type in x else 0)\n"
   ]
  },
  {
   "cell_type": "code",
   "execution_count": 9,
   "metadata": {},
   "outputs": [],
   "source": [
    "#copied_train_df_nan = copied_train_df[copied_train_df.isna().any(axis=1)]\n",
    "#copied_train_df = copied_train_df.dropna()\n"
   ]
  },
  {
   "cell_type": "code",
   "execution_count": 10,
   "metadata": {},
   "outputs": [],
   "source": [
    "copied_train_df[DATE_COLUMNS] = copied_train_df[DATE_COLUMNS].apply(lambda x: pd.to_datetime(x, format='%d-%m-%Y', errors='coerce'))"
   ]
  },
  {
   "cell_type": "code",
   "execution_count": 11,
   "metadata": {},
   "outputs": [],
   "source": [
    "def sort_dates(row):\n",
    "\n",
    "    # Sort columns by date\n",
    "    columns_order = np.argsort(row[DATE_COLUMNS].values)\n",
    "    new_row = row.copy(deep=True)\n",
    "\n",
    "    # Update date and change_status order\n",
    "    for i in range(5):\n",
    "        new_row[f'date{i}'] = row[f'date{columns_order[i]}']\n",
    "        new_row[f'change_status_date{i}'] = row[f'change_status_date{columns_order[i]}']\n",
    "\n",
    "    # Update color metrics order\n",
    "    for metric in METRICS:\n",
    "        for color in COLORS:\n",
    "            for i in range(1, 6):\n",
    "                new_row[f'img_{color}_{metric}_date{i}'] = row[f'img_{color}_{metric}_date{columns_order[i-1]+1}']\n",
    "\n",
    "    return new_row\n",
    "\n",
    "copied_train_df = copied_train_df.apply(sort_dates, axis=1)"
   ]
  },
  {
   "cell_type": "code",
   "execution_count": 12,
   "metadata": {},
   "outputs": [],
   "source": [
    "copied_train_df_save = copied_train_df.copy(deep=True)"
   ]
  },
  {
   "cell_type": "code",
   "execution_count": 13,
   "metadata": {},
   "outputs": [],
   "source": [
    "copied_train_df_save[DATE_COLUMNS] = copied_train_df_save[DATE_COLUMNS].apply(np.float64)"
   ]
  },
  {
   "cell_type": "code",
   "execution_count": 14,
   "metadata": {},
   "outputs": [],
   "source": [
    "copied_train_df_save.loc[copied_train_df_save['date0'] < 0, 'date0'] = np.nan\n",
    "copied_train_df_save.loc[copied_train_df_save['date1'] < 0, 'date1'] = np.nan\n",
    "copied_train_df_save.loc[copied_train_df_save['date2'] < 0, 'date2'] = np.nan\n",
    "copied_train_df_save.loc[copied_train_df_save['date3'] < 0, 'date3'] = np.nan\n",
    "copied_train_df_save.loc[copied_train_df_save['date4'] < 0, 'date4'] = np.nan"
   ]
  },
  {
   "cell_type": "code",
   "execution_count": 15,
   "metadata": {},
   "outputs": [
    {
     "name": "stderr",
     "output_type": "stream",
     "text": [
      "c:\\Users\\merte\\anaconda3\\lib\\site-packages\\ipykernel_launcher.py:6: UserWarning: Geometry is in a geographic CRS. Results from 'area' are likely incorrect. Use 'GeoSeries.to_crs()' to re-project geometries to a projected CRS before this operation.\n",
      "\n",
      "  \n",
      "c:\\Users\\merte\\anaconda3\\lib\\site-packages\\ipykernel_launcher.py:7: UserWarning: Geometry is in a geographic CRS. Results from 'length' are likely incorrect. Use 'GeoSeries.to_crs()' to re-project geometries to a projected CRS before this operation.\n",
      "\n",
      "  import sys\n",
      "c:\\Users\\merte\\anaconda3\\lib\\site-packages\\ipykernel_launcher.py:8: UserWarning: Geometry is in a geographic CRS. Results from 'centroid' are likely incorrect. Use 'GeoSeries.to_crs()' to re-project geometries to a projected CRS before this operation.\n",
      "\n",
      "  \n",
      "c:\\Users\\merte\\anaconda3\\lib\\site-packages\\ipykernel_launcher.py:9: UserWarning: Geometry is in a geographic CRS. Results from 'centroid' are likely incorrect. Use 'GeoSeries.to_crs()' to re-project geometries to a projected CRS before this operation.\n",
      "\n",
      "  if __name__ == '__main__':\n"
     ]
    }
   ],
   "source": [
    "from shapely.geometry import Polygon, LinearRing\n",
    "from scipy.spatial.distance import euclidean\n",
    "\n",
    "\n",
    "## Create new polygon features\n",
    "copied_train_df_save['area'] = copied_train_df_save['geometry'].area\n",
    "copied_train_df_save['length'] = copied_train_df_save['geometry'].length\n",
    "copied_train_df_save['centroid_x'] = copied_train_df_save['geometry'].centroid.x\n",
    "copied_train_df_save['centroid_y'] = copied_train_df_save['geometry'].centroid.y\n",
    "bounds = copied_train_df_save['geometry'].bounds\n",
    "copied_train_df_save['angle'] = np.arctan((bounds['maxy']-bounds['miny'])/(bounds['maxx']-bounds['minx']))\n",
    "copied_train_df_save['compactness'] = 4 * np.pi * (copied_train_df_save['area'] / copied_train_df_save['length']**2) # the bigger, the closer to square\n",
    "\n",
    "def is_paralelogram(polygon):\n",
    "    it_is = True\n",
    "    LIMIT = 1e-2\n",
    "    # Get the outer boundary coordinates\n",
    "    coords = polygon.exterior.coords[:-1]  # Exclude the closing coordinate\n",
    "    \n",
    "    # Check if the polygon has four sides\n",
    "    num_vertices = len(coords)\n",
    "    if  num_vertices != 4:  # a paralelogram should have 4 vertices\n",
    "        it_is = False\n",
    "        return (it_is, num_vertices, 10*LIMIT, num_vertices*4*LIMIT)\n",
    "\n",
    "    # Calculate the lengths of the sides\n",
    "    side_lengths = [euclidean(coords[i],coords[(i+1)%4]) for i in range(4)]  # Calculate the length between each pair of adjacent vertices\n",
    "    \n",
    "    # Check if opposite sides have equal length (index 0 and 2, index 1 and 3)\n",
    "    length_dif = abs(side_lengths[0] - side_lengths[2]) + abs(side_lengths[1] - side_lengths[3])/polygon.length\n",
    "    if length_dif > LIMIT:\n",
    "        it_is = False\n",
    "    \n",
    "    return (it_is, num_vertices, length_dif, length_dif)\n",
    "\n",
    "tmp = copied_train_df_save['geometry'].apply(is_paralelogram)\n",
    "# Extract the tuple into three different columns\n",
    "copied_train_df_save['paralelogram'], copied_train_df_save['num_vertices'], copied_train_df_save['length_dif1'], copied_train_df_save['length_dif2'] = zip(*tmp)\n",
    "\n",
    "\n",
    "\n",
    "## DROP\n",
    "copied_train_df_save = copied_train_df_save.drop(columns=['geometry'])"
   ]
  },
  {
   "cell_type": "code",
   "execution_count": 16,
   "metadata": {},
   "outputs": [],
   "source": [
    "copied_train_df_save = copied_train_df_save.drop(['geography_type', 'urban_type'], axis=1)"
   ]
  },
  {
   "cell_type": "code",
   "execution_count": 17,
   "metadata": {},
   "outputs": [
    {
     "name": "stdout",
     "output_type": "stream",
     "text": [
      "All NaN values have been imputed successfully.\n"
     ]
    }
   ],
   "source": [
    "from sklearn.impute import KNNImputer\n",
    "\n",
    "# Group the DataFrame by \"change_type\"\n",
    "grouped = copied_train_df_save.groupby(\"change_type\")\n",
    "\n",
    "# Initialize KNNImputer\n",
    "imputer = KNNImputer(n_neighbors=7,missing_values=np.nan)  # You can adjust the number of neighbors as needed\n",
    "\n",
    "# Initialize an empty list to store the imputed DataFrames\n",
    "imputed_dfs = []\n",
    "\n",
    "# Iterate over each group\n",
    "for change_type, group in grouped:\n",
    "    # Drop the \"change_type\" column before imputation\n",
    "    group_features = group.drop(columns=[\"change_type\"])\n",
    "    \n",
    "    # Impute NaN values within the group\n",
    "    imputed_values = imputer.fit_transform(group_features)\n",
    "    \n",
    "    # Create a DataFrame with imputed values\n",
    "    imputed_df = pd.DataFrame(imputed_values, columns=group_features.columns, index=group_features.index)\n",
    "    \n",
    "    # Concatenate \"change_type\" column back to the imputed DataFrame\n",
    "    imputed_df[\"change_type\"] = change_type\n",
    "    \n",
    "    # Append the imputed DataFrame to the list\n",
    "    imputed_dfs.append(imputed_df)\n",
    "\n",
    "# Concatenate all imputed DataFrames into a single DataFrame\n",
    "imputed_train_df = pd.concat(imputed_dfs)\n",
    "\n",
    "# Verify if there are still NaN values after imputation\n",
    "if imputed_train_df.isnull().values.any():\n",
    "    print(\"There are still NaN values remaining after imputation.\")\n",
    "    print(imputed_train_df[imputed_train_df.isnull().any(axis=1)])\n",
    "else:\n",
    "    print(\"All NaN values have been imputed successfully.\")"
   ]
  },
  {
   "cell_type": "code",
   "execution_count": 18,
   "metadata": {},
   "outputs": [],
   "source": [
    "imputed_train_df[CHANGE_STATUS_COLUMNS] = imputed_train_df[CHANGE_STATUS_COLUMNS].round().astype('int')"
   ]
  },
  {
   "cell_type": "code",
   "execution_count": 19,
   "metadata": {},
   "outputs": [],
   "source": [
    "copied_of_copied_train_df = imputed_train_df.copy(deep=True)"
   ]
  },
  {
   "cell_type": "code",
   "execution_count": 20,
   "metadata": {},
   "outputs": [],
   "source": [
    "## Create deltas: color and time\n",
    "for metric in METRICS:\n",
    "    for color in COLORS:\n",
    "        for i in range(2, 6):\n",
    "            delta = copied_of_copied_train_df[f'img_{color}_{metric}_date{i}'] - copied_of_copied_train_df[f'img_{color}_{metric}_date{i-1}']\n",
    "            copied_of_copied_train_df[f'img_{color}_{metric}_delta{i}'] = delta\n",
    "        copied_of_copied_train_df[f'img_{color}_{metric}_delta_total'] = copied_of_copied_train_df[f'img_{color}_{metric}_date5'] - copied_of_copied_train_df[f'img_{color}_{metric}_date1']\n",
    "for i in range(1, 5):\n",
    "    copied_of_copied_train_df[f'date_delta{i}'] = copied_of_copied_train_df[f'date{i}'] - copied_of_copied_train_df[f'date{i-1}']\n",
    "copied_of_copied_train_df['date_delta_total'] = copied_of_copied_train_df[f'date4'] - copied_of_copied_train_df[f'date1']"
   ]
  },
  {
   "cell_type": "code",
   "execution_count": 21,
   "metadata": {},
   "outputs": [],
   "source": [
    "## Standardizing colors mean by the proportion\n",
    "for i in range(1, 6):\n",
    "    color_sum = copied_of_copied_train_df[f'img_blue_mean_date{i}'] + copied_of_copied_train_df[f'img_green_mean_date{i}'] + copied_of_copied_train_df[f'img_red_mean_date{i}']\n",
    "    for color in COLORS:\n",
    "        copied_of_copied_train_df[f'img_{color}_mean_prop_date{i}'] = copied_of_copied_train_df[f'img_{color}_mean_date{i}']/color_sum"
   ]
  },
  {
   "cell_type": "code",
   "execution_count": 22,
   "metadata": {},
   "outputs": [],
   "source": [
    "## Create img_{color}_mean_prop_rate\n",
    "num_samples = copied_of_copied_train_df.shape[0]\n",
    "ones = np.ones((num_samples,5,1))\n",
    "\n",
    "for color in COLORS:\n",
    "    coef = np.zeros((num_samples))\n",
    "    COLOR_MEAN_COLUMNS = [f'img_{color}_mean_prop_date{i}' for i in range (1,6)]\n",
    "\n",
    "    Y = np.array(copied_of_copied_train_df[COLOR_MEAN_COLUMNS].astype(float))\n",
    "    X = np.array(copied_of_copied_train_df[DATE_COLUMNS].apply(np.float64))[:,:,np.newaxis]\n",
    "    X = np.dstack((ones,X))\n",
    "    nan_mask = np.isnan(Y) | np.isnan(X[:,:,1])\n",
    "    X[nan_mask,:] = 0\n",
    "    Y[nan_mask] = 0\n",
    "\n",
    "    eye = np.eye(2)*0.0001\n",
    "    for i in range(num_samples):\n",
    "        x = X[i].reshape((5,2))\n",
    "        y = Y[i].reshape((5))\n",
    "        coef[i] = (np.linalg.inv(eye+x.T@x)@x.T@y)[1]\n",
    "\n",
    "    copied_of_copied_train_df[f'img_{color}_mean_prop_rate'] = coef\n",
    "\n"
   ]
  },
  {
   "cell_type": "code",
   "execution_count": 23,
   "metadata": {},
   "outputs": [],
   "source": [
    "## Create img_{color}_std_rate\n",
    "for color in COLORS:\n",
    "    coef = np.zeros((num_samples))\n",
    "    COLOR_STD_COLUMNS = [f'img_{color}_std_date{i}' for i in range (1,6)]\n",
    "\n",
    "    Y = np.array(copied_of_copied_train_df[COLOR_STD_COLUMNS].astype(float))\n",
    "    X = np.array(copied_of_copied_train_df[DATE_COLUMNS].apply(np.float64))[:,:,np.newaxis]\n",
    "    X = np.dstack((ones,X))\n",
    "    nan_mask = np.isnan(Y) | np.isnan(X[:,:,1])\n",
    "    X[nan_mask,:] = 0\n",
    "    Y[nan_mask] = 0\n",
    "\n",
    "    eye = np.eye(2)*0.0001\n",
    "    for i in range(num_samples):\n",
    "        x = X[i].reshape((5,2))\n",
    "        y = Y[i].reshape((5))\n",
    "        coef[i] = (np.linalg.inv(eye+x.T@x)@x.T@y)[1]\n",
    "\n",
    "    copied_of_copied_train_df[f'img_{color}_std_rate'] = coef"
   ]
  },
  {
   "cell_type": "code",
   "execution_count": null,
   "metadata": {},
   "outputs": [],
   "source": [
    "# delta_dates = ['date_delta1','date_delta2', 'date_delta3', 'date_delta4', 'date_delta_total']\n",
    "# for delta_date in delta_dates: copied_of_copied_train_df[delta_date] = copied_of_copied_train_df[delta_date].dt.days"
   ]
  },
  {
   "cell_type": "code",
   "execution_count": 24,
   "metadata": {},
   "outputs": [],
   "source": [
    "ready_to_train_df = copied_of_copied_train_df.copy(deep=True)"
   ]
  },
  {
   "cell_type": "code",
   "execution_count": 25,
   "metadata": {},
   "outputs": [],
   "source": [
    "## Create civilization_rate\n",
    "num_samples = ready_to_train_df.shape[0]\n",
    "coef = np.zeros((num_samples))\n",
    "time_ctt = 1e9*60*90*24\n",
    "ones = np.ones((num_samples,5,1))\n",
    "\n",
    "Y = np.array(ready_to_train_df[CHANGE_STATUS_COLUMNS].astype(float))\n",
    "Y_nan_mask = np.isnan(Y)\n",
    "X = np.array(ready_to_train_df[DATE_COLUMNS].apply(np.float64))[:,:,np.newaxis]/time_ctt\n",
    "X = np.dstack((ones,X))\n",
    "X[Y_nan_mask,:] = 0\n",
    "Y[Y_nan_mask] = 0\n",
    "\n",
    "eye = np.eye(2)*0.0001\n",
    "for i in range(num_samples):\n",
    "    x = X[i].reshape((5,2))\n",
    "    y = Y[i].reshape((5))\n",
    "    coef[i] = (np.linalg.inv(eye+x.T@x)@x.T@y)[1]\n",
    "    #print(y, train_df[\"change_type\"].iloc[i])\n",
    "ready_to_train_df[\"civilizating_rate\"] = coef"
   ]
  },
  {
   "cell_type": "code",
   "execution_count": 26,
   "metadata": {},
   "outputs": [
    {
     "data": {
      "text/plain": [
       "['img_red_mean_date1',\n",
       " 'img_green_mean_date1',\n",
       " 'img_blue_mean_date1',\n",
       " 'img_red_std_date1',\n",
       " 'img_green_std_date1',\n",
       " 'img_blue_std_date1',\n",
       " 'img_red_mean_date2',\n",
       " 'img_green_mean_date2',\n",
       " 'img_blue_mean_date2',\n",
       " 'img_red_std_date2',\n",
       " 'img_green_std_date2',\n",
       " 'img_blue_std_date2',\n",
       " 'img_red_mean_date3',\n",
       " 'img_green_mean_date3',\n",
       " 'img_blue_mean_date3',\n",
       " 'img_red_std_date3',\n",
       " 'img_green_std_date3',\n",
       " 'img_blue_std_date3',\n",
       " 'img_red_mean_date4',\n",
       " 'img_green_mean_date4',\n",
       " 'img_blue_mean_date4',\n",
       " 'img_red_std_date4',\n",
       " 'img_green_std_date4',\n",
       " 'img_blue_std_date4',\n",
       " 'img_red_mean_date5',\n",
       " 'img_green_mean_date5',\n",
       " 'img_blue_mean_date5',\n",
       " 'img_red_std_date5',\n",
       " 'img_green_std_date5',\n",
       " 'img_blue_std_date5',\n",
       " 'date0',\n",
       " 'change_status_date0',\n",
       " 'date1',\n",
       " 'change_status_date1',\n",
       " 'date2',\n",
       " 'change_status_date2',\n",
       " 'date3',\n",
       " 'change_status_date3',\n",
       " 'date4',\n",
       " 'change_status_date4',\n",
       " 'index',\n",
       " 'geography_typeDense Forest',\n",
       " 'geography_typeGrass Land',\n",
       " 'geography_typeSparse Forest',\n",
       " 'geography_typeFarms',\n",
       " 'geography_typeRiver',\n",
       " 'geography_typeCoastal',\n",
       " 'geography_typeLakes',\n",
       " 'geography_typeBarren Land',\n",
       " 'geography_typeDesert',\n",
       " 'geography_typeHills',\n",
       " 'geography_typeSnow',\n",
       " 'geography_typeN,A',\n",
       " 'urban_typeSparse Urban',\n",
       " 'urban_typeRural',\n",
       " 'urban_typeDense Urban',\n",
       " 'urban_typeUrban Slum',\n",
       " 'urban_typeIndustrial',\n",
       " 'urban_typeN,A',\n",
       " 'area',\n",
       " 'length',\n",
       " 'centroid_x',\n",
       " 'centroid_y',\n",
       " 'angle',\n",
       " 'compactness',\n",
       " 'paralelogram',\n",
       " 'num_vertices',\n",
       " 'length_dif1',\n",
       " 'length_dif2',\n",
       " 'change_type',\n",
       " 'img_red_std_delta2',\n",
       " 'img_red_std_delta3',\n",
       " 'img_red_std_delta4',\n",
       " 'img_red_std_delta5',\n",
       " 'img_red_std_delta_total',\n",
       " 'img_green_std_delta2',\n",
       " 'img_green_std_delta3',\n",
       " 'img_green_std_delta4',\n",
       " 'img_green_std_delta5',\n",
       " 'img_green_std_delta_total',\n",
       " 'img_blue_std_delta2',\n",
       " 'img_blue_std_delta3',\n",
       " 'img_blue_std_delta4',\n",
       " 'img_blue_std_delta5',\n",
       " 'img_blue_std_delta_total',\n",
       " 'img_red_mean_delta2',\n",
       " 'img_red_mean_delta3',\n",
       " 'img_red_mean_delta4',\n",
       " 'img_red_mean_delta5',\n",
       " 'img_red_mean_delta_total',\n",
       " 'img_green_mean_delta2',\n",
       " 'img_green_mean_delta3',\n",
       " 'img_green_mean_delta4',\n",
       " 'img_green_mean_delta5',\n",
       " 'img_green_mean_delta_total',\n",
       " 'img_blue_mean_delta2',\n",
       " 'img_blue_mean_delta3',\n",
       " 'img_blue_mean_delta4',\n",
       " 'img_blue_mean_delta5',\n",
       " 'img_blue_mean_delta_total',\n",
       " 'date_delta1',\n",
       " 'date_delta2',\n",
       " 'date_delta3',\n",
       " 'date_delta4',\n",
       " 'date_delta_total',\n",
       " 'img_red_mean_prop_date1',\n",
       " 'img_green_mean_prop_date1',\n",
       " 'img_blue_mean_prop_date1',\n",
       " 'img_red_mean_prop_date2',\n",
       " 'img_green_mean_prop_date2',\n",
       " 'img_blue_mean_prop_date2',\n",
       " 'img_red_mean_prop_date3',\n",
       " 'img_green_mean_prop_date3',\n",
       " 'img_blue_mean_prop_date3',\n",
       " 'img_red_mean_prop_date4',\n",
       " 'img_green_mean_prop_date4',\n",
       " 'img_blue_mean_prop_date4',\n",
       " 'img_red_mean_prop_date5',\n",
       " 'img_green_mean_prop_date5',\n",
       " 'img_blue_mean_prop_date5',\n",
       " 'img_red_mean_prop_rate',\n",
       " 'img_green_mean_prop_rate',\n",
       " 'img_blue_mean_prop_rate',\n",
       " 'img_red_std_rate',\n",
       " 'img_green_std_rate',\n",
       " 'img_blue_std_rate',\n",
       " 'civilizating_rate']"
      ]
     },
     "execution_count": 26,
     "metadata": {},
     "output_type": "execute_result"
    }
   ],
   "source": [
    "list(ready_to_train_df.columns)"
   ]
  },
  {
   "cell_type": "code",
   "execution_count": 31,
   "metadata": {},
   "outputs": [],
   "source": [
    "useful_features = ['civilizating_rate', 'centroid_x',\n",
    " 'centroid_y', 'img_blue_std_date5',\n",
    "'img_green_std_date5',\n",
    "'change_status_value_date0',\n",
    "'change_status_value_date2',\n",
    "'date0',\n",
    "'change_status_value_date4',\n",
    "'img_red_std_delta_total',\n",
    "'change_status_value_date3',\n",
    "'img_green_std_delta_total',\n",
    "'change_status_value_date1',\n",
    "'img_blue_std_delta_total',\n",
    "'area_to_length_ratio', 'geography_typeDense Forest',\n",
    " 'geography_typeGrass Land',\n",
    " 'geography_typeSparse Forest',\n",
    " 'geography_typeFarms',\n",
    " 'geography_typeRiver',\n",
    " 'geography_typeCoastal',\n",
    " 'geography_typeLakes',\n",
    " 'geography_typeBarren Land',\n",
    " 'geography_typeDesert',\n",
    " 'geography_typeHills',\n",
    " 'geography_typeSnow',\n",
    " 'urban_typeSparse Urban',\n",
    " 'urban_typeRural',\n",
    " 'urban_typeDense Urban',\n",
    " 'urban_typeUrban Slum',\n",
    " 'urban_typeIndustrial']\n",
    "\n",
    "\n",
    "a = ['geography_typeDense Forest',\n",
    " 'geography_typeGrass Land',\n",
    " 'geography_typeSparse Forest',\n",
    " 'geography_typeFarms',\n",
    " 'geography_typeRiver',\n",
    " 'geography_typeCoastal',\n",
    " 'geography_typeLakes',\n",
    " 'geography_typeBarren Land',\n",
    " 'geography_typeDesert',\n",
    " 'geography_typeHills',\n",
    " 'geography_typeSnow',\n",
    " 'urban_typeSparse Urban',\n",
    " 'urban_typeRural',\n",
    " 'urban_typeDense Urban',\n",
    " 'urban_typeUrban Slum',\n",
    " 'urban_typeIndustrial']\n",
    "\n",
    "\n",
    "useful_features = [ 'geography_typeFarms', 'geography_typeRiver', 'img_red_mean_date2', 'centroid_x',\n",
    " 'geography_typeCoastal', 'geography_typeLakes', 'urban_typeUrban Slum', 'urban_typeIndustrial', 'img_blue_mean_date3',\n",
    " 'civilizating_rate', 'centroid_y', 'img_green_mean_date5', 'img_green_mean_date3', 'img_red_mean_date5', 'date0', 'date3',\n",
    " 'area', 'date_delta_total', 'change_status_date4', 'change_status_date0', 'change_status_date1', 'date1', 'compactness'\n",
    "]\n",
    "\n",
    "\n",
    "useful_features = [ \n",
    " 'area', 'compactness', 'civilizating_rate', 'geography_typeLakes', 'geography_typeFarms', 'centroid_y', 'urban_typeIndustrial',\n",
    " 'urban_typeUrban Slum', 'img_red_mean_prop_rate', 'img_green_mean_prop_rate', 'img_blue_mean_prop_rate', 'img_red_std_rate', 'centroid_x'\n",
    "]\n",
    "\n",
    "useful_features = [ 'geography_typeFarms', 'centroid_x',\n",
    " 'geography_typeCoastal', 'geography_typeLakes', 'urban_typeUrban Slum', 'urban_typeIndustrial',\n",
    " 'civilizating_rate', 'centroid_y', 'date0', 'img_red_mean_prop_rate', 'img_green_mean_prop_rate', 'img_blue_mean_prop_rate',\n",
    " 'area', 'date_delta_total', 'change_status_date4', 'date1', 'compactness', 'img_red_std_rate', 'paralelogram',\n",
    " 'num_vertices',\n",
    " 'length_dif1',\n",
    " 'length_dif2'\n",
    "]\n"
   ]
  },
  {
   "cell_type": "code",
   "execution_count": 32,
   "metadata": {},
   "outputs": [],
   "source": [
    "import seaborn as sns\n",
    "import matplotlib.pyplot as plt\n",
    "#plt.figure(figsize=(5, 10))\n",
    "#sns.boxplot(data= ready_to_train_df, x= 'change_type', y = 'change_status_date4')"
   ]
  },
  {
   "cell_type": "code",
   "execution_count": 64,
   "metadata": {},
   "outputs": [
    {
     "data": {
      "text/plain": [
       "[]"
      ]
     },
     "execution_count": 64,
     "metadata": {},
     "output_type": "execute_result"
    },
    {
     "data": {
      "image/png": "[encoded data removed]",
      "text/plain": [
       "<Figure size 432x288 with 1 Axes>"
      ]
     },
     "metadata": {
      "needs_background": "light"
     },
     "output_type": "display_data"
    }
   ],
   "source": [
    "\n",
    "i = 20\n",
    "plt.figure()\n",
    "sns.barplot(data= ready_to_train_df, x= 'change_type', y =\"civilizating_rate\")\n",
    "plt.plot()\n"
   ]
  },
  {
   "cell_type": "code",
   "execution_count": 37,
   "metadata": {},
   "outputs": [
    {
     "data": {
      "text/plain": [
       "'\\n\\ntrain_concated = pd.concat([X_train, y_train], axis=1)\\n\\ncounts = list(train_concated[\"change_type\"].value_counts())\\n\\ndf_class_0 = train_concated[train_concated[\\'change_type\\'] == 0]\\ndf_class_1 = train_concated[train_concated[\\'change_type\\'] == 1]\\ndf_class_2 = train_concated[train_concated[\\'change_type\\'] == 2]\\ndf_class_3 = train_concated[train_concated[\\'change_type\\'] == 3]\\ndf_class_4 = train_concated[train_concated[\\'change_type\\'] == 4]\\ndf_class_5 = train_concated[train_concated[\\'change_type\\'] == 5]\\n\\ndf_class_1_under = df_class_1.sample(counts[2], replace=True)\\ndf_class_4_under = df_class_4.sample(counts[2], replace=True)\\ndf_class_5_under = df_class_5.sample(counts[2], replace=True)\\n\\ndf_test_under = pd.concat([df_class_0, df_class_1_under, df_class_3, df_class_4_under, df_class_5_under, df_class_2], axis=0)\\n\\n\\nclf = RandomForestClassifier(n_estimators=200, random_state=50, max_features=int(len(useful_features)*0.6),\\n                              max_depth=300, min_samples_leaf=1, class_weight={0: 1, 1: 1, 2:1, 3:1, 4:10, 5:100})\\nclf.fit(df_test_under[useful_features], df_test_under[\"change_type\"])\\n'"
      ]
     },
     "execution_count": 37,
     "metadata": {},
     "output_type": "execute_result"
    }
   ],
   "source": [
    "from sklearn.ensemble import RandomForestClassifier\n",
    "from sklearn.model_selection import train_test_split\n",
    "\n",
    "y = ready_to_train_df[\"change_type\"]\n",
    "\n",
    "X = ready_to_train_df[useful_features]\n",
    "\n",
    "X_train, X_test, y_train, y_test = train_test_split(X, y, test_size=0.1, random_state=60, shuffle=True)\n",
    "\n",
    "\n",
    "train_concated = pd.concat([X_train, y_train], axis=1)\n",
    "\n",
    "counts = list(train_concated[\"change_type\"].value_counts())\n",
    "\n",
    "df_class_0 = train_concated[train_concated['change_type'] == 0]\n",
    "df_class_1 = train_concated[train_concated['change_type'] == 1]\n",
    "df_class_2 = train_concated[train_concated['change_type'] == 2]\n",
    "df_class_3 = train_concated[train_concated['change_type'] == 3]\n",
    "df_class_4 = train_concated[train_concated['change_type'] == 4]\n",
    "df_class_5 = train_concated[train_concated['change_type'] == 5]\n",
    "\n",
    "df_class_1_under = df_class_1.sample(counts[2], replace=True)\n",
    "df_class_4_under = df_class_4.sample(counts[2], replace=True)\n",
    "df_class_5_under = df_class_5.sample(counts[2], replace=True)\n",
    "\n",
    "df_test_under = pd.concat([df_class_0, df_class_1_under, df_class_3, df_class_4_under, df_class_5_under, df_class_2], axis=0)\n",
    "\n",
    "\n",
    "clf = RandomForestClassifier(n_estimators=200, random_state=50, max_features=int(len(useful_features)*0.6),\n",
    "                              max_depth=300, min_samples_leaf=1, class_weight={0: 1, 1: 1, 2:1, 3:1, 4:10, 5:100})\n",
    "clf.fit(df_test_under[useful_features], df_test_under[\"change_type\"])\n"
   ]
  },
  {
   "cell_type": "code",
   "execution_count": 66,
   "metadata": {},
   "outputs": [
    {
     "name": "stdout",
     "output_type": "stream",
     "text": [
      "0.999159572432475\n",
      "0.999168763822654\n"
     ]
    }
   ],
   "source": [
    "from sklearn.metrics import f1_score, precision_score, confusion_matrix, ConfusionMatrixDisplay\n",
    "import matplotlib.pyplot as plt\n",
    "\n",
    "y_predicted_train = clf.predict(X_train[useful_features])\n",
    "\n",
    "print(precision_score(y_train, y_predicted_train, average=\"micro\"))\n",
    "print(f1_score(y_train, y_predicted_train, average=\"macro\"))\n"
   ]
  },
  {
   "cell_type": "code",
   "execution_count": 67,
   "metadata": {},
   "outputs": [
    {
     "name": "stdout",
     "output_type": "stream",
     "text": [
      "0.9992908998818166\n",
      "0.9993905648231488\n"
     ]
    }
   ],
   "source": [
    "\n",
    "y_predicted = clf.predict(X_test[useful_features])\n",
    "\n",
    "print(precision_score(y_test, y_predicted, average=\"micro\"))\n",
    "print(f1_score(y_test, y_predicted, average=\"macro\"))"
   ]
  },
  {
   "cell_type": "code",
   "execution_count": 68,
   "metadata": {},
   "outputs": [
    {
     "data": {
      "image/png": "[encoded data removed]",
      "text/plain": [
       "<Figure size 720x720 with 2 Axes>"
      ]
     },
     "metadata": {
      "needs_background": "light"
     },
     "output_type": "display_data"
    }
   ],
   "source": [
    "fig, ax = plt.subplots(figsize=(10,10))\n",
    "cmd = ConfusionMatrixDisplay(confusion_matrix(y_test, y_predicted), display_labels=list(CHANGE_TYPE_MAP.keys()))\n",
    "cmd.plot(ax=ax)\n",
    "plt.show()"
   ]
  },
  {
   "cell_type": "markdown",
   "metadata": {},
   "source": [
    "# To submit"
   ]
  },
  {
   "cell_type": "code",
   "execution_count": 35,
   "metadata": {},
   "outputs": [
    {
     "data": {
      "text/plain": [
       "2    148435\n",
       "3    100422\n",
       "0     31509\n",
       "1     14305\n",
       "4      1324\n",
       "5       151\n",
       "Name: change_type, dtype: int64"
      ]
     },
     "execution_count": 35,
     "metadata": {},
     "output_type": "execute_result"
    }
   ],
   "source": [
    "ready_to_train_df[\"change_type\"].value_counts()"
   ]
  },
  {
   "cell_type": "code",
   "execution_count": 71,
   "metadata": {},
   "outputs": [],
   "source": [
    "from sklearn.ensemble import RandomForestClassifier\n",
    "from sklearn.model_selection import train_test_split\n",
    "\n",
    "\n",
    "counts = list(ready_to_train_df[\"change_type\"].value_counts())\n",
    "\n",
    "df_class_0 = ready_to_train_df[ready_to_train_df['change_type'] == 0]\n",
    "df_class_1 = ready_to_train_df[ready_to_train_df['change_type'] == 1]\n",
    "df_class_2 = ready_to_train_df[ready_to_train_df['change_type'] == 2]\n",
    "df_class_3 = ready_to_train_df[ready_to_train_df['change_type'] == 3]\n",
    "df_class_4 = ready_to_train_df[ready_to_train_df['change_type'] == 4]\n",
    "df_class_5 = ready_to_train_df[ready_to_train_df['change_type'] == 5]\n",
    "\n",
    "df_class_1_under = df_class_1.sample(counts[1], replace=True)\n",
    "df_class_0_under = df_class_0.sample(counts[1], replace=True)\n",
    "df_class_4_under = df_class_4.sample(counts[1], replace=True)\n",
    "df_class_5_under = df_class_5.sample(counts[1], replace=True)\n",
    "\n",
    "df_test_under = pd.concat([df_class_0_under, df_class_1_under, df_class_3, df_class_4_under, df_class_5_under, df_class_2], axis=0)\n",
    "\n",
    "\n",
    "clf = RandomForestClassifier(n_estimators=250, random_state=70)\n",
    "clf.fit(df_test_under[useful_features], df_test_under[\"change_type\"])\n"
   ]
  },
  {
   "cell_type": "code",
   "execution_count": 41,
   "metadata": {},
   "outputs": [],
   "source": [
    "copied_test_df = test_df.copy(deep=True)"
   ]
  },
  {
   "cell_type": "code",
   "execution_count": 42,
   "metadata": {},
   "outputs": [],
   "source": [
    "for i in range(5): copied_test_df[f'change_status_date{i}'] = copied_test_df[f'change_status_date{i}'].map(CHANGE_STATUS_MAP)"
   ]
  },
  {
   "cell_type": "code",
   "execution_count": 43,
   "metadata": {},
   "outputs": [],
   "source": [
    "# Decidir se vamos colocar N,A como coluna ou tratar ele como NaN"
   ]
  },
  {
   "cell_type": "code",
   "execution_count": 44,
   "metadata": {},
   "outputs": [],
   "source": [
    "# One-hot encoding\n",
    "for geograph_type in GEOGRAPHY_TYPES:\n",
    "    copied_test_df[\"geography_type\" + geograph_type] = copied_test_df['geography_type'].apply(lambda x: 1 if geograph_type in x else 0)\n",
    "for urban_type in URBAN_TYPES:\n",
    "    copied_test_df[\"urban_type\" + urban_type] = copied_test_df['urban_type'].apply(lambda x: 1 if urban_type in x else 0)\n"
   ]
  },
  {
   "cell_type": "code",
   "execution_count": 45,
   "metadata": {},
   "outputs": [],
   "source": [
    "copied_test_df[DATE_COLUMNS] = copied_test_df[DATE_COLUMNS].apply(lambda x: pd.to_datetime(x, format='%d-%m-%Y', errors='coerce'))"
   ]
  },
  {
   "cell_type": "code",
   "execution_count": 46,
   "metadata": {},
   "outputs": [],
   "source": [
    "def sort_dates(row):\n",
    "\n",
    "    # Sort columns by date\n",
    "    columns_order = np.argsort(row[DATE_COLUMNS].values)\n",
    "    new_row = row.copy(deep=True)\n",
    "\n",
    "    # Update date and change_status order\n",
    "    for i in range(5):\n",
    "        new_row[f'date{i}'] = row[f'date{columns_order[i]}']\n",
    "        new_row[f'change_status_date{i}'] = row[f'change_status_date{columns_order[i]}']\n",
    "\n",
    "    # Update color metrics order\n",
    "    for metric in METRICS:\n",
    "        for color in COLORS:\n",
    "            for i in range(1, 6):\n",
    "                new_row[f'img_{color}_{metric}_date{i}'] = row[f'img_{color}_{metric}_date{columns_order[i-1]+1}']\n",
    "\n",
    "    return new_row\n",
    "\n",
    "copied_test_df = copied_test_df.apply(sort_dates, axis=1)"
   ]
  },
  {
   "cell_type": "code",
   "execution_count": 47,
   "metadata": {},
   "outputs": [],
   "source": [
    "copied_test_df_save = copied_test_df.copy(deep=True)"
   ]
  },
  {
   "cell_type": "code",
   "execution_count": 48,
   "metadata": {},
   "outputs": [],
   "source": [
    "copied_test_df_save[DATE_COLUMNS] = copied_test_df_save[DATE_COLUMNS].apply(np.float64)"
   ]
  },
  {
   "cell_type": "code",
   "execution_count": 49,
   "metadata": {},
   "outputs": [],
   "source": [
    "copied_test_df_save.loc[copied_test_df_save['date0'] < 0, 'date0'] = np.nan\n",
    "copied_test_df_save.loc[copied_test_df_save['date1'] < 0, 'date1'] = np.nan\n",
    "copied_test_df_save.loc[copied_test_df_save['date2'] < 0, 'date2'] = np.nan\n",
    "copied_test_df_save.loc[copied_test_df_save['date3'] < 0, 'date3'] = np.nan\n",
    "copied_test_df_save.loc[copied_test_df_save['date4'] < 0, 'date4'] = np.nan"
   ]
  },
  {
   "cell_type": "code",
   "execution_count": 50,
   "metadata": {},
   "outputs": [
    {
     "name": "stderr",
     "output_type": "stream",
     "text": [
      "c:\\Users\\merte\\anaconda3\\lib\\site-packages\\ipykernel_launcher.py:2: UserWarning: Geometry is in a geographic CRS. Results from 'area' are likely incorrect. Use 'GeoSeries.to_crs()' to re-project geometries to a projected CRS before this operation.\n",
      "\n",
      "  \n",
      "c:\\Users\\merte\\anaconda3\\lib\\site-packages\\ipykernel_launcher.py:3: UserWarning: Geometry is in a geographic CRS. Results from 'length' are likely incorrect. Use 'GeoSeries.to_crs()' to re-project geometries to a projected CRS before this operation.\n",
      "\n",
      "  This is separate from the ipykernel package so we can avoid doing imports until\n",
      "c:\\Users\\merte\\anaconda3\\lib\\site-packages\\ipykernel_launcher.py:4: UserWarning: Geometry is in a geographic CRS. Results from 'centroid' are likely incorrect. Use 'GeoSeries.to_crs()' to re-project geometries to a projected CRS before this operation.\n",
      "\n",
      "  after removing the cwd from sys.path.\n",
      "c:\\Users\\merte\\anaconda3\\lib\\site-packages\\ipykernel_launcher.py:5: UserWarning: Geometry is in a geographic CRS. Results from 'centroid' are likely incorrect. Use 'GeoSeries.to_crs()' to re-project geometries to a projected CRS before this operation.\n",
      "\n",
      "  \"\"\"\n"
     ]
    }
   ],
   "source": [
    "## Create new polygon features\n",
    "copied_test_df_save['area'] = copied_test_df_save['geometry'].area\n",
    "copied_test_df_save['length'] = copied_test_df_save['geometry'].length\n",
    "copied_test_df_save['centroid_x'] = copied_test_df_save['geometry'].centroid.x\n",
    "copied_test_df_save['centroid_y'] = copied_test_df_save['geometry'].centroid.y\n",
    "bounds = copied_test_df_save['geometry'].bounds\n",
    "copied_test_df_save['angle'] = np.arctan((bounds['maxy']-bounds['miny'])/(bounds['maxx']-bounds['minx']))\n",
    "copied_test_df_save['compactness'] = 4 * np.pi * (copied_test_df_save['area'] / copied_test_df_save['length']**2) # the bigger, the closer to square\n",
    "def is_paralelogram(polygon):\n",
    "    it_is = True\n",
    "    LIMIT = 1e-2\n",
    "    # Get the outer boundary coordinates\n",
    "    coords = polygon.exterior.coords[:-1]  # Exclude the closing coordinate\n",
    "    \n",
    "    # Check if the polygon has four sides\n",
    "    num_vertices = len(coords)\n",
    "    if  num_vertices != 4:  # a paralelogram should have 4 vertices\n",
    "        it_is = False\n",
    "        return (it_is, num_vertices, 10*LIMIT, num_vertices*4*LIMIT)\n",
    "\n",
    "    # Calculate the lengths of the sides\n",
    "    side_lengths = [euclidean(coords[i],coords[(i+1)%4]) for i in range(4)]  # Calculate the length between each pair of adjacent vertices\n",
    "    \n",
    "    # Check if opposite sides have equal length (index 0 and 2, index 1 and 3)\n",
    "    length_dif = abs(side_lengths[0] - side_lengths[2]) + abs(side_lengths[1] - side_lengths[3])/polygon.length\n",
    "    if length_dif > LIMIT:\n",
    "        it_is = False\n",
    "    \n",
    "    return (it_is, num_vertices, length_dif, length_dif)\n",
    "\n",
    "tmp = copied_test_df_save['geometry'].apply(is_paralelogram)\n",
    "# Extract the tuple into three different columns\n",
    "copied_test_df_save['paralelogram'], copied_test_df_save['num_vertices'], copied_test_df_save['length_dif1'], copied_test_df_save['length_dif2'] = zip(*tmp)\n",
    "\n",
    "## DROP\n",
    "copied_test_df_save = copied_test_df_save.drop(columns=['geometry'])"
   ]
  },
  {
   "cell_type": "code",
   "execution_count": 51,
   "metadata": {},
   "outputs": [],
   "source": [
    "copied_test_df_save = copied_test_df_save.drop(['geography_type', 'urban_type'], axis=1)"
   ]
  },
  {
   "cell_type": "code",
   "execution_count": 52,
   "metadata": {},
   "outputs": [
    {
     "name": "stdout",
     "output_type": "stream",
     "text": [
      "All NaN values have been imputed successfully.\n"
     ]
    }
   ],
   "source": [
    "from sklearn.impute import KNNImputer\n",
    "\n",
    "# Group the DataFrame by \"change_type\"\n",
    "\n",
    "# Initialize KNNImputer\n",
    "imputer = KNNImputer(n_neighbors=7,missing_values=np.nan)  # You can adjust the number of neighbors as needed\n",
    "\n",
    "# Initialize an empty list to store the imputed DataFrames\n",
    "\n",
    "# Iterate over each group\n",
    "    # Drop the \"change_type\" column before imputation\n",
    "    \n",
    "    # Impute NaN values within the group\n",
    "imputed_values = imputer.fit_transform(copied_test_df_save)\n",
    "    \n",
    "    # Create a DataFrame with imputed values\n",
    "imputed_test_df = pd.DataFrame(imputed_values, columns=copied_test_df_save.columns, index=copied_test_df_save.index)\n",
    "    \n",
    "    # Concatenate \"change_type\" column back to the imputed DataFrame\n",
    "    \n",
    "\n",
    "\n",
    "# Verify if there are still NaN values after imputation\n",
    "if imputed_test_df.isnull().values.any():\n",
    "    print(\"There are still NaN values remaining after imputation.\")\n",
    "    print(imputed_test_df[imputed_test_df.isnull().any(axis=1)])\n",
    "else:\n",
    "    print(\"All NaN values have been imputed successfully.\")"
   ]
  },
  {
   "cell_type": "code",
   "execution_count": 53,
   "metadata": {},
   "outputs": [],
   "source": [
    "imputed_test_df[CHANGE_STATUS_COLUMNS] = imputed_test_df[CHANGE_STATUS_COLUMNS].round().astype('int')"
   ]
  },
  {
   "cell_type": "code",
   "execution_count": 54,
   "metadata": {},
   "outputs": [],
   "source": [
    "copied_of_copied_test_df = imputed_test_df.copy(deep=True)"
   ]
  },
  {
   "cell_type": "code",
   "execution_count": 55,
   "metadata": {},
   "outputs": [],
   "source": [
    "## Create deltas: color and time\n",
    "for metric in METRICS:\n",
    "    for color in COLORS:\n",
    "        for i in range(2, 6):\n",
    "            delta = copied_of_copied_test_df[f'img_{color}_{metric}_date{i}'] - copied_of_copied_test_df[f'img_{color}_{metric}_date{i-1}']\n",
    "            copied_of_copied_test_df[f'img_{color}_{metric}_delta{i}'] = delta\n",
    "        copied_of_copied_test_df[f'img_{color}_{metric}_delta_total'] = copied_of_copied_test_df[f'img_{color}_{metric}_date5'] - copied_of_copied_test_df[f'img_{color}_{metric}_date1']\n",
    "for i in range(1, 5):\n",
    "    copied_of_copied_test_df[f'date_delta{i}'] = copied_of_copied_test_df[f'date{i}'] - copied_of_copied_test_df[f'date{i-1}']\n",
    "copied_of_copied_test_df['date_delta_total'] = copied_of_copied_test_df[f'date4'] - copied_of_copied_test_df[f'date1']"
   ]
  },
  {
   "cell_type": "code",
   "execution_count": 56,
   "metadata": {},
   "outputs": [],
   "source": [
    "## Standardizing colors mean by the proportion\n",
    "for i in range(1, 6):\n",
    "    color_sum = copied_of_copied_test_df[f'img_blue_mean_date{i}'] + copied_of_copied_test_df[f'img_green_mean_date{i}'] + copied_of_copied_test_df[f'img_red_mean_date{i}']\n",
    "    for color in COLORS:\n",
    "        copied_of_copied_test_df[f'img_{color}_mean_prop_date{i}'] = copied_of_copied_test_df[f'img_{color}_mean_date{i}']/color_sum"
   ]
  },
  {
   "cell_type": "code",
   "execution_count": 57,
   "metadata": {},
   "outputs": [],
   "source": [
    "## Create img_{color}_mean_prop_rate\n",
    "num_samples = copied_of_copied_test_df.shape[0]\n",
    "ones = np.ones((num_samples,5,1))\n",
    "\n",
    "for color in COLORS:\n",
    "    coef = np.zeros((num_samples))\n",
    "    COLOR_MEAN_COLUMNS = [f'img_{color}_mean_prop_date{i}' for i in range (1,6)]\n",
    "\n",
    "    Y = np.array(copied_of_copied_test_df[COLOR_MEAN_COLUMNS].astype(float))\n",
    "    X = np.array(copied_of_copied_test_df[DATE_COLUMNS].apply(np.float64))[:,:,np.newaxis]\n",
    "    X = np.dstack((ones,X))\n",
    "    nan_mask = np.isnan(Y) | np.isnan(X[:,:,1])\n",
    "    X[nan_mask,:] = 0\n",
    "    Y[nan_mask] = 0\n",
    "\n",
    "    eye = np.eye(2)*0.0001\n",
    "    for i in range(num_samples):\n",
    "        x = X[i].reshape((5,2))\n",
    "        y = Y[i].reshape((5))\n",
    "        coef[i] = (np.linalg.inv(eye+x.T@x)@x.T@y)[1]\n",
    "\n",
    "    copied_of_copied_test_df[f'img_{color}_mean_prop_rate'] = coef\n",
    "\n"
   ]
  },
  {
   "cell_type": "code",
   "execution_count": 58,
   "metadata": {},
   "outputs": [],
   "source": [
    "## Create img_{color}_std_rate\n",
    "for color in COLORS:\n",
    "    coef = np.zeros((num_samples))\n",
    "    COLOR_STD_COLUMNS = [f'img_{color}_std_date{i}' for i in range (1,6)]\n",
    "\n",
    "    Y = np.array(copied_of_copied_test_df[COLOR_STD_COLUMNS].astype(float))\n",
    "    X = np.array(copied_of_copied_test_df[DATE_COLUMNS].apply(np.float64))[:,:,np.newaxis]\n",
    "    X = np.dstack((ones,X))\n",
    "    nan_mask = np.isnan(Y) | np.isnan(X[:,:,1])\n",
    "    X[nan_mask,:] = 0\n",
    "    Y[nan_mask] = 0\n",
    "\n",
    "    eye = np.eye(2)*0.0001\n",
    "    for i in range(num_samples):\n",
    "        x = X[i].reshape((5,2))\n",
    "        y = Y[i].reshape((5))\n",
    "        coef[i] = (np.linalg.inv(eye+x.T@x)@x.T@y)[1]\n",
    "\n",
    "    copied_of_copied_test_df[f'img_{color}_std_rate'] = coef"
   ]
  },
  {
   "cell_type": "code",
   "execution_count": null,
   "metadata": {},
   "outputs": [],
   "source": [
    "# delta_dates = ['date_delta1','date_delta2', 'date_delta3', 'date_delta4', 'date_delta_total']\n",
    "# for delta_date in delta_dates: copied_of_copied_train_df[delta_date] = copied_of_copied_train_df[delta_date].dt.days"
   ]
  },
  {
   "cell_type": "code",
   "execution_count": 59,
   "metadata": {},
   "outputs": [],
   "source": [
    "ready_to_test_df = copied_of_copied_test_df.copy(deep=True)"
   ]
  },
  {
   "cell_type": "code",
   "execution_count": 60,
   "metadata": {},
   "outputs": [],
   "source": [
    "## Create civilization_rate\n",
    "num_samples = ready_to_test_df.shape[0]\n",
    "coef = np.zeros((num_samples))\n",
    "time_ctt = 1e9*60*90*24\n",
    "ones = np.ones((num_samples,5,1))\n",
    "\n",
    "Y = np.array(ready_to_test_df[CHANGE_STATUS_COLUMNS].astype(float))\n",
    "Y_nan_mask = np.isnan(Y)\n",
    "X = np.array(ready_to_test_df[DATE_COLUMNS].apply(np.float64))[:,:,np.newaxis]/time_ctt\n",
    "X = np.dstack((ones,X))\n",
    "X[Y_nan_mask,:] = 0\n",
    "Y[Y_nan_mask] = 0\n",
    "\n",
    "eye = np.eye(2)*0.0001\n",
    "for i in range(num_samples):\n",
    "    x = X[i].reshape((5,2))\n",
    "    y = Y[i].reshape((5))\n",
    "    coef[i] = (np.linalg.inv(eye+x.T@x)@x.T@y)[1]\n",
    "    #print(y, train_df[\"change_type\"].iloc[i])\n",
    "ready_to_test_df[\"civilizating_rate\"] = coef"
   ]
  },
  {
   "cell_type": "code",
   "execution_count": 69,
   "metadata": {},
   "outputs": [],
   "source": [
    "y_test_predicted = clf.predict(ready_to_test_df[useful_features])\n"
   ]
  },
  {
   "cell_type": "code",
   "execution_count": 70,
   "metadata": {},
   "outputs": [],
   "source": [
    "pd.DataFrame(y_test_predicted, columns=[\"change_type\"]).to_csv(\"to_submit.csv\")"
   ]
  },
  {
   "cell_type": "code",
   "execution_count": null,
   "metadata": {},
   "outputs": [],
   "source": []
  },
  {
   "cell_type": "code",
   "execution_count": null,
   "metadata": {},
   "outputs": [],
   "source": []
  }
 ],
 "metadata": {
  "kernelspec": {
   "display_name": "base",
   "language": "python",
   "name": "python3"
  },
  "language_info": {
   "codemirror_mode": {
    "name": "ipython",
    "version": 3
   },
   "file_extension": ".py",
   "mimetype": "text/x-python",
   "name": "python",
   "nbconvert_exporter": "python",
   "pygments_lexer": "ipython3",
   "version": "3.7.6"
  }
 },
 "nbformat": 4,
 "nbformat_minor": 2
}
