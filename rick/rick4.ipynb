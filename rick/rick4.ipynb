{
 "cells": [
  {
   "cell_type": "markdown",
   "metadata": {},
   "source": [
    "a.ipynb + F-test"
   ]
  },
  {
   "cell_type": "markdown",
   "metadata": {},
   "source": [
    "# PREPROCESSING"
   ]
  },
  {
   "cell_type": "markdown",
   "metadata": {},
   "source": [
    "#### IMPORTING libraries and DATA"
   ]
  },
  {
   "cell_type": "code",
   "execution_count": 1,
   "metadata": {},
   "outputs": [],
   "source": [
    "import geopandas as gpd\n",
    "import pandas as pd\n",
    "import numpy as np"
   ]
  },
  {
   "cell_type": "code",
   "execution_count": 2,
   "metadata": {},
   "outputs": [],
   "source": [
    "## Read csvs\n",
    "train_df = gpd.read_file('../data/train.geojson', index_col=0)\n",
    "test_df = gpd.read_file('../data/test.geojson', index_col=0)\n"
   ]
  },
  {
   "cell_type": "code",
   "execution_count": 3,
   "metadata": {},
   "outputs": [
    {
     "data": {
      "text/plain": [
       "change_type\n",
       "Residential      148435\n",
       "Commercial       100422\n",
       "Demolition        31509\n",
       "Road              14305\n",
       "Industrial         1324\n",
       "Mega Projects       151\n",
       "Name: count, dtype: int64"
      ]
     },
     "execution_count": 3,
     "metadata": {},
     "output_type": "execute_result"
    }
   ],
   "source": [
    "train_df[\"change_type\"].value_counts()"
   ]
  },
  {
   "cell_type": "code",
   "execution_count": 4,
   "metadata": {},
   "outputs": [],
   "source": [
    "copied_train_df = train_df.copy(deep=True)"
   ]
  },
  {
   "cell_type": "markdown",
   "metadata": {},
   "source": [
    "#### First data ORGANIZATION"
   ]
  },
  {
   "cell_type": "code",
   "execution_count": 5,
   "metadata": {},
   "outputs": [],
   "source": [
    "COLORS = ['red', 'green', 'blue']\n",
    "METRICS = ['std', 'mean']\n",
    "\n",
    "CHANGE_TYPE_MAP = {'Demolition': 0, 'Road': 1, 'Residential': 2, 'Commercial': 3, 'Industrial': 4,\n",
    "                   'Mega Projects': 5}\n",
    "\n",
    "CHANGE_STATUS_MAP = {'Greenland': 1, 'Land Cleared': 2, 'Materials Introduced': 3,\n",
    "                     'Prior Construction': 4, 'Excavation': 5, 'Construction Started': 6,\n",
    "                     'Construction Midway': 7, 'Materials Dumped': 8, 'Construction Done': 9,\n",
    "                     'Operational': 10}\n",
    "\n",
    "GEOGRAPHY_TYPES = ['Dense Forest', 'Grass Land', 'Sparse Forest', 'Farms', 'River',\n",
    "                   'Coastal', 'Lakes', 'Barren Land', 'Desert', 'Hills', 'Snow', 'N,A']\n",
    "URBAN_TYPES = ['Sparse Urban', 'Rural', 'Dense Urban', 'Urban Slum', 'Industrial', 'N,A']\n",
    "\n",
    "COLUMNS_TO_DROP = ['geography_type', 'urban_type', 'date0', 'date1', 'date2', 'date3', 'date4', 'index']\n",
    "DATE_COLUMNS = ['date0', 'date1', 'date2', 'date3', 'date4']\n",
    "\n",
    "BINARY_FEATURES = ['Dense Forest', 'Grass Land', 'Sparse Forest', 'Farms', 'River',\n",
    "                   'Coastal', 'Lakes', 'Barren Land', 'Desert', 'Hills', 'Snow',\n",
    "                   'Sparse Urban', 'Rural', 'Dense Urban', 'Urban Slum', 'Industrial']\n",
    "CATEGORICAL_FEATURES = ['change_status_date0', 'change_status_date1', 'change_status_date2', 'change_status_date3',\n",
    "                      'change_status_date4']\n",
    "\n",
    "\n",
    "CHANGE_STATUS_VALUE_COLUMNS = ['change_status_value_date0', 'change_status_value_date1', 'change_status_value_date2', 'change_status_value_date3', 'change_status_value_date4']\n",
    "CHANGE_STATUS_COLUMNS = ['change_status_date0', 'change_status_date1', 'change_status_date2', 'change_status_date3', 'change_status_date4']\n"
   ]
  },
  {
   "cell_type": "markdown",
   "metadata": {},
   "source": [
    "Mapping data and hot encoding..."
   ]
  },
  {
   "cell_type": "code",
   "execution_count": 6,
   "metadata": {},
   "outputs": [],
   "source": [
    "copied_train_df['change_type'] = copied_train_df['change_type'].map(CHANGE_TYPE_MAP)"
   ]
  },
  {
   "cell_type": "code",
   "execution_count": 7,
   "metadata": {},
   "outputs": [],
   "source": [
    "for i in range(5): copied_train_df[f'change_status_date{i}'] = copied_train_df[f'change_status_date{i}'].map(CHANGE_STATUS_MAP)"
   ]
  },
  {
   "cell_type": "code",
   "execution_count": 8,
   "metadata": {},
   "outputs": [],
   "source": [
    "# One-hot encoding\n",
    "for geograph_type in GEOGRAPHY_TYPES:\n",
    "    copied_train_df[\"geography_type\" + geograph_type] = copied_train_df['geography_type'].apply(lambda x: 1 if geograph_type in x else 0)\n",
    "for urban_type in URBAN_TYPES:\n",
    "    copied_train_df[\"urban_type\" + urban_type] = copied_train_df['urban_type'].apply(lambda x: 1 if urban_type in x else 0)\n",
    "    \n",
    "## DROP\n",
    "copied_train_df = copied_train_df.drop(['geography_type', 'urban_type'], axis=1)\n"
   ]
  },
  {
   "cell_type": "code",
   "execution_count": 9,
   "metadata": {},
   "outputs": [],
   "source": [
    "#copied_train_df_nan = copied_train_df[copied_train_df.isna().any(axis=1)]\n",
    "#copied_train_df = copied_train_df.dropna()\n"
   ]
  },
  {
   "cell_type": "code",
   "execution_count": 10,
   "metadata": {},
   "outputs": [],
   "source": [
    "copied_train_df[DATE_COLUMNS] = copied_train_df[DATE_COLUMNS].apply(lambda x: pd.to_datetime(x, format='%d-%m-%Y', errors='coerce'))"
   ]
  },
  {
   "cell_type": "markdown",
   "metadata": {},
   "source": [
    "Fixing data out of order..."
   ]
  },
  {
   "cell_type": "code",
   "execution_count": 11,
   "metadata": {},
   "outputs": [],
   "source": [
    "def sort_dates(row):\n",
    "\n",
    "    # Sort columns by date\n",
    "    columns_order = np.argsort(row[DATE_COLUMNS].values)\n",
    "    new_row = row.copy(deep=True)\n",
    "\n",
    "    # Update date and change_status order\n",
    "    for i in range(5):\n",
    "        new_row[f'date{i}'] = row[f'date{columns_order[i]}']\n",
    "        new_row[f'change_status_date{i}'] = row[f'change_status_date{columns_order[i]}']\n",
    "\n",
    "    # Update color metrics order\n",
    "    for metric in METRICS:\n",
    "        for color in COLORS:\n",
    "            for i in range(1, 6):\n",
    "                new_row[f'img_{color}_{metric}_date{i}'] = row[f'img_{color}_{metric}_date{columns_order[i-1]+1}']\n",
    "\n",
    "    return new_row\n",
    "\n",
    "copied_train_df = copied_train_df.apply(sort_dates, axis=1)"
   ]
  },
  {
   "cell_type": "code",
   "execution_count": 80,
   "metadata": {},
   "outputs": [],
   "source": [
    "copied_train_df_save = copied_train_df.copy(deep=True)"
   ]
  },
  {
   "cell_type": "code",
   "execution_count": 81,
   "metadata": {},
   "outputs": [],
   "source": [
    "copied_train_df_save[DATE_COLUMNS] = copied_train_df_save[DATE_COLUMNS].apply(np.float64)"
   ]
  },
  {
   "cell_type": "markdown",
   "metadata": {},
   "source": [
    "Because there are nan dates:"
   ]
  },
  {
   "cell_type": "code",
   "execution_count": 82,
   "metadata": {},
   "outputs": [],
   "source": [
    "copied_train_df_save.loc[copied_train_df_save['date0'] < 0, 'date0'] = np.nan\n",
    "copied_train_df_save.loc[copied_train_df_save['date1'] < 0, 'date1'] = np.nan\n",
    "copied_train_df_save.loc[copied_train_df_save['date2'] < 0, 'date2'] = np.nan\n",
    "copied_train_df_save.loc[copied_train_df_save['date3'] < 0, 'date3'] = np.nan\n",
    "copied_train_df_save.loc[copied_train_df_save['date4'] < 0, 'date4'] = np.nan"
   ]
  },
  {
   "cell_type": "markdown",
   "metadata": {},
   "source": [
    "#### GEOMETRY new features"
   ]
  },
  {
   "cell_type": "code",
   "execution_count": 83,
   "metadata": {},
   "outputs": [
    {
     "name": "stderr",
     "output_type": "stream",
     "text": [
      "/tmp/ipykernel_81509/614140050.py:8: UserWarning: Geometry is in a geographic CRS. Results from 'area' are likely incorrect. Use 'GeoSeries.to_crs()' to re-project geometries to a projected CRS before this operation.\n",
      "\n",
      "  copied_train_df_save['area'] = copied_train_df_save['geometry'].area\n",
      "/tmp/ipykernel_81509/614140050.py:9: UserWarning: Geometry is in a geographic CRS. Results from 'length' are likely incorrect. Use 'GeoSeries.to_crs()' to re-project geometries to a projected CRS before this operation.\n",
      "\n",
      "  copied_train_df_save['length'] = copied_train_df_save['geometry'].length\n",
      "/tmp/ipykernel_81509/614140050.py:10: UserWarning: Geometry is in a geographic CRS. Results from 'centroid' are likely incorrect. Use 'GeoSeries.to_crs()' to re-project geometries to a projected CRS before this operation.\n",
      "\n",
      "  copied_train_df_save['centroid_x'] = copied_train_df_save['geometry'].centroid.x\n",
      "/tmp/ipykernel_81509/614140050.py:11: UserWarning: Geometry is in a geographic CRS. Results from 'centroid' are likely incorrect. Use 'GeoSeries.to_crs()' to re-project geometries to a projected CRS before this operation.\n",
      "\n",
      "  copied_train_df_save['centroid_y'] = copied_train_df_save['geometry'].centroid.y\n",
      "/tmp/ipykernel_81509/614140050.py:42: UserWarning: Geometry is in a geographic CRS. Results from 'area' are likely incorrect. Use 'GeoSeries.to_crs()' to re-project geometries to a projected CRS before this operation.\n",
      "\n",
      "  copied_train_df_save['rect_area'] = copied_train_df_save['geometry'].minimum_rotated_rectangle().area\n",
      "/tmp/ipykernel_81509/614140050.py:44: UserWarning: Geometry is in a geographic CRS. Results from 'area' are likely incorrect. Use 'GeoSeries.to_crs()' to re-project geometries to a projected CRS before this operation.\n",
      "\n",
      "  copied_train_df_save['dif_convex_prop_area'] = (convex_hull.area - copied_train_df_save['area'])/ convex_hull.area\n"
     ]
    }
   ],
   "source": [
    "## Geometric features\n",
    "from shapely.geometry import Polygon, LinearRing\n",
    "from scipy.spatial.distance import euclidean\n",
    "\n",
    "copied_train_df_save['geometry'].make_valid()\n",
    "\n",
    "## Create new polygon features\n",
    "copied_train_df_save['area'] = copied_train_df_save['geometry'].area\n",
    "copied_train_df_save['length'] = copied_train_df_save['geometry'].length\n",
    "copied_train_df_save['centroid_x'] = copied_train_df_save['geometry'].centroid.x\n",
    "copied_train_df_save['centroid_y'] = copied_train_df_save['geometry'].centroid.y\n",
    "bounds = copied_train_df_save['geometry'].bounds\n",
    "copied_train_df_save['angle'] = np.arctan((bounds['maxy']-bounds['miny'])/(bounds['maxx']-bounds['minx']))\n",
    "copied_train_df_save['compactness'] = 4 * np.pi * (copied_train_df_save['area'] / copied_train_df_save['length']**2) # the bigger, the closer to square\n",
    "\n",
    "def is_paralelogram(polygon):\n",
    "    it_is = True\n",
    "    LIMIT = 1e-2\n",
    "    # Get the outer boundary coordinates\n",
    "    coords = polygon.exterior.coords[:-1]  # Exclude the closing coordinate\n",
    "    \n",
    "    # Check if the polygon has four sides\n",
    "    num_vertices = len(coords)\n",
    "    if  num_vertices != 4:  # a paralelogram should have 4 vertices\n",
    "        it_is = False\n",
    "        return (it_is, num_vertices, 10*LIMIT, num_vertices*4*LIMIT)\n",
    "\n",
    "    # Calculate the lengths of the sides\n",
    "    side_lengths = [euclidean(coords[i],coords[(i+1)%4]) for i in range(4)]  # Calculate the length between each pair of adjacent vertices\n",
    "    \n",
    "    # Check if opposite sides have equal length (index 0 and 2, index 1 and 3)\n",
    "    length_dif = abs(side_lengths[0] - side_lengths[2]) + abs(side_lengths[1] - side_lengths[3])/polygon.length\n",
    "    if length_dif > LIMIT:\n",
    "        it_is = False\n",
    "    \n",
    "    return (it_is, num_vertices, length_dif, length_dif)\n",
    "\n",
    "tmp = copied_train_df_save['geometry'].apply(is_paralelogram)\n",
    "# Extract the tuple into three different columns\n",
    "copied_train_df_save['paralelogram'], copied_train_df_save['num_vertices'], copied_train_df_save['length_dif1'], copied_train_df_save['length_dif2'] = zip(*tmp)\n",
    "\n",
    "copied_train_df_save['rect_area'] = copied_train_df_save['geometry'].minimum_rotated_rectangle().area\n",
    "convex_hull = copied_train_df_save['geometry'].convex_hull\n",
    "copied_train_df_save['dif_convex_prop_area'] = (convex_hull.area - copied_train_df_save['area'])/ convex_hull.area\n",
    "copied_train_df_save['convex'] =  copied_train_df_save['geometry'].geom_equals(convex_hull)\n",
    "\n",
    "## DROP\n",
    "copied_train_df_save = copied_train_df_save.drop(columns=['geometry'])"
   ]
  },
  {
   "cell_type": "markdown",
   "metadata": {},
   "source": [
    "'Demolition': 0, 'Road': 1, 'Residential': 2, 'Commercial': 3, 'Industrial': 4,\n",
    "                   'Mega Projects': 5"
   ]
  },
  {
   "cell_type": "code",
   "execution_count": 21,
   "metadata": {},
   "outputs": [],
   "source": [
    "# import matplotlib.pyplot as plt\n",
    "# for index, row in copied_train_df_save[copied_train_df_save['change_type'] == 5].iterrows():\n",
    "#     # Extract the geometry from the row\n",
    "#     polygon = row['geometry']\n",
    "#     print(rect_area[index])\n",
    "#     print(is_convex[index])\n",
    "#     plt.plot(*polygon.exterior.xy)\n",
    "#     plt.show()"
   ]
  },
  {
   "cell_type": "markdown",
   "metadata": {},
   "source": [
    "#### Solving LACK OF data "
   ]
  },
  {
   "cell_type": "code",
   "execution_count": 86,
   "metadata": {},
   "outputs": [
    {
     "name": "stdout",
     "output_type": "stream",
     "text": [
      "All NaN values have been imputed successfully.\n"
     ]
    }
   ],
   "source": [
    "from sklearn.impute import KNNImputer\n",
    "\n",
    "# Group the DataFrame by \"change_type\"\n",
    "grouped = copied_train_df_save.groupby(\"change_type\")\n",
    "\n",
    "# Initialize KNNImputer\n",
    "imputer = KNNImputer(n_neighbors=7,missing_values=np.nan)  # You can adjust the number of neighbors as needed\n",
    "\n",
    "# Initialize an empty list to store the imputed DataFrames\n",
    "imputed_dfs = []\n",
    "\n",
    "# Iterate over each group\n",
    "for change_type, group in grouped:\n",
    "    # Drop the \"change_type\" column before imputation\n",
    "    group_features = group.drop(columns=[\"change_type\"])\n",
    "    \n",
    "    # Impute NaN values within the group\n",
    "    imputed_values = imputer.fit_transform(group_features)\n",
    "    \n",
    "    # Create a DataFrame with imputed values\n",
    "    imputed_df = pd.DataFrame(imputed_values, columns=group_features.columns, index=group_features.index)\n",
    "    \n",
    "    # Concatenate \"change_type\" column back to the imputed DataFrame\n",
    "    imputed_df[\"change_type\"] = change_type\n",
    "    \n",
    "    # Append the imputed DataFrame to the list\n",
    "    imputed_dfs.append(imputed_df)\n",
    "\n",
    "# Concatenate all imputed DataFrames into a single DataFrame\n",
    "imputed_train_df = pd.concat(imputed_dfs)\n",
    "\n",
    "# Verify if there are still NaN values after imputation\n",
    "if imputed_train_df.isnull().values.any():\n",
    "    print(\"There are still NaN values remaining after imputation.\")\n",
    "    print(imputed_train_df[imputed_train_df.isnull().any(axis=1)])\n",
    "else:\n",
    "    print(\"All NaN values have been imputed successfully.\")"
   ]
  },
  {
   "cell_type": "code",
   "execution_count": 87,
   "metadata": {},
   "outputs": [],
   "source": [
    "imputed_train_df[CHANGE_STATUS_COLUMNS] = imputed_train_df[CHANGE_STATUS_COLUMNS].round().astype('int')"
   ]
  },
  {
   "cell_type": "code",
   "execution_count": 88,
   "metadata": {},
   "outputs": [],
   "source": [
    "copied_of_copied_train_df = imputed_train_df.copy(deep=True)"
   ]
  },
  {
   "cell_type": "markdown",
   "metadata": {},
   "source": [
    "#### Color and rates new features"
   ]
  },
  {
   "cell_type": "code",
   "execution_count": 89,
   "metadata": {},
   "outputs": [],
   "source": [
    "## Create deltas: color and time\n",
    "for metric in METRICS:\n",
    "    for color in COLORS:\n",
    "        for i in range(2, 6):\n",
    "            delta = copied_of_copied_train_df[f'img_{color}_{metric}_date{i}'] - copied_of_copied_train_df[f'img_{color}_{metric}_date{i-1}']\n",
    "            copied_of_copied_train_df[f'img_{color}_{metric}_delta{i}'] = delta\n",
    "        copied_of_copied_train_df[f'img_{color}_{metric}_delta_total'] = copied_of_copied_train_df[f'img_{color}_{metric}_date5'] - copied_of_copied_train_df[f'img_{color}_{metric}_date1']\n",
    "for i in range(1, 5):\n",
    "    copied_of_copied_train_df[f'date_delta{i}'] = copied_of_copied_train_df[f'date{i}'] - copied_of_copied_train_df[f'date{i-1}']\n",
    "copied_of_copied_train_df['date_delta_total'] = copied_of_copied_train_df[f'date4'] - copied_of_copied_train_df[f'date1']"
   ]
  },
  {
   "cell_type": "code",
   "execution_count": 90,
   "metadata": {},
   "outputs": [],
   "source": [
    "## Standardizing colors mean by the proportion\n",
    "for i in range(1, 6):\n",
    "    color_sum = copied_of_copied_train_df[f'img_blue_mean_date{i}'] + copied_of_copied_train_df[f'img_green_mean_date{i}'] + copied_of_copied_train_df[f'img_red_mean_date{i}']\n",
    "    for color in COLORS:\n",
    "        copied_of_copied_train_df[f'img_{color}_mean_prop_date{i}'] = copied_of_copied_train_df[f'img_{color}_mean_date{i}']/color_sum"
   ]
  },
  {
   "cell_type": "code",
   "execution_count": 91,
   "metadata": {},
   "outputs": [],
   "source": [
    "## Create img_{color}_mean_prop_rate\n",
    "num_samples = copied_of_copied_train_df.shape[0]\n",
    "ones = np.ones((num_samples,5,1))\n",
    "\n",
    "for color in COLORS:\n",
    "    coef = np.zeros((num_samples))\n",
    "    COLOR_MEAN_COLUMNS = [f'img_{color}_mean_prop_date{i}' for i in range (1,6)]\n",
    "\n",
    "    Y = np.array(copied_of_copied_train_df[COLOR_MEAN_COLUMNS].astype(float))\n",
    "    X = np.array(copied_of_copied_train_df[DATE_COLUMNS].apply(np.float64))[:,:,np.newaxis]\n",
    "    X = np.dstack((ones,X))\n",
    "    nan_mask = np.isnan(Y) | np.isnan(X[:,:,1])\n",
    "    X[nan_mask,:] = 0\n",
    "    Y[nan_mask] = 0\n",
    "\n",
    "    eye = np.eye(2)*0.0001\n",
    "    for i in range(num_samples):\n",
    "        x = X[i].reshape((5,2))\n",
    "        y = Y[i].reshape((5))\n",
    "        coef[i] = (np.linalg.inv(eye+x.T@x)@x.T@y)[1]\n",
    "\n",
    "    copied_of_copied_train_df[f'img_{color}_mean_prop_rate'] = coef\n",
    "\n"
   ]
  },
  {
   "cell_type": "code",
   "execution_count": 92,
   "metadata": {},
   "outputs": [],
   "source": [
    "## Create img_{color}_std_rate\n",
    "for color in COLORS:\n",
    "    coef = np.zeros((num_samples))\n",
    "    COLOR_STD_COLUMNS = [f'img_{color}_std_date{i}' for i in range (1,6)]\n",
    "\n",
    "    Y = np.array(copied_of_copied_train_df[COLOR_STD_COLUMNS].astype(float))\n",
    "    X = np.array(copied_of_copied_train_df[DATE_COLUMNS].apply(np.float64))[:,:,np.newaxis]\n",
    "    X = np.dstack((ones,X))\n",
    "    nan_mask = np.isnan(Y) | np.isnan(X[:,:,1])\n",
    "    X[nan_mask,:] = 0\n",
    "    Y[nan_mask] = 0\n",
    "\n",
    "    eye = np.eye(2)*0.0001\n",
    "    for i in range(num_samples):\n",
    "        x = X[i].reshape((5,2))\n",
    "        y = Y[i].reshape((5))\n",
    "        coef[i] = (np.linalg.inv(eye+x.T@x)@x.T@y)[1]\n",
    "\n",
    "    copied_of_copied_train_df[f'img_{color}_std_rate'] = coef"
   ]
  },
  {
   "cell_type": "code",
   "execution_count": 93,
   "metadata": {},
   "outputs": [],
   "source": [
    "# delta_dates = ['date_delta1','date_delta2', 'date_delta3', 'date_delta4', 'date_delta_total']\n",
    "# for delta_date in delta_dates: copied_of_copied_train_df[delta_date] = copied_of_copied_train_df[delta_date].dt.days"
   ]
  },
  {
   "cell_type": "code",
   "execution_count": 94,
   "metadata": {},
   "outputs": [],
   "source": [
    "ready_to_train_df = copied_of_copied_train_df.copy(deep=True)"
   ]
  },
  {
   "cell_type": "code",
   "execution_count": 95,
   "metadata": {},
   "outputs": [],
   "source": [
    "## Create civilization_rate\n",
    "num_samples = ready_to_train_df.shape[0]\n",
    "coef = np.zeros((num_samples))\n",
    "time_ctt = 1e9*60*90*24\n",
    "ones = np.ones((num_samples,5,1))\n",
    "\n",
    "Y = np.array(ready_to_train_df[CHANGE_STATUS_COLUMNS].astype(float))\n",
    "Y_nan_mask = np.isnan(Y)\n",
    "X = np.array(ready_to_train_df[DATE_COLUMNS].apply(np.float64))[:,:,np.newaxis]/time_ctt\n",
    "X = np.dstack((ones,X))\n",
    "X[Y_nan_mask,:] = 0\n",
    "Y[Y_nan_mask] = 0\n",
    "\n",
    "eye = np.eye(2)*0.0001\n",
    "for i in range(num_samples):\n",
    "    x = X[i].reshape((5,2))\n",
    "    y = Y[i].reshape((5))\n",
    "    coef[i] = (np.linalg.inv(eye+x.T@x)@x.T@y)[1]\n",
    "    #print(y, train_df[\"change_type\"].iloc[i])\n",
    "ready_to_train_df[\"civilizating_rate\"] = coef"
   ]
  },
  {
   "cell_type": "markdown",
   "metadata": {},
   "source": [
    "# Randomn Forest"
   ]
  },
  {
   "cell_type": "markdown",
   "metadata": {},
   "source": [
    "#### Feature analising 1 (f-score)"
   ]
  },
  {
   "cell_type": "code",
   "execution_count": 101,
   "metadata": {},
   "outputs": [],
   "source": [
    "## ANOVA and information gain for each feature\n",
    "from scipy.stats import f_oneway\n",
    "#from sklearn.feature_selection import mutual_info_classif, mutual_info_regression\n",
    "\n",
    "# Assuming 'change_type' is the column name for classification effects\n",
    "change_type_column = 'change_type'\n",
    "#CONTINUOUS_FEATURES = ['area_to_length_ratio' ,'area' ,'angle' ,'compactness', 'length']\n",
    "\n",
    "# Group the data by 'change_type'\n",
    "grouped_data = ready_to_train_df.groupby(change_type_column)\n",
    "# Initialize two lists to store the split groups\n",
    "new_grouped_data = [[], []]\n",
    "for group_name, group_df in grouped_data:\n",
    "    if group_name in range(4):\n",
    "        new_grouped_data[0].append(group_df)\n",
    "    else:\n",
    "        new_grouped_data[1].append(group_df)\n",
    "# Concatenate the grouped dataframes\n",
    "new_grouped_data = [pd.concat(group) for group in new_grouped_data]\n",
    "\n",
    "# List to store F-values\n",
    "f_values = []\n",
    "#gain_of_info = []\n",
    "\n",
    "# Loop through each feature (column) and calculate F-value\n",
    "for feature_column in ready_to_train_df.columns:\n",
    "    if feature_column != change_type_column and feature_column != 'geometry':  \n",
    "        # ANOVA\n",
    "        #nan_mask = np.isnan(ready_to_train_df[feature_column])\n",
    "        feature_values = [group[feature_column].dropna() for group in new_grouped_data]\n",
    "        f_statistic, p_value = f_oneway(*feature_values)\n",
    "        # Gain of Info\n",
    "        \n",
    "        \n",
    "        #discrete_bool = feature_column not in CONTINUOUS_FEATURES and 'std' not in feature_column and 'rate' not in feature_column and 'prop' not in feature_column\n",
    "        #gofinfo = mutual_info_classif(ready_to_train_df[feature_column][~nan_mask].values.reshape(-1, 1), ready_to_train_df[change_type_column][~nan_mask].astype(str),discrete_features=discrete_bool)\n",
    "        \n",
    "         \n",
    "        #     gofinfo = mutual_info_regression(ready_to_train_df[feature_column][~nan_mask].values.reshape(-1, 1), ready_to_train_df[change_type_column][~nan_mask])\n",
    "        # else:\n",
    "        #     gofinfo = mutual_info_classif(ready_to_train_df[feature_column][~nan_mask].values.reshape(-1, 1), ready_to_train_df[change_type_column][~nan_mask])\n",
    "            \n",
    "        f_values.append((feature_column, f_statistic, p_value))\n",
    "\n",
    "\n",
    "## Convert to DataFrame for easier analysis\n",
    "f_values_df = pd.DataFrame(f_values, columns=['Feature', 'F-value', 'P-value'])"
   ]
  },
  {
   "cell_type": "code",
   "execution_count": 102,
   "metadata": {},
   "outputs": [],
   "source": [
    "# Print or analyze the F-values DataFrame\n",
    "sorted_2 = f_values_df['F-value'].argsort()\n",
    "sorted_f_values_df = f_values_df.sort_values(by='F-value')\n",
    "sorted_f_values_df.to_csv(\"ANOVA.csv\", sep='\\t', index=False)"
   ]
  },
  {
   "cell_type": "markdown",
   "metadata": {},
   "source": [
    "#### Feature analising"
   ]
  },
  {
   "cell_type": "code",
   "execution_count": null,
   "metadata": {},
   "outputs": [],
   "source": [
    "list(ready_to_train_df.columns)"
   ]
  },
  {
   "cell_type": "code",
   "execution_count": null,
   "metadata": {},
   "outputs": [],
   "source": [
    "useful_features = ['civilizating_rate', 'centroid_x',\n",
    " 'centroid_y', 'img_blue_std_date5',\n",
    "'img_green_std_date5',\n",
    "'change_status_value_date0',\n",
    "'change_status_value_date2',\n",
    "'date0',\n",
    "'change_status_value_date4',\n",
    "'img_red_std_delta_total',\n",
    "'change_status_value_date3',\n",
    "'img_green_std_delta_total',\n",
    "'change_status_value_date1',\n",
    "'img_blue_std_delta_total',\n",
    "'area_to_length_ratio', 'geography_typeDense Forest',\n",
    " 'geography_typeGrass Land',\n",
    " 'geography_typeSparse Forest',\n",
    " 'geography_typeFarms',\n",
    " 'geography_typeRiver',\n",
    " 'geography_typeCoastal',\n",
    " 'geography_typeLakes',\n",
    " 'geography_typeBarren Land',\n",
    " 'geography_typeDesert',\n",
    " 'geography_typeHills',\n",
    " 'geography_typeSnow',\n",
    " 'urban_typeSparse Urban',\n",
    " 'urban_typeRural',\n",
    " 'urban_typeDense Urban',\n",
    " 'urban_typeUrban Slum',\n",
    " 'urban_typeIndustrial']\n",
    "\n",
    "\n",
    "a = ['geography_typeDense Forest',\n",
    " 'geography_typeGrass Land',\n",
    " 'geography_typeSparse Forest',\n",
    " 'geography_typeFarms',\n",
    " 'geography_typeRiver',\n",
    " 'geography_typeCoastal',\n",
    " 'geography_typeLakes',\n",
    " 'geography_typeBarren Land',\n",
    " 'geography_typeDesert',\n",
    " 'geography_typeHills',\n",
    " 'geography_typeSnow',\n",
    " 'urban_typeSparse Urban',\n",
    " 'urban_typeRural',\n",
    " 'urban_typeDense Urban',\n",
    " 'urban_typeUrban Slum',\n",
    " 'urban_typeIndustrial']\n",
    "\n",
    "\n",
    "useful_features = [ 'geography_typeFarms', 'geography_typeRiver', 'img_red_mean_date2', 'centroid_x',\n",
    " 'geography_typeCoastal', 'geography_typeLakes', 'urban_typeUrban Slum', 'urban_typeIndustrial', 'img_blue_mean_date3',\n",
    " 'civilizating_rate', 'centroid_y', 'img_green_mean_date5', 'img_green_mean_date3', 'img_red_mean_date5', 'date0', 'date3',\n",
    " 'area', 'date_delta_total', 'change_status_date4', 'change_status_date0', 'change_status_date1', 'date1', 'compactness'\n",
    "]\n",
    "\n",
    "\n",
    "useful_features = [ \n",
    " 'area', 'compactness', 'civilizating_rate', 'geography_typeLakes', 'geography_typeFarms', 'centroid_y', 'urban_typeIndustrial',\n",
    " 'urban_typeUrban Slum', 'img_red_mean_prop_rate', 'img_green_mean_prop_rate', 'img_blue_mean_prop_rate', 'img_red_std_rate', 'centroid_x'\n",
    "]\n",
    "\n",
    "useful_features = [ 'geography_typeFarms', 'centroid_x',\n",
    " 'geography_typeCoastal', 'geography_typeLakes', 'urban_typeUrban Slum', 'urban_typeIndustrial',\n",
    " 'civilizating_rate', 'centroid_y', 'date0', 'img_red_mean_prop_rate', 'img_green_mean_prop_rate', 'img_blue_mean_prop_rate',\n",
    " 'area', 'date_delta_total', 'change_status_date4', 'date1', 'compactness', 'img_red_std_rate', 'paralelogram',\n",
    " 'num_vertices',\n",
    " 'length_dif1',\n",
    " 'length_dif2'\n",
    "]\n"
   ]
  },
  {
   "cell_type": "code",
   "execution_count": null,
   "metadata": {},
   "outputs": [],
   "source": [
    "import seaborn as sns\n",
    "import matplotlib.pyplot as plt\n",
    "#plt.figure(figsize=(5, 10))\n",
    "#sns.boxplot(data= ready_to_train_df, x= 'change_type', y = 'change_status_date4')"
   ]
  },
  {
   "cell_type": "code",
   "execution_count": null,
   "metadata": {},
   "outputs": [
    {
     "data": {
      "text/plain": [
       "[]"
      ]
     },
     "execution_count": 43,
     "metadata": {},
     "output_type": "execute_result"
    },
    {
     "data": {
      "image/png": "[encoded data removed]",
      "text/plain": [
       "<Figure size 640x480 with 1 Axes>"
      ]
     },
     "metadata": {},
     "output_type": "display_data"
    }
   ],
   "source": [
    "\n",
    "i = 20\n",
    "plt.figure()\n",
    "sns.barplot(data= ready_to_train_df, x= 'change_type', y =\"dif_area\")\n",
    "plt.plot()\n"
   ]
  },
  {
   "cell_type": "markdown",
   "metadata": {},
   "source": [
    "#### RF algo"
   ]
  },
  {
   "cell_type": "code",
   "execution_count": null,
   "metadata": {},
   "outputs": [],
   "source": [
    "from sklearn.ensemble import RandomForestClassifier\n",
    "from sklearn.model_selection import train_test_split\n",
    "\n",
    "y = ready_to_train_df[\"change_type\"]\n",
    "\n",
    "X = ready_to_train_df[useful_features]\n",
    "\n",
    "X_train, X_test, y_train, y_test = train_test_split(X, y, test_size=0.1, random_state=60, shuffle=True)\n",
    "\n",
    "\n",
    "train_concated = pd.concat([X_train, y_train], axis=1)\n",
    "\n",
    "counts = list(train_concated[\"change_type\"].value_counts())\n",
    "\n",
    "df_class_0 = train_concated[train_concated['change_type'] == 0]\n",
    "df_class_1 = train_concated[train_concated['change_type'] == 1]\n",
    "df_class_2 = train_concated[train_concated['change_type'] == 2]\n",
    "df_class_3 = train_concated[train_concated['change_type'] == 3]\n",
    "df_class_4 = train_concated[train_concated['change_type'] == 4]\n",
    "df_class_5 = train_concated[train_concated['change_type'] == 5]\n",
    "\n",
    "# Replacing classes 1, 4 and 5\n",
    "df_class_1_under = df_class_1.sample(counts[2], replace=True)\n",
    "df_class_4_under = df_class_4.sample(counts[2], replace=True)\n",
    "df_class_5_under = df_class_5.sample(counts[2], replace=True)\n",
    "\n",
    "df_test_under = pd.concat([df_class_0, df_class_1_under, df_class_3, df_class_4_under, df_class_5_under, df_class_2], axis=0)"
   ]
  },
  {
   "cell_type": "code",
   "execution_count": null,
   "metadata": {},
   "outputs": [
    {
     "data": {
      "text/html": [
       "<style>#sk-container-id-1 {color: black;}#sk-container-id-1 pre{padding: 0;}#sk-container-id-1 div.sk-toggleable {background-color: white;}#sk-container-id-1 label.sk-toggleable__label {cursor: pointer;display: block;width: 100%;margin-bottom: 0;padding: 0.3em;box-sizing: border-box;text-align: center;}#sk-container-id-1 label.sk-toggleable__label-arrow:before {content: \"▸\";float: left;margin-right: 0.25em;color: #696969;}#sk-container-id-1 label.sk-toggleable__label-arrow:hover:before {color: black;}#sk-container-id-1 div.sk-estimator:hover label.sk-toggleable__label-arrow:before {color: black;}#sk-container-id-1 div.sk-toggleable__content {max-height: 0;max-width: 0;overflow: hidden;text-align: left;background-color: #f0f8ff;}#sk-container-id-1 div.sk-toggleable__content pre {margin: 0.2em;color: black;border-radius: 0.25em;background-color: #f0f8ff;}#sk-container-id-1 input.sk-toggleable__control:checked~div.sk-toggleable__content {max-height: 200px;max-width: 100%;overflow: auto;}#sk-container-id-1 input.sk-toggleable__control:checked~label.sk-toggleable__label-arrow:before {content: \"▾\";}#sk-container-id-1 div.sk-estimator input.sk-toggleable__control:checked~label.sk-toggleable__label {background-color: #d4ebff;}#sk-container-id-1 div.sk-label input.sk-toggleable__control:checked~label.sk-toggleable__label {background-color: #d4ebff;}#sk-container-id-1 input.sk-hidden--visually {border: 0;clip: rect(1px 1px 1px 1px);clip: rect(1px, 1px, 1px, 1px);height: 1px;margin: -1px;overflow: hidden;padding: 0;position: absolute;width: 1px;}#sk-container-id-1 div.sk-estimator {font-family: monospace;background-color: #f0f8ff;border: 1px dotted black;border-radius: 0.25em;box-sizing: border-box;margin-bottom: 0.5em;}#sk-container-id-1 div.sk-estimator:hover {background-color: #d4ebff;}#sk-container-id-1 div.sk-parallel-item::after {content: \"\";width: 100%;border-bottom: 1px solid gray;flex-grow: 1;}#sk-container-id-1 div.sk-label:hover label.sk-toggleable__label {background-color: #d4ebff;}#sk-container-id-1 div.sk-serial::before {content: \"\";position: absolute;border-left: 1px solid gray;box-sizing: border-box;top: 0;bottom: 0;left: 50%;z-index: 0;}#sk-container-id-1 div.sk-serial {display: flex;flex-direction: column;align-items: center;background-color: white;padding-right: 0.2em;padding-left: 0.2em;position: relative;}#sk-container-id-1 div.sk-item {position: relative;z-index: 1;}#sk-container-id-1 div.sk-parallel {display: flex;align-items: stretch;justify-content: center;background-color: white;position: relative;}#sk-container-id-1 div.sk-item::before, #sk-container-id-1 div.sk-parallel-item::before {content: \"\";position: absolute;border-left: 1px solid gray;box-sizing: border-box;top: 0;bottom: 0;left: 50%;z-index: -1;}#sk-container-id-1 div.sk-parallel-item {display: flex;flex-direction: column;z-index: 1;position: relative;background-color: white;}#sk-container-id-1 div.sk-parallel-item:first-child::after {align-self: flex-end;width: 50%;}#sk-container-id-1 div.sk-parallel-item:last-child::after {align-self: flex-start;width: 50%;}#sk-container-id-1 div.sk-parallel-item:only-child::after {width: 0;}#sk-container-id-1 div.sk-dashed-wrapped {border: 1px dashed gray;margin: 0 0.4em 0.5em 0.4em;box-sizing: border-box;padding-bottom: 0.4em;background-color: white;}#sk-container-id-1 div.sk-label label {font-family: monospace;font-weight: bold;display: inline-block;line-height: 1.2em;}#sk-container-id-1 div.sk-label-container {text-align: center;}#sk-container-id-1 div.sk-container {/* jupyter's `normalize.less` sets `[hidden] { display: none; }` but bootstrap.min.css set `[hidden] { display: none !important; }` so we also need the `!important` here to be able to override the default hidden behavior on the sphinx rendered scikit-learn.org. See: https://github.com/scikit-learn/scikit-learn/issues/21755 */display: inline-block !important;position: relative;}#sk-container-id-1 div.sk-text-repr-fallback {display: none;}</style><div id=\"sk-container-id-1\" class=\"sk-top-container\"><div class=\"sk-text-repr-fallback\"><pre>RandomForestClassifier(class_weight={0: 1, 1: 1, 2: 1, 3: 1, 4: 10, 5: 100},\n",
       "                       max_depth=300, max_features=13, n_estimators=200,\n",
       "                       random_state=50)</pre><b>In a Jupyter environment, please rerun this cell to show the HTML representation or trust the notebook. <br />On GitHub, the HTML representation is unable to render, please try loading this page with nbviewer.org.</b></div><div class=\"sk-container\" hidden><div class=\"sk-item\"><div class=\"sk-estimator sk-toggleable\"><input class=\"sk-toggleable__control sk-hidden--visually\" id=\"sk-estimator-id-1\" type=\"checkbox\" checked><label for=\"sk-estimator-id-1\" class=\"sk-toggleable__label sk-toggleable__label-arrow\">RandomForestClassifier</label><div class=\"sk-toggleable__content\"><pre>RandomForestClassifier(class_weight={0: 1, 1: 1, 2: 1, 3: 1, 4: 10, 5: 100},\n",
       "                       max_depth=300, max_features=13, n_estimators=200,\n",
       "                       random_state=50)</pre></div></div></div></div></div>"
      ],
      "text/plain": [
       "RandomForestClassifier(class_weight={0: 1, 1: 1, 2: 1, 3: 1, 4: 10, 5: 100},\n",
       "                       max_depth=300, max_features=13, n_estimators=200,\n",
       "                       random_state=50)"
      ]
     },
     "execution_count": 46,
     "metadata": {},
     "output_type": "execute_result"
    }
   ],
   "source": [
    "clf = RandomForestClassifier(n_estimators=200, random_state=50, max_features=int(len(useful_features)*0.6),\n",
    "                              max_depth=300, min_samples_leaf=1, class_weight={0: 1, 1: 1, 2:1, 3:1, 4:10, 5:100})\n",
    "clf.fit(df_test_under[useful_features], df_test_under[\"change_type\"])\n"
   ]
  },
  {
   "cell_type": "code",
   "execution_count": null,
   "metadata": {},
   "outputs": [
    {
     "name": "stdout",
     "output_type": "stream",
     "text": [
      "0.9982741219595469\n",
      "0.9958623631753759\n"
     ]
    }
   ],
   "source": [
    "from sklearn.metrics import f1_score, precision_score, confusion_matrix, ConfusionMatrixDisplay\n",
    "import matplotlib.pyplot as plt\n",
    "\n",
    "y_predicted_train = clf.predict(X_train[useful_features])\n",
    "\n",
    "print(precision_score(y_train, y_predicted_train, average=\"micro\"))\n",
    "print(f1_score(y_train, y_predicted_train, average=\"macro\"))\n"
   ]
  },
  {
   "cell_type": "code",
   "execution_count": null,
   "metadata": {},
   "outputs": [
    {
     "name": "stdout",
     "output_type": "stream",
     "text": [
      "0.7528617254769543\n",
      "0.5199313700062143\n"
     ]
    }
   ],
   "source": [
    "\n",
    "y_predicted = clf.predict(X_test[useful_features])\n",
    "\n",
    "print(precision_score(y_test, y_predicted, average=\"micro\"))\n",
    "print(f1_score(y_test, y_predicted, average=\"macro\"))"
   ]
  },
  {
   "cell_type": "code",
   "execution_count": null,
   "metadata": {},
   "outputs": [
    {
     "data": {
      "image/png": "[encoded data removed]",
      "text/plain": [
       "<Figure size 1000x1000 with 2 Axes>"
      ]
     },
     "metadata": {},
     "output_type": "display_data"
    }
   ],
   "source": [
    "fig, ax = plt.subplots(figsize=(10,10))\n",
    "cmd = ConfusionMatrixDisplay(confusion_matrix(y_test, y_predicted), display_labels=list(CHANGE_TYPE_MAP.keys()))\n",
    "cmd.plot(ax=ax)\n",
    "plt.show()"
   ]
  },
  {
   "cell_type": "code",
   "execution_count": null,
   "metadata": {},
   "outputs": [
    {
     "data": {
      "text/plain": [
       "change_type\n",
       "2    148435\n",
       "3    100422\n",
       "0     31509\n",
       "1     14305\n",
       "4      1324\n",
       "5       151\n",
       "Name: count, dtype: int64"
      ]
     },
     "execution_count": 50,
     "metadata": {},
     "output_type": "execute_result"
    }
   ],
   "source": [
    "ready_to_train_df[\"change_type\"].value_counts()"
   ]
  },
  {
   "cell_type": "code",
   "execution_count": null,
   "metadata": {},
   "outputs": [],
   "source": [
    "from sklearn.ensemble import RandomForestClassifier\n",
    "from sklearn.model_selection import train_test_split\n",
    "\n",
    "\n",
    "counts = list(ready_to_train_df[\"change_type\"].value_counts())\n",
    "\n",
    "df_class_0 = ready_to_train_df[ready_to_train_df['change_type'] == 0]\n",
    "df_class_1 = ready_to_train_df[ready_to_train_df['change_type'] == 1]\n",
    "df_class_2 = ready_to_train_df[ready_to_train_df['change_type'] == 2]\n",
    "df_class_3 = ready_to_train_df[ready_to_train_df['change_type'] == 3]\n",
    "df_class_4 = ready_to_train_df[ready_to_train_df['change_type'] == 4]\n",
    "df_class_5 = ready_to_train_df[ready_to_train_df['change_type'] == 5]\n",
    "\n",
    "# Replacing classes 0, 1, 4 and 5\n",
    "df_class_1_under = df_class_1.sample(counts[1], replace=True)\n",
    "df_class_0_under = df_class_0.sample(counts[1], replace=True)\n",
    "df_class_4_under = df_class_4.sample(counts[1], replace=True)\n",
    "df_class_5_under = df_class_5.sample(counts[1], replace=True)\n",
    "\n",
    "df_test_under = pd.concat([df_class_0_under, df_class_1_under, df_class_3, df_class_4_under, df_class_5_under, df_class_2], axis=0)\n"
   ]
  },
  {
   "cell_type": "code",
   "execution_count": null,
   "metadata": {},
   "outputs": [],
   "source": [
    "clf = RandomForestClassifier(n_estimators=250, random_state=70)\n",
    "clf.fit(df_test_under[useful_features], df_test_under[\"change_type\"])"
   ]
  },
  {
   "cell_type": "code",
   "execution_count": null,
   "metadata": {},
   "outputs": [],
   "source": [
    "pause"
   ]
  },
  {
   "cell_type": "markdown",
   "metadata": {},
   "source": [
    "# To submit"
   ]
  },
  {
   "cell_type": "markdown",
   "metadata": {},
   "source": [
    "#### TEST_DF predict"
   ]
  },
  {
   "cell_type": "code",
   "execution_count": null,
   "metadata": {},
   "outputs": [],
   "source": [
    "copied_test_df = test_df.copy(deep=True)"
   ]
  },
  {
   "cell_type": "code",
   "execution_count": null,
   "metadata": {},
   "outputs": [],
   "source": [
    "for i in range(5): copied_test_df[f'change_status_date{i}'] = copied_test_df[f'change_status_date{i}'].map(CHANGE_STATUS_MAP)"
   ]
  },
  {
   "cell_type": "code",
   "execution_count": null,
   "metadata": {},
   "outputs": [],
   "source": [
    "# Decidir se vamos colocar N,A como coluna ou tratar ele como NaN"
   ]
  },
  {
   "cell_type": "code",
   "execution_count": null,
   "metadata": {},
   "outputs": [],
   "source": [
    "# One-hot encoding\n",
    "for geograph_type in GEOGRAPHY_TYPES:\n",
    "    copied_test_df[\"geography_type\" + geograph_type] = copied_test_df['geography_type'].apply(lambda x: 1 if geograph_type in x else 0)\n",
    "for urban_type in URBAN_TYPES:\n",
    "    copied_test_df[\"urban_type\" + urban_type] = copied_test_df['urban_type'].apply(lambda x: 1 if urban_type in x else 0)\n"
   ]
  },
  {
   "cell_type": "code",
   "execution_count": null,
   "metadata": {},
   "outputs": [],
   "source": [
    "copied_test_df[DATE_COLUMNS] = copied_test_df[DATE_COLUMNS].apply(lambda x: pd.to_datetime(x, format='%d-%m-%Y', errors='coerce'))"
   ]
  },
  {
   "cell_type": "code",
   "execution_count": null,
   "metadata": {},
   "outputs": [
    {
     "ename": "KeyboardInterrupt",
     "evalue": "",
     "output_type": "error",
     "traceback": [
      "\u001b[0;31m---------------------------------------------------------------------------\u001b[0m",
      "\u001b[0;31mKeyboardInterrupt\u001b[0m                         Traceback (most recent call last)",
      "\u001b[1;32m/home/rick/Dropbox/disciplininhas/SG6/ML/machine-learning-cs/rick/a.ipynb Cell 57\u001b[0m line \u001b[0;36m2\n\u001b[1;32m     <a href='vscode-notebook-cell:/home/rick/Dropbox/disciplininhas/SG6/ML/machine-learning-cs/rick/a.ipynb#X61sZmlsZQ%3D%3D?line=15'>16</a>\u001b[0m                 new_row[\u001b[39mf\u001b[39m\u001b[39m'\u001b[39m\u001b[39mimg_\u001b[39m\u001b[39m{\u001b[39;00mcolor\u001b[39m}\u001b[39;00m\u001b[39m_\u001b[39m\u001b[39m{\u001b[39;00mmetric\u001b[39m}\u001b[39;00m\u001b[39m_date\u001b[39m\u001b[39m{\u001b[39;00mi\u001b[39m}\u001b[39;00m\u001b[39m'\u001b[39m] \u001b[39m=\u001b[39m row[\u001b[39mf\u001b[39m\u001b[39m'\u001b[39m\u001b[39mimg_\u001b[39m\u001b[39m{\u001b[39;00mcolor\u001b[39m}\u001b[39;00m\u001b[39m_\u001b[39m\u001b[39m{\u001b[39;00mmetric\u001b[39m}\u001b[39;00m\u001b[39m_date\u001b[39m\u001b[39m{\u001b[39;00mcolumns_order[i\u001b[39m-\u001b[39m\u001b[39m1\u001b[39m]\u001b[39m+\u001b[39m\u001b[39m1\u001b[39m\u001b[39m}\u001b[39;00m\u001b[39m'\u001b[39m]\n\u001b[1;32m     <a href='vscode-notebook-cell:/home/rick/Dropbox/disciplininhas/SG6/ML/machine-learning-cs/rick/a.ipynb#X61sZmlsZQ%3D%3D?line=17'>18</a>\u001b[0m     \u001b[39mreturn\u001b[39;00m new_row\n\u001b[0;32m---> <a href='vscode-notebook-cell:/home/rick/Dropbox/disciplininhas/SG6/ML/machine-learning-cs/rick/a.ipynb#X61sZmlsZQ%3D%3D?line=19'>20</a>\u001b[0m copied_test_df \u001b[39m=\u001b[39m copied_test_df\u001b[39m.\u001b[39;49mapply(sort_dates, axis\u001b[39m=\u001b[39;49m\u001b[39m1\u001b[39;49m)\n",
      "File \u001b[0;32m~/.local/lib/python3.10/site-packages/geopandas/geodataframe.py:1568\u001b[0m, in \u001b[0;36mGeoDataFrame.apply\u001b[0;34m(self, func, axis, raw, result_type, args, **kwargs)\u001b[0m\n\u001b[1;32m   1566\u001b[0m \u001b[39m@doc\u001b[39m(pd\u001b[39m.\u001b[39mDataFrame)\n\u001b[1;32m   1567\u001b[0m \u001b[39mdef\u001b[39;00m \u001b[39mapply\u001b[39m(\u001b[39mself\u001b[39m, func, axis\u001b[39m=\u001b[39m\u001b[39m0\u001b[39m, raw\u001b[39m=\u001b[39m\u001b[39mFalse\u001b[39;00m, result_type\u001b[39m=\u001b[39m\u001b[39mNone\u001b[39;00m, args\u001b[39m=\u001b[39m(), \u001b[39m*\u001b[39m\u001b[39m*\u001b[39mkwargs):\n\u001b[0;32m-> 1568\u001b[0m     result \u001b[39m=\u001b[39m \u001b[39msuper\u001b[39;49m()\u001b[39m.\u001b[39;49mapply(\n\u001b[1;32m   1569\u001b[0m         func, axis\u001b[39m=\u001b[39;49maxis, raw\u001b[39m=\u001b[39;49mraw, result_type\u001b[39m=\u001b[39;49mresult_type, args\u001b[39m=\u001b[39;49margs, \u001b[39m*\u001b[39;49m\u001b[39m*\u001b[39;49mkwargs\n\u001b[1;32m   1570\u001b[0m     )\n\u001b[1;32m   1571\u001b[0m     \u001b[39m# pandas <1.4 re-attach last geometry col if lost\u001b[39;00m\n\u001b[1;32m   1572\u001b[0m     \u001b[39mif\u001b[39;00m (\n\u001b[1;32m   1573\u001b[0m         \u001b[39mnot\u001b[39;00m compat\u001b[39m.\u001b[39mPANDAS_GE_14\n\u001b[1;32m   1574\u001b[0m         \u001b[39mand\u001b[39;00m \u001b[39misinstance\u001b[39m(result, GeoDataFrame)\n\u001b[1;32m   1575\u001b[0m         \u001b[39mand\u001b[39;00m result\u001b[39m.\u001b[39m_geometry_column_name \u001b[39mis\u001b[39;00m \u001b[39mNone\u001b[39;00m\n\u001b[1;32m   1576\u001b[0m     ):\n",
      "File \u001b[0;32m~/.local/lib/python3.10/site-packages/pandas/core/frame.py:10347\u001b[0m, in \u001b[0;36mDataFrame.apply\u001b[0;34m(self, func, axis, raw, result_type, args, by_row, engine, engine_kwargs, **kwargs)\u001b[0m\n\u001b[1;32m  10333\u001b[0m \u001b[39mfrom\u001b[39;00m \u001b[39mpandas\u001b[39;00m\u001b[39m.\u001b[39;00m\u001b[39mcore\u001b[39;00m\u001b[39m.\u001b[39;00m\u001b[39mapply\u001b[39;00m \u001b[39mimport\u001b[39;00m frame_apply\n\u001b[1;32m  10335\u001b[0m op \u001b[39m=\u001b[39m frame_apply(\n\u001b[1;32m  10336\u001b[0m     \u001b[39mself\u001b[39m,\n\u001b[1;32m  10337\u001b[0m     func\u001b[39m=\u001b[39mfunc,\n\u001b[0;32m   (...)\u001b[0m\n\u001b[1;32m  10345\u001b[0m     kwargs\u001b[39m=\u001b[39mkwargs,\n\u001b[1;32m  10346\u001b[0m )\n\u001b[0;32m> 10347\u001b[0m \u001b[39mreturn\u001b[39;00m op\u001b[39m.\u001b[39;49mapply()\u001b[39m.\u001b[39m__finalize__(\u001b[39mself\u001b[39m, method\u001b[39m=\u001b[39m\u001b[39m\"\u001b[39m\u001b[39mapply\u001b[39m\u001b[39m\"\u001b[39m)\n",
      "File \u001b[0;32m~/.local/lib/python3.10/site-packages/pandas/core/apply.py:916\u001b[0m, in \u001b[0;36mFrameApply.apply\u001b[0;34m(self)\u001b[0m\n\u001b[1;32m    913\u001b[0m \u001b[39melif\u001b[39;00m \u001b[39mself\u001b[39m\u001b[39m.\u001b[39mraw:\n\u001b[1;32m    914\u001b[0m     \u001b[39mreturn\u001b[39;00m \u001b[39mself\u001b[39m\u001b[39m.\u001b[39mapply_raw(engine\u001b[39m=\u001b[39m\u001b[39mself\u001b[39m\u001b[39m.\u001b[39mengine, engine_kwargs\u001b[39m=\u001b[39m\u001b[39mself\u001b[39m\u001b[39m.\u001b[39mengine_kwargs)\n\u001b[0;32m--> 916\u001b[0m \u001b[39mreturn\u001b[39;00m \u001b[39mself\u001b[39;49m\u001b[39m.\u001b[39;49mapply_standard()\n",
      "File \u001b[0;32m~/.local/lib/python3.10/site-packages/pandas/core/apply.py:1063\u001b[0m, in \u001b[0;36mFrameApply.apply_standard\u001b[0;34m(self)\u001b[0m\n\u001b[1;32m   1061\u001b[0m \u001b[39mdef\u001b[39;00m \u001b[39mapply_standard\u001b[39m(\u001b[39mself\u001b[39m):\n\u001b[1;32m   1062\u001b[0m     \u001b[39mif\u001b[39;00m \u001b[39mself\u001b[39m\u001b[39m.\u001b[39mengine \u001b[39m==\u001b[39m \u001b[39m\"\u001b[39m\u001b[39mpython\u001b[39m\u001b[39m\"\u001b[39m:\n\u001b[0;32m-> 1063\u001b[0m         results, res_index \u001b[39m=\u001b[39m \u001b[39mself\u001b[39;49m\u001b[39m.\u001b[39;49mapply_series_generator()\n\u001b[1;32m   1064\u001b[0m     \u001b[39melse\u001b[39;00m:\n\u001b[1;32m   1065\u001b[0m         results, res_index \u001b[39m=\u001b[39m \u001b[39mself\u001b[39m\u001b[39m.\u001b[39mapply_series_numba()\n",
      "File \u001b[0;32m~/.local/lib/python3.10/site-packages/pandas/core/apply.py:1081\u001b[0m, in \u001b[0;36mFrameApply.apply_series_generator\u001b[0;34m(self)\u001b[0m\n\u001b[1;32m   1078\u001b[0m \u001b[39mwith\u001b[39;00m option_context(\u001b[39m\"\u001b[39m\u001b[39mmode.chained_assignment\u001b[39m\u001b[39m\"\u001b[39m, \u001b[39mNone\u001b[39;00m):\n\u001b[1;32m   1079\u001b[0m     \u001b[39mfor\u001b[39;00m i, v \u001b[39min\u001b[39;00m \u001b[39menumerate\u001b[39m(series_gen):\n\u001b[1;32m   1080\u001b[0m         \u001b[39m# ignore SettingWithCopy here in case the user mutates\u001b[39;00m\n\u001b[0;32m-> 1081\u001b[0m         results[i] \u001b[39m=\u001b[39m \u001b[39mself\u001b[39;49m\u001b[39m.\u001b[39;49mfunc(v, \u001b[39m*\u001b[39;49m\u001b[39mself\u001b[39;49m\u001b[39m.\u001b[39;49margs, \u001b[39m*\u001b[39;49m\u001b[39m*\u001b[39;49m\u001b[39mself\u001b[39;49m\u001b[39m.\u001b[39;49mkwargs)\n\u001b[1;32m   1082\u001b[0m         \u001b[39mif\u001b[39;00m \u001b[39misinstance\u001b[39m(results[i], ABCSeries):\n\u001b[1;32m   1083\u001b[0m             \u001b[39m# If we have a view on v, we need to make a copy because\u001b[39;00m\n\u001b[1;32m   1084\u001b[0m             \u001b[39m#  series_generator will swap out the underlying data\u001b[39;00m\n\u001b[1;32m   1085\u001b[0m             results[i] \u001b[39m=\u001b[39m results[i]\u001b[39m.\u001b[39mcopy(deep\u001b[39m=\u001b[39m\u001b[39mFalse\u001b[39;00m)\n",
      "\u001b[1;32m/home/rick/Dropbox/disciplininhas/SG6/ML/machine-learning-cs/rick/a.ipynb Cell 57\u001b[0m line \u001b[0;36m1\n\u001b[1;32m      <a href='vscode-notebook-cell:/home/rick/Dropbox/disciplininhas/SG6/ML/machine-learning-cs/rick/a.ipynb#X61sZmlsZQ%3D%3D?line=7'>8</a>\u001b[0m \u001b[39mfor\u001b[39;00m i \u001b[39min\u001b[39;00m \u001b[39mrange\u001b[39m(\u001b[39m5\u001b[39m):\n\u001b[1;32m      <a href='vscode-notebook-cell:/home/rick/Dropbox/disciplininhas/SG6/ML/machine-learning-cs/rick/a.ipynb#X61sZmlsZQ%3D%3D?line=8'>9</a>\u001b[0m     new_row[\u001b[39mf\u001b[39m\u001b[39m'\u001b[39m\u001b[39mdate\u001b[39m\u001b[39m{\u001b[39;00mi\u001b[39m}\u001b[39;00m\u001b[39m'\u001b[39m] \u001b[39m=\u001b[39m row[\u001b[39mf\u001b[39m\u001b[39m'\u001b[39m\u001b[39mdate\u001b[39m\u001b[39m{\u001b[39;00mcolumns_order[i]\u001b[39m}\u001b[39;00m\u001b[39m'\u001b[39m]\n\u001b[0;32m---> <a href='vscode-notebook-cell:/home/rick/Dropbox/disciplininhas/SG6/ML/machine-learning-cs/rick/a.ipynb#X61sZmlsZQ%3D%3D?line=9'>10</a>\u001b[0m     new_row[\u001b[39mf\u001b[39m\u001b[39m'\u001b[39m\u001b[39mchange_status_date\u001b[39m\u001b[39m{\u001b[39;00mi\u001b[39m}\u001b[39;00m\u001b[39m'\u001b[39m] \u001b[39m=\u001b[39m row[\u001b[39mf\u001b[39m\u001b[39m'\u001b[39m\u001b[39mchange_status_date\u001b[39m\u001b[39m{\u001b[39;00mcolumns_order[i]\u001b[39m}\u001b[39;00m\u001b[39m'\u001b[39m]\n\u001b[1;32m     <a href='vscode-notebook-cell:/home/rick/Dropbox/disciplininhas/SG6/ML/machine-learning-cs/rick/a.ipynb#X61sZmlsZQ%3D%3D?line=11'>12</a>\u001b[0m \u001b[39m# Update color metrics order\u001b[39;00m\n\u001b[1;32m     <a href='vscode-notebook-cell:/home/rick/Dropbox/disciplininhas/SG6/ML/machine-learning-cs/rick/a.ipynb#X61sZmlsZQ%3D%3D?line=12'>13</a>\u001b[0m \u001b[39mfor\u001b[39;00m metric \u001b[39min\u001b[39;00m METRICS:\n",
      "\u001b[0;31mKeyboardInterrupt\u001b[0m: "
     ]
    }
   ],
   "source": [
    "def sort_dates(row):\n",
    "\n",
    "    # Sort columns by date\n",
    "    columns_order = np.argsort(row[DATE_COLUMNS].values)\n",
    "    new_row = row.copy(deep=True)\n",
    "\n",
    "    # Update date and change_status order\n",
    "    for i in range(5):\n",
    "        new_row[f'date{i}'] = row[f'date{columns_order[i]}']\n",
    "        new_row[f'change_status_date{i}'] = row[f'change_status_date{columns_order[i]}']\n",
    "\n",
    "    # Update color metrics order\n",
    "    for metric in METRICS:\n",
    "        for color in COLORS:\n",
    "            for i in range(1, 6):\n",
    "                new_row[f'img_{color}_{metric}_date{i}'] = row[f'img_{color}_{metric}_date{columns_order[i-1]+1}']\n",
    "\n",
    "    return new_row\n",
    "\n",
    "copied_test_df = copied_test_df.apply(sort_dates, axis=1)"
   ]
  },
  {
   "cell_type": "code",
   "execution_count": null,
   "metadata": {},
   "outputs": [],
   "source": [
    "copied_test_df_save = copied_test_df.copy(deep=True)"
   ]
  },
  {
   "cell_type": "code",
   "execution_count": null,
   "metadata": {},
   "outputs": [],
   "source": [
    "copied_test_df_save[DATE_COLUMNS] = copied_test_df_save[DATE_COLUMNS].apply(np.float64)"
   ]
  },
  {
   "cell_type": "code",
   "execution_count": null,
   "metadata": {},
   "outputs": [],
   "source": [
    "copied_test_df_save.loc[copied_test_df_save['date0'] < 0, 'date0'] = np.nan\n",
    "copied_test_df_save.loc[copied_test_df_save['date1'] < 0, 'date1'] = np.nan\n",
    "copied_test_df_save.loc[copied_test_df_save['date2'] < 0, 'date2'] = np.nan\n",
    "copied_test_df_save.loc[copied_test_df_save['date3'] < 0, 'date3'] = np.nan\n",
    "copied_test_df_save.loc[copied_test_df_save['date4'] < 0, 'date4'] = np.nan"
   ]
  },
  {
   "cell_type": "code",
   "execution_count": null,
   "metadata": {},
   "outputs": [
    {
     "name": "stderr",
     "output_type": "stream",
     "text": [
      "c:\\Users\\merte\\anaconda3\\lib\\site-packages\\ipykernel_launcher.py:2: UserWarning: Geometry is in a geographic CRS. Results from 'area' are likely incorrect. Use 'GeoSeries.to_crs()' to re-project geometries to a projected CRS before this operation.\n",
      "\n",
      "  \n",
      "c:\\Users\\merte\\anaconda3\\lib\\site-packages\\ipykernel_launcher.py:3: UserWarning: Geometry is in a geographic CRS. Results from 'length' are likely incorrect. Use 'GeoSeries.to_crs()' to re-project geometries to a projected CRS before this operation.\n",
      "\n",
      "  This is separate from the ipykernel package so we can avoid doing imports until\n",
      "c:\\Users\\merte\\anaconda3\\lib\\site-packages\\ipykernel_launcher.py:4: UserWarning: Geometry is in a geographic CRS. Results from 'centroid' are likely incorrect. Use 'GeoSeries.to_crs()' to re-project geometries to a projected CRS before this operation.\n",
      "\n",
      "  after removing the cwd from sys.path.\n",
      "c:\\Users\\merte\\anaconda3\\lib\\site-packages\\ipykernel_launcher.py:5: UserWarning: Geometry is in a geographic CRS. Results from 'centroid' are likely incorrect. Use 'GeoSeries.to_crs()' to re-project geometries to a projected CRS before this operation.\n",
      "\n",
      "  \"\"\"\n"
     ]
    }
   ],
   "source": [
    "## Create new polygon features\n",
    "copied_test_df_save['area'] = copied_test_df_save['geometry'].area\n",
    "copied_test_df_save['length'] = copied_test_df_save['geometry'].length\n",
    "copied_test_df_save['centroid_x'] = copied_test_df_save['geometry'].centroid.x\n",
    "copied_test_df_save['centroid_y'] = copied_test_df_save['geometry'].centroid.y\n",
    "bounds = copied_test_df_save['geometry'].bounds\n",
    "copied_test_df_save['angle'] = np.arctan((bounds['maxy']-bounds['miny'])/(bounds['maxx']-bounds['minx']))\n",
    "copied_test_df_save['compactness'] = 4 * np.pi * (copied_test_df_save['area'] / copied_test_df_save['length']**2) # the bigger, the closer to square\n",
    "def is_paralelogram(polygon):\n",
    "    it_is = True\n",
    "    LIMIT = 1e-2\n",
    "    # Get the outer boundary coordinates\n",
    "    coords = polygon.exterior.coords[:-1]  # Exclude the closing coordinate\n",
    "    \n",
    "    # Check if the polygon has four sides\n",
    "    num_vertices = len(coords)\n",
    "    if  num_vertices != 4:  # a paralelogram should have 4 vertices\n",
    "        it_is = False\n",
    "        return (it_is, num_vertices, 10*LIMIT, num_vertices*4*LIMIT)\n",
    "\n",
    "    # Calculate the lengths of the sides\n",
    "    side_lengths = [euclidean(coords[i],coords[(i+1)%4]) for i in range(4)]  # Calculate the length between each pair of adjacent vertices\n",
    "    \n",
    "    # Check if opposite sides have equal length (index 0 and 2, index 1 and 3)\n",
    "    length_dif = abs(side_lengths[0] - side_lengths[2]) + abs(side_lengths[1] - side_lengths[3])/polygon.length\n",
    "    if length_dif > LIMIT:\n",
    "        it_is = False\n",
    "    \n",
    "    return (it_is, num_vertices, length_dif, length_dif)\n",
    "\n",
    "tmp = copied_test_df_save['geometry'].apply(is_paralelogram)\n",
    "# Extract the tuple into three different columns\n",
    "copied_test_df_save['paralelogram'], copied_test_df_save['num_vertices'], copied_test_df_save['length_dif1'], copied_test_df_save['length_dif2'] = zip(*tmp)\n",
    "\n",
    "## DROP\n",
    "copied_test_df_save = copied_test_df_save.drop(columns=['geometry'])"
   ]
  },
  {
   "cell_type": "code",
   "execution_count": null,
   "metadata": {},
   "outputs": [],
   "source": [
    "copied_test_df_save = copied_test_df_save.drop(['geography_type', 'urban_type'], axis=1)"
   ]
  },
  {
   "cell_type": "code",
   "execution_count": null,
   "metadata": {},
   "outputs": [
    {
     "name": "stdout",
     "output_type": "stream",
     "text": [
      "All NaN values have been imputed successfully.\n"
     ]
    }
   ],
   "source": [
    "from sklearn.impute import KNNImputer\n",
    "\n",
    "# Group the DataFrame by \"change_type\"\n",
    "\n",
    "# Initialize KNNImputer\n",
    "imputer = KNNImputer(n_neighbors=7,missing_values=np.nan)  # You can adjust the number of neighbors as needed\n",
    "\n",
    "# Initialize an empty list to store the imputed DataFrames\n",
    "\n",
    "# Iterate over each group\n",
    "    # Drop the \"change_type\" column before imputation\n",
    "    \n",
    "    # Impute NaN values within the group\n",
    "imputed_values = imputer.fit_transform(copied_test_df_save)\n",
    "    \n",
    "    # Create a DataFrame with imputed values\n",
    "imputed_test_df = pd.DataFrame(imputed_values, columns=copied_test_df_save.columns, index=copied_test_df_save.index)\n",
    "    \n",
    "    # Concatenate \"change_type\" column back to the imputed DataFrame\n",
    "    \n",
    "\n",
    "\n",
    "# Verify if there are still NaN values after imputation\n",
    "if imputed_test_df.isnull().values.any():\n",
    "    print(\"There are still NaN values remaining after imputation.\")\n",
    "    print(imputed_test_df[imputed_test_df.isnull().any(axis=1)])\n",
    "else:\n",
    "    print(\"All NaN values have been imputed successfully.\")"
   ]
  },
  {
   "cell_type": "code",
   "execution_count": null,
   "metadata": {},
   "outputs": [],
   "source": [
    "imputed_test_df[CHANGE_STATUS_COLUMNS] = imputed_test_df[CHANGE_STATUS_COLUMNS].round().astype('int')"
   ]
  },
  {
   "cell_type": "code",
   "execution_count": null,
   "metadata": {},
   "outputs": [],
   "source": [
    "copied_of_copied_test_df = imputed_test_df.copy(deep=True)"
   ]
  },
  {
   "cell_type": "code",
   "execution_count": null,
   "metadata": {},
   "outputs": [],
   "source": [
    "## Create deltas: color and time\n",
    "for metric in METRICS:\n",
    "    for color in COLORS:\n",
    "        for i in range(2, 6):\n",
    "            delta = copied_of_copied_test_df[f'img_{color}_{metric}_date{i}'] - copied_of_copied_test_df[f'img_{color}_{metric}_date{i-1}']\n",
    "            copied_of_copied_test_df[f'img_{color}_{metric}_delta{i}'] = delta\n",
    "        copied_of_copied_test_df[f'img_{color}_{metric}_delta_total'] = copied_of_copied_test_df[f'img_{color}_{metric}_date5'] - copied_of_copied_test_df[f'img_{color}_{metric}_date1']\n",
    "for i in range(1, 5):\n",
    "    copied_of_copied_test_df[f'date_delta{i}'] = copied_of_copied_test_df[f'date{i}'] - copied_of_copied_test_df[f'date{i-1}']\n",
    "copied_of_copied_test_df['date_delta_total'] = copied_of_copied_test_df[f'date4'] - copied_of_copied_test_df[f'date1']"
   ]
  },
  {
   "cell_type": "code",
   "execution_count": null,
   "metadata": {},
   "outputs": [],
   "source": [
    "## Standardizing colors mean by the proportion\n",
    "for i in range(1, 6):\n",
    "    color_sum = copied_of_copied_test_df[f'img_blue_mean_date{i}'] + copied_of_copied_test_df[f'img_green_mean_date{i}'] + copied_of_copied_test_df[f'img_red_mean_date{i}']\n",
    "    for color in COLORS:\n",
    "        copied_of_copied_test_df[f'img_{color}_mean_prop_date{i}'] = copied_of_copied_test_df[f'img_{color}_mean_date{i}']/color_sum"
   ]
  },
  {
   "cell_type": "code",
   "execution_count": null,
   "metadata": {},
   "outputs": [],
   "source": [
    "## Create img_{color}_mean_prop_rate\n",
    "num_samples = copied_of_copied_test_df.shape[0]\n",
    "ones = np.ones((num_samples,5,1))\n",
    "\n",
    "for color in COLORS:\n",
    "    coef = np.zeros((num_samples))\n",
    "    COLOR_MEAN_COLUMNS = [f'img_{color}_mean_prop_date{i}' for i in range (1,6)]\n",
    "\n",
    "    Y = np.array(copied_of_copied_test_df[COLOR_MEAN_COLUMNS].astype(float))\n",
    "    X = np.array(copied_of_copied_test_df[DATE_COLUMNS].apply(np.float64))[:,:,np.newaxis]\n",
    "    X = np.dstack((ones,X))\n",
    "    nan_mask = np.isnan(Y) | np.isnan(X[:,:,1])\n",
    "    X[nan_mask,:] = 0\n",
    "    Y[nan_mask] = 0\n",
    "\n",
    "    eye = np.eye(2)*0.0001\n",
    "    for i in range(num_samples):\n",
    "        x = X[i].reshape((5,2))\n",
    "        y = Y[i].reshape((5))\n",
    "        coef[i] = (np.linalg.inv(eye+x.T@x)@x.T@y)[1]\n",
    "\n",
    "    copied_of_copied_test_df[f'img_{color}_mean_prop_rate'] = coef\n",
    "\n"
   ]
  },
  {
   "cell_type": "code",
   "execution_count": null,
   "metadata": {},
   "outputs": [],
   "source": [
    "## Create img_{color}_std_rate\n",
    "for color in COLORS:\n",
    "    coef = np.zeros((num_samples))\n",
    "    COLOR_STD_COLUMNS = [f'img_{color}_std_date{i}' for i in range (1,6)]\n",
    "\n",
    "    Y = np.array(copied_of_copied_test_df[COLOR_STD_COLUMNS].astype(float))\n",
    "    X = np.array(copied_of_copied_test_df[DATE_COLUMNS].apply(np.float64))[:,:,np.newaxis]\n",
    "    X = np.dstack((ones,X))\n",
    "    nan_mask = np.isnan(Y) | np.isnan(X[:,:,1])\n",
    "    X[nan_mask,:] = 0\n",
    "    Y[nan_mask] = 0\n",
    "\n",
    "    eye = np.eye(2)*0.0001\n",
    "    for i in range(num_samples):\n",
    "        x = X[i].reshape((5,2))\n",
    "        y = Y[i].reshape((5))\n",
    "        coef[i] = (np.linalg.inv(eye+x.T@x)@x.T@y)[1]\n",
    "\n",
    "    copied_of_copied_test_df[f'img_{color}_std_rate'] = coef"
   ]
  },
  {
   "cell_type": "code",
   "execution_count": null,
   "metadata": {},
   "outputs": [],
   "source": [
    "# delta_dates = ['date_delta1','date_delta2', 'date_delta3', 'date_delta4', 'date_delta_total']\n",
    "# for delta_date in delta_dates: copied_of_copied_train_df[delta_date] = copied_of_copied_train_df[delta_date].dt.days"
   ]
  },
  {
   "cell_type": "code",
   "execution_count": null,
   "metadata": {},
   "outputs": [],
   "source": [
    "ready_to_test_df = copied_of_copied_test_df.copy(deep=True)"
   ]
  },
  {
   "cell_type": "code",
   "execution_count": null,
   "metadata": {},
   "outputs": [],
   "source": [
    "## Create civilization_rate\n",
    "num_samples = ready_to_test_df.shape[0]\n",
    "coef = np.zeros((num_samples))\n",
    "time_ctt = 1e9*60*90*24\n",
    "ones = np.ones((num_samples,5,1))\n",
    "\n",
    "Y = np.array(ready_to_test_df[CHANGE_STATUS_COLUMNS].astype(float))\n",
    "Y_nan_mask = np.isnan(Y)\n",
    "X = np.array(ready_to_test_df[DATE_COLUMNS].apply(np.float64))[:,:,np.newaxis]/time_ctt\n",
    "X = np.dstack((ones,X))\n",
    "X[Y_nan_mask,:] = 0\n",
    "Y[Y_nan_mask] = 0\n",
    "\n",
    "eye = np.eye(2)*0.0001\n",
    "for i in range(num_samples):\n",
    "    x = X[i].reshape((5,2))\n",
    "    y = Y[i].reshape((5))\n",
    "    coef[i] = (np.linalg.inv(eye+x.T@x)@x.T@y)[1]\n",
    "    #print(y, train_df[\"change_type\"].iloc[i])\n",
    "ready_to_test_df[\"civilizating_rate\"] = coef"
   ]
  },
  {
   "cell_type": "code",
   "execution_count": null,
   "metadata": {},
   "outputs": [],
   "source": [
    "y_test_predicted = clf.predict(ready_to_test_df[useful_features])\n"
   ]
  },
  {
   "cell_type": "code",
   "execution_count": null,
   "metadata": {},
   "outputs": [],
   "source": [
    "pd.DataFrame(y_test_predicted, columns=[\"change_type\"]).to_csv(\"to_submit.csv\")"
   ]
  },
  {
   "cell_type": "code",
   "execution_count": null,
   "metadata": {},
   "outputs": [],
   "source": []
  },
  {
   "cell_type": "code",
   "execution_count": null,
   "metadata": {},
   "outputs": [],
   "source": []
  }
 ],
 "metadata": {
  "kernelspec": {
   "display_name": "base",
   "language": "python",
   "name": "python3"
  },
  "language_info": {
   "codemirror_mode": {
    "name": "ipython",
    "version": 3
   },
   "file_extension": ".py",
   "mimetype": "text/x-python",
   "name": "python",
   "nbconvert_exporter": "python",
   "pygments_lexer": "ipython3",
   "version": "3.10.12"
  }
 },
 "nbformat": 4,
 "nbformat_minor": 2
}
