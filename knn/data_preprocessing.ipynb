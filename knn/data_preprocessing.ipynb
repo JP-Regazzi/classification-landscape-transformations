{
 "cells": [
  {
   "cell_type": "markdown",
   "metadata": {},
   "source": [
    "#### Requirements"
   ]
  },
  {
   "cell_type": "code",
   "execution_count": 1,
   "metadata": {},
   "outputs": [],
   "source": [
    "import sys\n",
    "import os\n",
    "\n",
    "import geopandas as gpd\n",
    "import pandas as pd\n",
    "import numpy as np\n",
    "import datetime as dt\n",
    "\n",
    "from sklearn.preprocessing import LabelEncoder\n",
    "from sklearn.neighbors import KNeighborsClassifier\n",
    "from sklearn.metrics import accuracy_score"
   ]
  },
  {
   "cell_type": "markdown",
   "metadata": {},
   "source": [
    "#### Constants"
   ]
  },
  {
   "cell_type": "code",
   "execution_count": 58,
   "metadata": {},
   "outputs": [],
   "source": [
    "# General\n",
    "BASE_PATH = os.path.dirname(os.getcwd())\n",
    "\n",
    "# Mapping\n",
    "CHANGE_TYPE_MAP = {'Demolition': 0, 'Road': 1, 'Residential': 2, 'Commercial': 3, 'Industrial': 4,\n",
    "       'Mega Projects': 5}\n",
    "\n",
    "# Data\n",
    "COLORS = ['red', 'green', 'blue']\n",
    "METRICS = ['std', 'mean']\n",
    "\n",
    "# Columns groups\n",
    "COLUMNS_TO_DROP = ['index']\n",
    "DATE_COLUMNS = ['date0', 'date1', 'date2', 'date3', 'date4']"
   ]
  },
  {
   "cell_type": "markdown",
   "metadata": {},
   "source": [
    "#### Data preprocessing"
   ]
  },
  {
   "cell_type": "code",
   "execution_count": 3,
   "metadata": {},
   "outputs": [],
   "source": [
    "## Read data\n",
    "train_df = gpd.read_file(f'{BASE_PATH}/data/train.geojson', index_col=0)\n",
    "# test_df = gpd.read_file(f'{BASE_PATH}/data/test.geojson', index_col=0)"
   ]
  },
  {
   "cell_type": "code",
   "execution_count": 16,
   "metadata": {},
   "outputs": [
    {
     "data": {
      "text/plain": [
       "array(['Dense Forest', 'Grass Land', 'Sparse Forest', 'Farms', 'River',\n",
       "       'Coastal', 'Lakes', 'Barren Land', 'N', 'A', 'Desert', 'Hills',\n",
       "       'Snow'], dtype=object)"
      ]
     },
     "execution_count": 16,
     "metadata": {},
     "output_type": "execute_result"
    }
   ],
   "source": [
    "#train_df['geography_type'].str.split(',').explode().str.strip().unique()\n",
    "#geography_types = ['Dense Forest', 'Grass Land', 'Sparse Forest', 'Farms', 'River',\n",
    "#       'Coastal', 'Lakes', 'Barren Land', 'N,A', 'Desert', 'Hills',\n",
    "#       'Snow'] \n",
    "################## Pensar no que fazer com esses caras de tipo 'N,A' #########################\n",
    "train_df[train_df['geography_type'].str.contains('N,A')]['geography_type'].unique()"
   ]
  },
  {
   "cell_type": "code",
   "execution_count": 60,
   "metadata": {},
   "outputs": [
    {
     "name": "stderr",
     "output_type": "stream",
     "text": [
      "C:\\Users\\Joao Pedro\\AppData\\Local\\Temp\\ipykernel_15708\\1377944601.py:1: UserWarning: Parsing dates in DD/MM/YYYY format when dayfirst=False (the default) was specified. This may lead to inconsistently parsed dates! Specify a format to ensure consistent parsing.\n",
      "  train_df[DATE_COLUMNS] = train_df[DATE_COLUMNS].apply(pd.to_datetime)\n",
      "C:\\Users\\Joao Pedro\\AppData\\Local\\Temp\\ipykernel_15708\\1377944601.py:1: UserWarning: Parsing dates in DD/MM/YYYY format when dayfirst=False (the default) was specified. This may lead to inconsistently parsed dates! Specify a format to ensure consistent parsing.\n",
      "  train_df[DATE_COLUMNS] = train_df[DATE_COLUMNS].apply(pd.to_datetime)\n",
      "C:\\Users\\Joao Pedro\\AppData\\Local\\Temp\\ipykernel_15708\\1377944601.py:1: UserWarning: Parsing dates in DD/MM/YYYY format when dayfirst=False (the default) was specified. This may lead to inconsistently parsed dates! Specify a format to ensure consistent parsing.\n",
      "  train_df[DATE_COLUMNS] = train_df[DATE_COLUMNS].apply(pd.to_datetime)\n",
      "C:\\Users\\Joao Pedro\\AppData\\Local\\Temp\\ipykernel_15708\\1377944601.py:1: UserWarning: Parsing dates in DD/MM/YYYY format when dayfirst=False (the default) was specified. This may lead to inconsistently parsed dates! Specify a format to ensure consistent parsing.\n",
      "  train_df[DATE_COLUMNS] = train_df[DATE_COLUMNS].apply(pd.to_datetime)\n",
      "C:\\Users\\Joao Pedro\\AppData\\Local\\Temp\\ipykernel_15708\\1377944601.py:1: UserWarning: Parsing dates in DD/MM/YYYY format when dayfirst=False (the default) was specified. This may lead to inconsistently parsed dates! Specify a format to ensure consistent parsing.\n",
      "  train_df[DATE_COLUMNS] = train_df[DATE_COLUMNS].apply(pd.to_datetime)\n"
     ]
    }
   ],
   "source": [
    "train_df[DATE_COLUMNS] = train_df[DATE_COLUMNS].apply(pd.to_datetime)"
   ]
  },
  {
   "cell_type": "code",
   "execution_count": 11,
   "metadata": {},
   "outputs": [],
   "source": [
    "# Create new polygon features\n",
    "train_df['area'] = train_df['geometry'].area\n",
    "train_df['length'] = train_df['geometry'].length\n",
    "train_df['centroid'] = train_df['geometry'].centroid\n",
    "\n",
    "# Create new date related features\n",
    "for metric in METRICS:\n",
    "    for color in COLORS:\n",
    "        for i in range(2, 6):\n",
    "            delta = train_df[f'img_{color}_{metric}_date{i}'] - train_df[f'img_{color}_{metric}_date{i-1}']\n",
    "            train_df[f'img_{color}_{metric}_delta{i}'] = delta\n",
    "for i in range(1, 5):\n",
    "    train_df[f'date_delta{i}'] = train_df[f'date{i}'] - train_df[f'date{i-1}']"
   ]
  },
  {
   "cell_type": "code",
   "execution_count": 38,
   "metadata": {},
   "outputs": [],
   "source": [
    "# Map features\n",
    "train_df['change_type'].map(CHANGE_TYPE_MAP)"
   ]
  },
  {
   "cell_type": "code",
   "execution_count": null,
   "metadata": {},
   "outputs": [],
   "source": [
    "# Drop useless features\n",
    "train_df"
   ]
  },
  {
   "cell_type": "code",
   "execution_count": null,
   "metadata": {},
   "outputs": [],
   "source": [
    "# Write in excel\n",
    "train_df.to_excel('train_head.xlsx', index=False)\n",
    "test_df.to_excel('test_head.xlsx', index=False)"
   ]
  }
 ],
 "metadata": {
  "kernelspec": {
   "display_name": "Python 3",
   "language": "python",
   "name": "python3"
  },
  "language_info": {
   "codemirror_mode": {
    "name": "ipython",
    "version": 3
   },
   "file_extension": ".py",
   "mimetype": "text/x-python",
   "name": "python",
   "nbconvert_exporter": "python",
   "pygments_lexer": "ipython3",
   "version": "3.10.5"
  }
 },
 "nbformat": 4,
 "nbformat_minor": 2
}
